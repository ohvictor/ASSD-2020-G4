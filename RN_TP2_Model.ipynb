{
  "nbformat": 4,
  "nbformat_minor": 0,
  "metadata": {
    "colab": {
      "name": "RN-TP2-Model.ipynb",
      "provenance": [],
      "collapsed_sections": [
        "ocTQLQe_W7Us",
        "rOi4Ts0hiT3w"
      ],
      "toc_visible": true,
      "authorship_tag": "ABX9TyNbUKqwB7FJgaQFZXqJqEB0",
      "include_colab_link": true
    },
    "kernelspec": {
      "name": "python3",
      "display_name": "Python 3"
    },
    "language_info": {
      "name": "python"
    },
    "accelerator": "GPU"
  },
  "cells": [
    {
      "cell_type": "markdown",
      "metadata": {
        "id": "view-in-github",
        "colab_type": "text"
      },
      "source": [
        "<a href=\"https://colab.research.google.com/github/ohvictor/ASSD-2020-G4/blob/master/RN_TP2_Model.ipynb\" target=\"_parent\"><img src=\"https://colab.research.google.com/assets/colab-badge.svg\" alt=\"Open In Colab\"/></a>"
      ]
    },
    {
      "cell_type": "markdown",
      "metadata": {
        "id": "zGqA9MW3N8sm"
      },
      "source": [
        "# Install (correr solo una vez)"
      ]
    },
    {
      "cell_type": "code",
      "metadata": {
        "colab": {
          "base_uri": "https://localhost:8080/"
        },
        "id": "Vi4CdlIbNu5V",
        "outputId": "81c0bc21-9f5b-455b-9379-c22d9e3d61ab"
      },
      "source": [
        "pip install pandas_summary"
      ],
      "execution_count": 3,
      "outputs": [
        {
          "output_type": "stream",
          "name": "stdout",
          "text": [
            "Collecting pandas_summary\n",
            "  Downloading pandas_summary-0.0.7-py2.py3-none-any.whl (5.2 kB)\n",
            "Requirement already satisfied: numpy in /usr/local/lib/python3.7/dist-packages (from pandas_summary) (1.19.5)\n",
            "Requirement already satisfied: pandas in /usr/local/lib/python3.7/dist-packages (from pandas_summary) (1.1.5)\n",
            "Requirement already satisfied: python-dateutil>=2.7.3 in /usr/local/lib/python3.7/dist-packages (from pandas->pandas_summary) (2.8.2)\n",
            "Requirement already satisfied: pytz>=2017.2 in /usr/local/lib/python3.7/dist-packages (from pandas->pandas_summary) (2018.9)\n",
            "Requirement already satisfied: six>=1.5 in /usr/local/lib/python3.7/dist-packages (from python-dateutil>=2.7.3->pandas->pandas_summary) (1.15.0)\n",
            "Installing collected packages: pandas-summary\n",
            "Successfully installed pandas-summary-0.0.7\n"
          ]
        }
      ]
    },
    {
      "cell_type": "code",
      "metadata": {
        "colab": {
          "base_uri": "https://localhost:8080/"
        },
        "id": "yP6EIhRKWpXN",
        "outputId": "a65ac11d-4ce8-4064-b8ce-067d443c8975"
      },
      "source": [
        "pip install isoweek"
      ],
      "execution_count": 4,
      "outputs": [
        {
          "output_type": "stream",
          "name": "stdout",
          "text": [
            "Collecting isoweek\n",
            "  Downloading isoweek-1.3.3-py2.py3-none-any.whl (7.1 kB)\n",
            "Installing collected packages: isoweek\n",
            "Successfully installed isoweek-1.3.3\n"
          ]
        }
      ]
    },
    {
      "cell_type": "markdown",
      "metadata": {
        "id": "2wY8PBmYN4g8"
      },
      "source": [
        "# Paquetes"
      ]
    },
    {
      "cell_type": "code",
      "metadata": {
        "id": "RQjHdDxkCOxP"
      },
      "source": [
        "import pandas as pd\n",
        "import numpy as np\n",
        "import datetime\n",
        "\n",
        "from pandas_summary import DataFrameSummary\n",
        "from isoweek import Week"
      ],
      "execution_count": 9,
      "outputs": []
    },
    {
      "cell_type": "code",
      "metadata": {
        "id": "JgPUXdFAORE9"
      },
      "source": [
        "PATH = 'dataset/rossmann/'"
      ],
      "execution_count": 10,
      "outputs": []
    },
    {
      "cell_type": "markdown",
      "metadata": {
        "id": "fjT6R5VnXFNe"
      },
      "source": [
        "# 1. Data Visualization"
      ]
    },
    {
      "cell_type": "code",
      "metadata": {
        "id": "MIELRJzrTCxd"
      },
      "source": [
        "table_names = ['train', 'store', 'store_states', 'state_names', 'googletrend', 'weather']\n",
        "train, store, store_states, state_names, googletrend, weather = [pd.read_csv(PATH + fname+'.csv', \n",
        "                                                                             low_memory=False) for fname in table_names]"
      ],
      "execution_count": 12,
      "outputs": []
    },
    {
      "cell_type": "code",
      "metadata": {
        "colab": {
          "base_uri": "https://localhost:8080/",
          "height": 635
        },
        "id": "nFmjy8kJWVU3",
        "outputId": "57312d01-2636-4cbe-d920-85f5eafff06e"
      },
      "source": [
        "display(train.head())\n",
        "display(DataFrameSummary(train).summary())"
      ],
      "execution_count": 13,
      "outputs": [
        {
          "output_type": "display_data",
          "data": {
            "text/html": [
              "<div>\n",
              "<style scoped>\n",
              "    .dataframe tbody tr th:only-of-type {\n",
              "        vertical-align: middle;\n",
              "    }\n",
              "\n",
              "    .dataframe tbody tr th {\n",
              "        vertical-align: top;\n",
              "    }\n",
              "\n",
              "    .dataframe thead th {\n",
              "        text-align: right;\n",
              "    }\n",
              "</style>\n",
              "<table border=\"1\" class=\"dataframe\">\n",
              "  <thead>\n",
              "    <tr style=\"text-align: right;\">\n",
              "      <th></th>\n",
              "      <th>Store</th>\n",
              "      <th>DayOfWeek</th>\n",
              "      <th>Date</th>\n",
              "      <th>Sales</th>\n",
              "      <th>Customers</th>\n",
              "      <th>Open</th>\n",
              "      <th>Promo</th>\n",
              "      <th>StateHoliday</th>\n",
              "      <th>SchoolHoliday</th>\n",
              "    </tr>\n",
              "  </thead>\n",
              "  <tbody>\n",
              "    <tr>\n",
              "      <th>0</th>\n",
              "      <td>1</td>\n",
              "      <td>5</td>\n",
              "      <td>2015-07-31</td>\n",
              "      <td>5263</td>\n",
              "      <td>555</td>\n",
              "      <td>1</td>\n",
              "      <td>1</td>\n",
              "      <td>0</td>\n",
              "      <td>1</td>\n",
              "    </tr>\n",
              "    <tr>\n",
              "      <th>1</th>\n",
              "      <td>2</td>\n",
              "      <td>5</td>\n",
              "      <td>2015-07-31</td>\n",
              "      <td>6064</td>\n",
              "      <td>625</td>\n",
              "      <td>1</td>\n",
              "      <td>1</td>\n",
              "      <td>0</td>\n",
              "      <td>1</td>\n",
              "    </tr>\n",
              "    <tr>\n",
              "      <th>2</th>\n",
              "      <td>3</td>\n",
              "      <td>5</td>\n",
              "      <td>2015-07-31</td>\n",
              "      <td>8314</td>\n",
              "      <td>821</td>\n",
              "      <td>1</td>\n",
              "      <td>1</td>\n",
              "      <td>0</td>\n",
              "      <td>1</td>\n",
              "    </tr>\n",
              "    <tr>\n",
              "      <th>3</th>\n",
              "      <td>4</td>\n",
              "      <td>5</td>\n",
              "      <td>2015-07-31</td>\n",
              "      <td>13995</td>\n",
              "      <td>1498</td>\n",
              "      <td>1</td>\n",
              "      <td>1</td>\n",
              "      <td>0</td>\n",
              "      <td>1</td>\n",
              "    </tr>\n",
              "    <tr>\n",
              "      <th>4</th>\n",
              "      <td>5</td>\n",
              "      <td>5</td>\n",
              "      <td>2015-07-31</td>\n",
              "      <td>4822</td>\n",
              "      <td>559</td>\n",
              "      <td>1</td>\n",
              "      <td>1</td>\n",
              "      <td>0</td>\n",
              "      <td>1</td>\n",
              "    </tr>\n",
              "  </tbody>\n",
              "</table>\n",
              "</div>"
            ],
            "text/plain": [
              "   Store  DayOfWeek        Date  Sales  ...  Open  Promo  StateHoliday SchoolHoliday\n",
              "0      1          5  2015-07-31   5263  ...     1      1             0             1\n",
              "1      2          5  2015-07-31   6064  ...     1      1             0             1\n",
              "2      3          5  2015-07-31   8314  ...     1      1             0             1\n",
              "3      4          5  2015-07-31  13995  ...     1      1             0             1\n",
              "4      5          5  2015-07-31   4822  ...     1      1             0             1\n",
              "\n",
              "[5 rows x 9 columns]"
            ]
          },
          "metadata": {}
        },
        {
          "output_type": "display_data",
          "data": {
            "text/html": [
              "<div>\n",
              "<style scoped>\n",
              "    .dataframe tbody tr th:only-of-type {\n",
              "        vertical-align: middle;\n",
              "    }\n",
              "\n",
              "    .dataframe tbody tr th {\n",
              "        vertical-align: top;\n",
              "    }\n",
              "\n",
              "    .dataframe thead th {\n",
              "        text-align: right;\n",
              "    }\n",
              "</style>\n",
              "<table border=\"1\" class=\"dataframe\">\n",
              "  <thead>\n",
              "    <tr style=\"text-align: right;\">\n",
              "      <th></th>\n",
              "      <th>Store</th>\n",
              "      <th>DayOfWeek</th>\n",
              "      <th>Date</th>\n",
              "      <th>Sales</th>\n",
              "      <th>Customers</th>\n",
              "      <th>Open</th>\n",
              "      <th>Promo</th>\n",
              "      <th>StateHoliday</th>\n",
              "      <th>SchoolHoliday</th>\n",
              "    </tr>\n",
              "  </thead>\n",
              "  <tbody>\n",
              "    <tr>\n",
              "      <th>count</th>\n",
              "      <td>1.01721e+06</td>\n",
              "      <td>1.01721e+06</td>\n",
              "      <td>NaN</td>\n",
              "      <td>1.01721e+06</td>\n",
              "      <td>1.01721e+06</td>\n",
              "      <td>1.01721e+06</td>\n",
              "      <td>1.01721e+06</td>\n",
              "      <td>NaN</td>\n",
              "      <td>1.01721e+06</td>\n",
              "    </tr>\n",
              "    <tr>\n",
              "      <th>mean</th>\n",
              "      <td>558.43</td>\n",
              "      <td>3.99834</td>\n",
              "      <td>NaN</td>\n",
              "      <td>5773.82</td>\n",
              "      <td>633.146</td>\n",
              "      <td>0.830107</td>\n",
              "      <td>0.381515</td>\n",
              "      <td>NaN</td>\n",
              "      <td>0.178647</td>\n",
              "    </tr>\n",
              "    <tr>\n",
              "      <th>std</th>\n",
              "      <td>321.909</td>\n",
              "      <td>1.99739</td>\n",
              "      <td>NaN</td>\n",
              "      <td>3849.93</td>\n",
              "      <td>464.412</td>\n",
              "      <td>0.375539</td>\n",
              "      <td>0.485759</td>\n",
              "      <td>NaN</td>\n",
              "      <td>0.383056</td>\n",
              "    </tr>\n",
              "    <tr>\n",
              "      <th>min</th>\n",
              "      <td>1</td>\n",
              "      <td>1</td>\n",
              "      <td>NaN</td>\n",
              "      <td>0</td>\n",
              "      <td>0</td>\n",
              "      <td>0</td>\n",
              "      <td>0</td>\n",
              "      <td>NaN</td>\n",
              "      <td>0</td>\n",
              "    </tr>\n",
              "    <tr>\n",
              "      <th>25%</th>\n",
              "      <td>280</td>\n",
              "      <td>2</td>\n",
              "      <td>NaN</td>\n",
              "      <td>3727</td>\n",
              "      <td>405</td>\n",
              "      <td>1</td>\n",
              "      <td>0</td>\n",
              "      <td>NaN</td>\n",
              "      <td>0</td>\n",
              "    </tr>\n",
              "    <tr>\n",
              "      <th>50%</th>\n",
              "      <td>558</td>\n",
              "      <td>4</td>\n",
              "      <td>NaN</td>\n",
              "      <td>5744</td>\n",
              "      <td>609</td>\n",
              "      <td>1</td>\n",
              "      <td>0</td>\n",
              "      <td>NaN</td>\n",
              "      <td>0</td>\n",
              "    </tr>\n",
              "    <tr>\n",
              "      <th>75%</th>\n",
              "      <td>838</td>\n",
              "      <td>6</td>\n",
              "      <td>NaN</td>\n",
              "      <td>7856</td>\n",
              "      <td>837</td>\n",
              "      <td>1</td>\n",
              "      <td>1</td>\n",
              "      <td>NaN</td>\n",
              "      <td>0</td>\n",
              "    </tr>\n",
              "    <tr>\n",
              "      <th>max</th>\n",
              "      <td>1115</td>\n",
              "      <td>7</td>\n",
              "      <td>NaN</td>\n",
              "      <td>41551</td>\n",
              "      <td>7388</td>\n",
              "      <td>1</td>\n",
              "      <td>1</td>\n",
              "      <td>NaN</td>\n",
              "      <td>1</td>\n",
              "    </tr>\n",
              "    <tr>\n",
              "      <th>counts</th>\n",
              "      <td>1017209</td>\n",
              "      <td>1017209</td>\n",
              "      <td>1017209</td>\n",
              "      <td>1017209</td>\n",
              "      <td>1017209</td>\n",
              "      <td>1017209</td>\n",
              "      <td>1017209</td>\n",
              "      <td>1017209</td>\n",
              "      <td>1017209</td>\n",
              "    </tr>\n",
              "    <tr>\n",
              "      <th>uniques</th>\n",
              "      <td>1115</td>\n",
              "      <td>7</td>\n",
              "      <td>942</td>\n",
              "      <td>21734</td>\n",
              "      <td>4086</td>\n",
              "      <td>2</td>\n",
              "      <td>2</td>\n",
              "      <td>4</td>\n",
              "      <td>2</td>\n",
              "    </tr>\n",
              "    <tr>\n",
              "      <th>missing</th>\n",
              "      <td>0</td>\n",
              "      <td>0</td>\n",
              "      <td>0</td>\n",
              "      <td>0</td>\n",
              "      <td>0</td>\n",
              "      <td>0</td>\n",
              "      <td>0</td>\n",
              "      <td>0</td>\n",
              "      <td>0</td>\n",
              "    </tr>\n",
              "    <tr>\n",
              "      <th>missing_perc</th>\n",
              "      <td>0%</td>\n",
              "      <td>0%</td>\n",
              "      <td>0%</td>\n",
              "      <td>0%</td>\n",
              "      <td>0%</td>\n",
              "      <td>0%</td>\n",
              "      <td>0%</td>\n",
              "      <td>0%</td>\n",
              "      <td>0%</td>\n",
              "    </tr>\n",
              "    <tr>\n",
              "      <th>types</th>\n",
              "      <td>numeric</td>\n",
              "      <td>numeric</td>\n",
              "      <td>categorical</td>\n",
              "      <td>numeric</td>\n",
              "      <td>numeric</td>\n",
              "      <td>bool</td>\n",
              "      <td>bool</td>\n",
              "      <td>categorical</td>\n",
              "      <td>bool</td>\n",
              "    </tr>\n",
              "  </tbody>\n",
              "</table>\n",
              "</div>"
            ],
            "text/plain": [
              "                    Store    DayOfWeek  ... StateHoliday SchoolHoliday\n",
              "count         1.01721e+06  1.01721e+06  ...          NaN   1.01721e+06\n",
              "mean               558.43      3.99834  ...          NaN      0.178647\n",
              "std               321.909      1.99739  ...          NaN      0.383056\n",
              "min                     1            1  ...          NaN             0\n",
              "25%                   280            2  ...          NaN             0\n",
              "50%                   558            4  ...          NaN             0\n",
              "75%                   838            6  ...          NaN             0\n",
              "max                  1115            7  ...          NaN             1\n",
              "counts            1017209      1017209  ...      1017209       1017209\n",
              "uniques              1115            7  ...            4             2\n",
              "missing                 0            0  ...            0             0\n",
              "missing_perc           0%           0%  ...           0%            0%\n",
              "types             numeric      numeric  ...  categorical          bool\n",
              "\n",
              "[13 rows x 9 columns]"
            ]
          },
          "metadata": {}
        }
      ]
    },
    {
      "cell_type": "markdown",
      "metadata": {
        "id": "ocTQLQe_W7Us"
      },
      "source": [
        "# 2. Missing Data"
      ]
    },
    {
      "cell_type": "code",
      "metadata": {
        "id": "zEixJKszW5B-"
      },
      "source": [
        "table_names = ['train', 'test', 'store', 'store_states', 'state_names', 'googletrend', 'weather']\n",
        "train, test, store, store_states, state_names, googletrend, weather = dfs = [pd.read_csv(PATH + fname+'.csv', \n",
        "                                                                             low_memory=False) for fname in table_names]"
      ],
      "execution_count": 14,
      "outputs": []
    },
    {
      "cell_type": "code",
      "metadata": {
        "id": "axdAaP4oWdf8"
      },
      "source": [
        "def get_missing_columns(df):\n",
        "    return list(df.columns[df.describe(include = 'all').loc['count']<len(df)])"
      ],
      "execution_count": 15,
      "outputs": []
    },
    {
      "cell_type": "code",
      "metadata": {
        "colab": {
          "base_uri": "https://localhost:8080/"
        },
        "id": "fzFzT84oW0it",
        "outputId": "378b4241-1016-4bb4-9b63-f2d6f83ebf7a"
      },
      "source": [
        "for i, df in enumerate(dfs):\n",
        "    print(table_names[i], get_missing_columns(df))"
      ],
      "execution_count": 16,
      "outputs": [
        {
          "output_type": "stream",
          "name": "stdout",
          "text": [
            "train []\n",
            "test ['Open']\n",
            "store ['CompetitionDistance', 'CompetitionOpenSinceMonth', 'CompetitionOpenSinceYear', 'Promo2SinceWeek', 'Promo2SinceYear', 'PromoInterval']\n",
            "store_states []\n",
            "state_names []\n",
            "googletrend []\n",
            "weather ['Max_VisibilityKm', 'Mean_VisibilityKm', 'Min_VisibilitykM', 'Max_Gust_SpeedKm_h', 'CloudCover', 'Events']\n"
          ]
        }
      ]
    },
    {
      "cell_type": "code",
      "metadata": {
        "id": "4WtnPT2vXOJd"
      },
      "source": [
        "# Si no es dia 7 esta abierto - Verificado que el store 622 esta usualmente cerrado el día 7\n",
        "test.loc[test['Open'].isna(), 'Open'] = (test[test['Open'].isna()]['DayOfWeek'] != 7)*1.0"
      ],
      "execution_count": 17,
      "outputs": []
    },
    {
      "cell_type": "code",
      "metadata": {
        "id": "tQPnAD4dXOpd"
      },
      "source": [
        "# Fechas de las mas antiguas segun datos y tambien las fechas anteriores las pongo como minimo en 1990\n",
        "store.loc[store['CompetitionOpenSinceYear'].isna() | (store['CompetitionOpenSinceYear']<1990), 'CompetitionOpenSinceYear'] = np.int32(1990)\n",
        "store.loc[store['CompetitionOpenSinceMonth'].isna() | (store['CompetitionOpenSinceYear']<1990), 'CompetitionOpenSinceMonth'] = np.int32(1)"
      ],
      "execution_count": 18,
      "outputs": []
    },
    {
      "cell_type": "code",
      "metadata": {
        "colab": {
          "base_uri": "https://localhost:8080/"
        },
        "id": "ydiEDeO3XS90",
        "outputId": "3b6f91de-db87-4f26-9011-0a547af2a2d0"
      },
      "source": [
        "# Si no tengo la distancia, supongo que no hay (Como si estuviera lejos)\n",
        "print(store['CompetitionDistance'].max(), store['CompetitionDistance'].mean(), store['CompetitionDistance'].min())\n",
        "store.loc[store['CompetitionDistance'].isna(), 'CompetitionDistance'] = store['CompetitionDistance'].max()"
      ],
      "execution_count": 19,
      "outputs": [
        {
          "output_type": "stream",
          "name": "stdout",
          "text": [
            "75860.0 5404.901079136691 20.0\n"
          ]
        }
      ]
    },
    {
      "cell_type": "code",
      "metadata": {
        "id": "iPY22YSAXV2v"
      },
      "source": [
        "# Si no tiene Promo2 entonces la semana en donde empezo es cero. Esto será tratado como categórica por eso tiene sentido\n",
        "store.loc[store['Promo2SinceWeek'].isna() & (store['Promo2'] == 0), 'Promo2SinceWeek'] = np.int32(1)\n",
        "store.loc[store['Promo2SinceYear'].isna() & (store['Promo2'] == 0), 'Promo2SinceYear'] = np.int32(1990)\n",
        "store.loc[store['PromoInterval'].isna() & (store['Promo2'] == 0), 'PromoInterval'] = '-'"
      ],
      "execution_count": 20,
      "outputs": []
    },
    {
      "cell_type": "code",
      "metadata": {
        "id": "u8qi3MKjXXZu"
      },
      "source": [
        "# Supongo que son dias tranquilos (de todas formas no se usaran para la predicción)\n",
        "weather.loc[weather['Max_VisibilityKm'].isna(), 'Max_VisibilityKm'] = weather['Max_VisibilityKm'].max()\n",
        "weather.loc[weather['Mean_VisibilityKm'].isna(), 'Mean_VisibilityKm'] = weather['Mean_VisibilityKm'].max()\n",
        "weather.loc[weather['Min_VisibilitykM'].isna(), 'Min_VisibilitykM'] = weather['Min_VisibilitykM'].max()\n",
        "weather.loc[weather['Max_Gust_SpeedKm_h'].isna(), 'Max_Gust_SpeedKm_h'] = weather['Max_Gust_SpeedKm_h'].min()\n",
        "weather.loc[weather['CloudCover'].isna(), 'CloudCover'] = weather['CloudCover'].min()\n",
        "weather.loc[weather['Events'].isna(), 'Events'] = 'Sunny'"
      ],
      "execution_count": 21,
      "outputs": []
    },
    {
      "cell_type": "code",
      "metadata": {
        "colab": {
          "base_uri": "https://localhost:8080/"
        },
        "id": "mn3n9d_gXYO_",
        "outputId": "88079072-9fdb-4591-8122-4a0889284901"
      },
      "source": [
        "for i, df in enumerate(dfs):\n",
        "    print(table_names[i], get_missing_columns(df))"
      ],
      "execution_count": 22,
      "outputs": [
        {
          "output_type": "stream",
          "name": "stdout",
          "text": [
            "train []\n",
            "test []\n",
            "store []\n",
            "store_states []\n",
            "state_names []\n",
            "googletrend []\n",
            "weather []\n"
          ]
        }
      ]
    },
    {
      "cell_type": "code",
      "metadata": {
        "id": "ifo_JZNkZLU9"
      },
      "source": [
        "store['CompetitionOpenSinceYear'] = store['CompetitionOpenSinceYear'].astype(np.int32)\n",
        "store['CompetitionOpenSinceMonth'] = store['CompetitionOpenSinceMonth'].astype(np.int32)\n",
        "store['Promo2SinceWeek'] = store['Promo2SinceWeek'].astype(np.int32)\n",
        "store['Promo2SinceYear'] = store['Promo2SinceYear'].astype(np.int32)"
      ],
      "execution_count": 23,
      "outputs": []
    },
    {
      "cell_type": "code",
      "metadata": {
        "id": "HSaM4pFIZMeY"
      },
      "source": [
        "# Creo una nueva columna con fecha de apertura en formato de fecha (dia 15 por que no tengo el dato y no es relevante)\n",
        "store['CompetitionOpenSince'] = pd.to_datetime(store.apply(lambda x: datetime.datetime(\n",
        "    x.CompetitionOpenSinceYear, x.CompetitionOpenSinceMonth, 15), axis=1))"
      ],
      "execution_count": 24,
      "outputs": []
    },
    {
      "cell_type": "code",
      "metadata": {
        "id": "Q68gi0E4ZNRN"
      },
      "source": [
        "store[\"Promo2Since\"] = pd.to_datetime(store.apply(lambda x: Week(\n",
        "    x.Promo2SinceYear, x.Promo2SinceWeek).monday(), axis=1))"
      ],
      "execution_count": 25,
      "outputs": []
    },
    {
      "cell_type": "code",
      "metadata": {
        "id": "C9efp_2tZOal"
      },
      "source": [
        "def join_df(left, right, left_on, right_on=None):\n",
        "    if right_on is None: right_on = left_on\n",
        "    return left.merge(right, how='left', left_on=left_on, right_on=right_on, \n",
        "                      suffixes=(\"\", \"_y\"))"
      ],
      "execution_count": 26,
      "outputs": []
    },
    {
      "cell_type": "markdown",
      "metadata": {
        "id": "_yTN3x1PZUbd"
      },
      "source": [
        "Join the Weather y State Names"
      ]
    },
    {
      "cell_type": "code",
      "metadata": {
        "id": "2Qg49-ktZQ6m"
      },
      "source": [
        "weather = join_df(weather, state_names, \"file\", \"StateName\")"
      ],
      "execution_count": 27,
      "outputs": []
    },
    {
      "cell_type": "markdown",
      "metadata": {
        "id": "0SZVuQLUZZd-"
      },
      "source": [
        "GoogleTrend"
      ]
    },
    {
      "cell_type": "code",
      "metadata": {
        "id": "eYieNIJNZc-F"
      },
      "source": [
        "# Armo columan date con el primer día de la semana\n",
        "googletrend['Date'] = googletrend.week.str.split(' - ', expand=True)[0]"
      ],
      "execution_count": 28,
      "outputs": []
    },
    {
      "cell_type": "code",
      "metadata": {
        "id": "lM5URsPCZegA"
      },
      "source": [
        "# Armo columna de State con el nomnre del estado\n",
        "googletrend['State'] = googletrend.file.str.split('_', expand=True)[2]"
      ],
      "execution_count": 29,
      "outputs": []
    },
    {
      "cell_type": "code",
      "metadata": {
        "id": "W9VBHGuRZg4m"
      },
      "source": [
        "# Lo corrijo\n",
        "googletrend.loc[googletrend.State=='NI', \"State\"] = 'HB,NI'"
      ],
      "execution_count": 30,
      "outputs": []
    },
    {
      "cell_type": "markdown",
      "metadata": {
        "id": "MjnU6mACZkdW"
      },
      "source": [
        "Transformación de Fecha"
      ]
    },
    {
      "cell_type": "code",
      "metadata": {
        "colab": {
          "base_uri": "https://localhost:8080/"
        },
        "id": "IHk7OJf9Zlwe",
        "outputId": "42294d43-b39d-412b-9308-e56b8d5e06ea"
      },
      "source": [
        "def add_datepart(df):\n",
        "    df.Date = pd.to_datetime(df.Date)\n",
        "    df[\"Year\"] = df.Date.dt.year\n",
        "    df[\"Month\"] = df.Date.dt.month\n",
        "    df[\"Week\"] = df.Date.dt.week\n",
        "    df[\"Day\"] = df.Date.dt.day\n",
        "    \n",
        "add_datepart(weather)\n",
        "add_datepart(googletrend)\n",
        "add_datepart(train)\n",
        "add_datepart(test)"
      ],
      "execution_count": 31,
      "outputs": [
        {
          "output_type": "stream",
          "name": "stderr",
          "text": [
            "/usr/local/lib/python3.7/dist-packages/ipykernel_launcher.py:5: FutureWarning: Series.dt.weekofyear and Series.dt.week have been deprecated.  Please use Series.dt.isocalendar().week instead.\n",
            "  \"\"\"\n"
          ]
        }
      ]
    },
    {
      "cell_type": "code",
      "metadata": {
        "id": "5vCf9dzTZnt3"
      },
      "source": [
        "# Trends generales de alemania tienen el state en None\n",
        "trend_de = googletrend[googletrend.file == 'Rossmann_DE']"
      ],
      "execution_count": 32,
      "outputs": []
    },
    {
      "cell_type": "markdown",
      "metadata": {
        "id": "sIbryNCnZs2F"
      },
      "source": [
        "Termino Joins"
      ]
    },
    {
      "cell_type": "code",
      "metadata": {
        "colab": {
          "base_uri": "https://localhost:8080/"
        },
        "id": "naFDpex0ZvGF",
        "outputId": "c68e2b4b-edb5-4859-c003-2d036aa86119"
      },
      "source": [
        "# Agrego acronimo de state al store\n",
        "store = join_df(store, store_states, \"Store\")\n",
        "len(store[store.State.isnull()])"
      ],
      "execution_count": 33,
      "outputs": [
        {
          "output_type": "execute_result",
          "data": {
            "text/plain": [
              "0"
            ]
          },
          "metadata": {},
          "execution_count": 33
        }
      ]
    },
    {
      "cell_type": "code",
      "metadata": {
        "colab": {
          "base_uri": "https://localhost:8080/"
        },
        "id": "cSPf-5wsZwgF",
        "outputId": "c56809a8-1988-4d95-f7f6-4c417d347f19"
      },
      "source": [
        "# Mergeo train y store\n",
        "joined_train = join_df(train, store, \"Store\")\n",
        "len(joined_train[joined_train.StoreType.isnull()])"
      ],
      "execution_count": 34,
      "outputs": [
        {
          "output_type": "execute_result",
          "data": {
            "text/plain": [
              "0"
            ]
          },
          "metadata": {},
          "execution_count": 34
        }
      ]
    },
    {
      "cell_type": "code",
      "metadata": {
        "colab": {
          "base_uri": "https://localhost:8080/"
        },
        "id": "D_fA8AJnZxud",
        "outputId": "5d02ba3c-6224-4c8f-903d-d9757efa67ef"
      },
      "source": [
        "# Mergeo test y store\n",
        "joined_test = join_df(test, store, \"Store\")\n",
        "len(joined_test[joined_test.StoreType.isnull()])"
      ],
      "execution_count": 35,
      "outputs": [
        {
          "output_type": "execute_result",
          "data": {
            "text/plain": [
              "0"
            ]
          },
          "metadata": {},
          "execution_count": 35
        }
      ]
    },
    {
      "cell_type": "code",
      "metadata": {
        "colab": {
          "base_uri": "https://localhost:8080/"
        },
        "id": "IjPON8DMZy9l",
        "outputId": "72a4541d-873c-4bea-eeaa-8ed24c08b214"
      },
      "source": [
        "# Mergeo con googletrend\n",
        "joined_train = join_df(joined_train, googletrend, [\"State\",\"Year\", \"Week\"])\n",
        "len(joined_train[joined_train.trend.isnull()])\n",
        "joined_test = join_df(joined_test, googletrend, [\"State\",\"Year\", \"Week\"])\n",
        "len(joined_test[joined_test.trend.isnull()])\n",
        "\n",
        "joined_train = joined_train.merge(trend_de, 'left', [\"Year\", \"Week\"], suffixes=('', '_DE'))\n",
        "len(joined_train[joined_train.trend_DE.isnull()])\n",
        "joined_test = joined_test.merge(trend_de, 'left', [\"Year\", \"Week\"], suffixes=('', '_DE'))\n",
        "len(joined_test[joined_test.trend_DE.isnull()])\n",
        "\n",
        "joined_train = join_df(joined_train, weather, [\"State\",\"Date\"])\n",
        "len(joined_train[joined_train.Mean_TemperatureC.isnull()])\n",
        "joined_test = join_df(joined_test, weather, [\"State\",\"Date\"])\n",
        "len(joined_test[joined_test.Mean_TemperatureC.isnull()])"
      ],
      "execution_count": 36,
      "outputs": [
        {
          "output_type": "execute_result",
          "data": {
            "text/plain": [
              "0"
            ]
          },
          "metadata": {},
          "execution_count": 36
        }
      ]
    },
    {
      "cell_type": "markdown",
      "metadata": {
        "id": "p4OZI_Prak4_"
      },
      "source": [
        "Competition Days"
      ]
    },
    {
      "cell_type": "code",
      "metadata": {
        "colab": {
          "base_uri": "https://localhost:8080/"
        },
        "id": "VcCNDFpxa_WV",
        "outputId": "3519d196-cc67-43ba-b2d5-c63a6b1a5ac1"
      },
      "source": [
        "joined_train[\"CompetitionDaysOpen\"] = joined_train.Date.subtract(joined_train[\"CompetitionOpenSince\"]).dt.days\n",
        "joined_train[\"CompetitionDaysOpen\"][:10]"
      ],
      "execution_count": 37,
      "outputs": [
        {
          "output_type": "execute_result",
          "data": {
            "text/plain": [
              "0    2510\n",
              "1    2815\n",
              "2    3150\n",
              "3    2145\n",
              "4     107\n",
              "5     593\n",
              "6     837\n",
              "7     289\n",
              "8    5463\n",
              "9    2145\n",
              "Name: CompetitionDaysOpen, dtype: int64"
            ]
          },
          "metadata": {},
          "execution_count": 37
        }
      ]
    },
    {
      "cell_type": "code",
      "metadata": {
        "colab": {
          "base_uri": "https://localhost:8080/"
        },
        "id": "DnuOqk52bARF",
        "outputId": "816c6e38-af59-44a0-8eb3-4d1750c61539"
      },
      "source": [
        "joined_test[\"CompetitionDaysOpen\"] = joined_test.Date.subtract(joined_test[\"CompetitionOpenSince\"]).dt.days\n",
        "joined_test[\"CompetitionDaysOpen\"][:10]"
      ],
      "execution_count": 38,
      "outputs": [
        {
          "output_type": "execute_result",
          "data": {
            "text/plain": [
              "0    2558\n",
              "1    3198\n",
              "2     885\n",
              "3     337\n",
              "4    5511\n",
              "5    2193\n",
              "6    1402\n",
              "7    9376\n",
              "8    9376\n",
              "9     551\n",
              "Name: CompetitionDaysOpen, dtype: int64"
            ]
          },
          "metadata": {},
          "execution_count": 38
        }
      ]
    },
    {
      "cell_type": "code",
      "metadata": {
        "id": "3DLt7SraakXl"
      },
      "source": [
        "# Corrige errores de la formula anterior\n",
        "joined_train.loc[joined_train.CompetitionDaysOpen<0, \"CompetitionDaysOpen\"] = 0\n",
        "joined_train.loc[joined_train.CompetitionOpenSinceYear<1990, \"CompetitionDaysOpen\"] = 0"
      ],
      "execution_count": 39,
      "outputs": []
    },
    {
      "cell_type": "code",
      "metadata": {
        "id": "5lMnb_aYav5N"
      },
      "source": [
        "# Corrige errores de la formula anterior\n",
        "joined_test.loc[joined_test.CompetitionDaysOpen<0, \"CompetitionDaysOpen\"] = 0\n",
        "joined_test.loc[joined_test.CompetitionOpenSinceYear<1990, \"CompetitionDaysOpen\"] = 0"
      ],
      "execution_count": 40,
      "outputs": []
    },
    {
      "cell_type": "code",
      "metadata": {
        "colab": {
          "base_uri": "https://localhost:8080/"
        },
        "id": "qj5sU5sHaxMV",
        "outputId": "c94c3e5a-f27d-464f-e541-cb3f0d9083f4"
      },
      "source": [
        "# Lo pone en meses y limita a 2 años como máximo\n",
        "joined_train[\"CompetitionMonthsOpen\"] = joined_train[\"CompetitionDaysOpen\"]//30\n",
        "joined_train.loc[joined_train.CompetitionMonthsOpen>24, \"CompetitionMonthsOpen\"] = 24\n",
        "joined_train.CompetitionMonthsOpen.value_counts()"
      ],
      "execution_count": 41,
      "outputs": [
        {
          "output_type": "execute_result",
          "data": {
            "text/plain": [
              "24    790886\n",
              "0      92590\n",
              "6       6356\n",
              "7       6350\n",
              "4       6278\n",
              "5       6261\n",
              "8       6203\n",
              "9       6138\n",
              "10      6118\n",
              "11      5971\n",
              "12      5867\n",
              "3       5850\n",
              "13      5724\n",
              "15      5699\n",
              "14      5655\n",
              "19      5649\n",
              "2       5621\n",
              "18      5619\n",
              "16      5618\n",
              "22      5558\n",
              "17      5549\n",
              "20      5500\n",
              "1       5482\n",
              "21      5398\n",
              "23      5269\n",
              "Name: CompetitionMonthsOpen, dtype: int64"
            ]
          },
          "metadata": {},
          "execution_count": 41
        }
      ]
    },
    {
      "cell_type": "code",
      "metadata": {
        "colab": {
          "base_uri": "https://localhost:8080/"
        },
        "id": "dcGwTWBsayUu",
        "outputId": "a3fd8f05-72ce-4174-96b6-1f625a7ba9f5"
      },
      "source": [
        "# Lo pone en meses y limita a 2 años como máximo\n",
        "joined_test[\"CompetitionMonthsOpen\"] = joined_test[\"CompetitionDaysOpen\"]//30\n",
        "joined_test.loc[joined_test.CompetitionMonthsOpen>24, \"CompetitionMonthsOpen\"] = 24\n",
        "joined_test.CompetitionMonthsOpen.value_counts()"
      ],
      "execution_count": 42,
      "outputs": [
        {
          "output_type": "execute_result",
          "data": {
            "text/plain": [
              "24    36782\n",
              "23      346\n",
              "17      292\n",
              "16      287\n",
              "13      260\n",
              "1       257\n",
              "10      247\n",
              "11      246\n",
              "14      197\n",
              "0       179\n",
              "18      169\n",
              "12      164\n",
              "8       161\n",
              "2       161\n",
              "4       152\n",
              "5       151\n",
              "20      149\n",
              "21      148\n",
              "22      146\n",
              "3       141\n",
              "15      126\n",
              "9       125\n",
              "19       84\n",
              "7        60\n",
              "6        58\n",
              "Name: CompetitionMonthsOpen, dtype: int64"
            ]
          },
          "metadata": {},
          "execution_count": 42
        }
      ]
    },
    {
      "cell_type": "code",
      "metadata": {
        "colab": {
          "base_uri": "https://localhost:8080/"
        },
        "id": "jqGuKU6vazvg",
        "outputId": "93c5ab03-1958-434d-9b20-9a3b4f3ea6b9"
      },
      "source": [
        "joined_train[\"Promo2Days\"] = joined_train.Date.subtract(joined_train[\"Promo2Since\"]).dt.days\n",
        "joined_train.loc[joined_train.Promo2Days<0, \"Promo2Days\"] = 0\n",
        "joined_train.loc[joined_train.Promo2SinceYear<1990, \"Promo2Days\"] = 0\n",
        "joined_train[\"Promo2Weeks\"] = joined_train[\"Promo2Days\"]//7\n",
        "joined_train.loc[joined_train.Promo2Weeks<0, \"Promo2Weeks\"] = 0\n",
        "joined_train.loc[joined_train.Promo2Weeks>25, \"Promo2Weeks\"] = 25\n",
        "joined_train.Promo2Weeks.value_counts()"
      ],
      "execution_count": 43,
      "outputs": [
        {
          "output_type": "execute_result",
          "data": {
            "text/plain": [
              "25    911602\n",
              "0      70849\n",
              "23      1659\n",
              "21      1659\n",
              "20      1659\n",
              "19      1659\n",
              "16      1659\n",
              "15      1659\n",
              "14      1659\n",
              "24      1659\n",
              "22      1659\n",
              "18      1652\n",
              "17      1633\n",
              "13      1514\n",
              "7       1267\n",
              "6       1267\n",
              "5       1263\n",
              "8       1261\n",
              "11      1260\n",
              "10      1260\n",
              "12      1260\n",
              "9       1258\n",
              "4       1236\n",
              "3       1232\n",
              "2       1232\n",
              "1       1232\n",
              "Name: Promo2Weeks, dtype: int64"
            ]
          },
          "metadata": {},
          "execution_count": 43
        }
      ]
    },
    {
      "cell_type": "code",
      "metadata": {
        "colab": {
          "base_uri": "https://localhost:8080/"
        },
        "id": "-zg7jVkSa1EG",
        "outputId": "ab16a49b-d468-405d-f13a-cd7e98fe986c"
      },
      "source": [
        "joined_test[\"Promo2Days\"] = joined_test.Date.subtract(joined_test[\"Promo2Since\"]).dt.days\n",
        "joined_test.loc[joined_test.Promo2Days<0, \"Promo2Days\"] = 0\n",
        "joined_test.loc[joined_test.Promo2SinceYear<1990, \"Promo2Days\"] = 0\n",
        "joined_test[\"Promo2Weeks\"] = joined_test[\"Promo2Days\"]//7\n",
        "joined_test.loc[joined_test.Promo2Weeks<0, \"Promo2Weeks\"] = 0\n",
        "joined_test.loc[joined_test.Promo2Weeks>25, \"Promo2Weeks\"] = 25\n",
        "joined_test.Promo2Weeks.value_counts()"
      ],
      "execution_count": 44,
      "outputs": [
        {
          "output_type": "execute_result",
          "data": {
            "text/plain": [
              "25    40704\n",
              "19       35\n",
              "18       35\n",
              "20       32\n",
              "23       28\n",
              "22       28\n",
              "21       28\n",
              "14       28\n",
              "13       23\n",
              "9        21\n",
              "12       21\n",
              "11       21\n",
              "10       21\n",
              "15       19\n",
              "24       16\n",
              "17       15\n",
              "16        7\n",
              "8         6\n",
              "Name: Promo2Weeks, dtype: int64"
            ]
          },
          "metadata": {},
          "execution_count": 44
        }
      ]
    },
    {
      "cell_type": "code",
      "metadata": {
        "id": "fRwZ42gCa2cD"
      },
      "source": [
        "# Remove dup columns\n",
        "joined_train = joined_train.loc[:,~joined_train.columns.duplicated()]\n",
        "joined_test = joined_test.loc[:,~joined_test.columns.duplicated()]"
      ],
      "execution_count": 45,
      "outputs": []
    },
    {
      "cell_type": "code",
      "metadata": {
        "colab": {
          "base_uri": "https://localhost:8080/"
        },
        "id": "heRfG64Aa4EO",
        "outputId": "834518f1-2b2d-47f2-a362-ccb268bfe6f0"
      },
      "source": [
        "%time joined_train.to_feather('joined_train_before_durations.fth')"
      ],
      "execution_count": 46,
      "outputs": [
        {
          "output_type": "stream",
          "name": "stdout",
          "text": [
            "CPU times: user 1.13 s, sys: 222 ms, total: 1.35 s\n",
            "Wall time: 1.08 s\n"
          ]
        }
      ]
    },
    {
      "cell_type": "code",
      "metadata": {
        "colab": {
          "base_uri": "https://localhost:8080/"
        },
        "id": "_DMdVvUMa40u",
        "outputId": "7de5e15e-6860-4c5d-8d96-2d42dbb6cf15"
      },
      "source": [
        "%time joined_test.to_feather('joined_test_before_durations.fth')"
      ],
      "execution_count": 47,
      "outputs": [
        {
          "output_type": "stream",
          "name": "stdout",
          "text": [
            "CPU times: user 72.5 ms, sys: 18.8 ms, total: 91.4 ms\n",
            "Wall time: 111 ms\n"
          ]
        }
      ]
    },
    {
      "cell_type": "code",
      "metadata": {
        "colab": {
          "base_uri": "https://localhost:8080/"
        },
        "id": "o3mXbXfra5mO",
        "outputId": "31f52d1a-3d3b-4571-b76b-a3c8ffce238f"
      },
      "source": [
        "set(joined_train.columns) - set(joined_test.columns)"
      ],
      "execution_count": 48,
      "outputs": [
        {
          "output_type": "execute_result",
          "data": {
            "text/plain": [
              "{'Customers', 'Sales'}"
            ]
          },
          "metadata": {},
          "execution_count": 48
        }
      ]
    },
    {
      "cell_type": "code",
      "metadata": {
        "colab": {
          "base_uri": "https://localhost:8080/"
        },
        "id": "zmmL7qnxa6fq",
        "outputId": "e92a0222-958d-44ed-ec62-d67364bd34a6"
      },
      "source": [
        "print(list(weather.columns))"
      ],
      "execution_count": 49,
      "outputs": [
        {
          "output_type": "stream",
          "name": "stdout",
          "text": [
            "['file', 'Date', 'Max_TemperatureC', 'Mean_TemperatureC', 'Min_TemperatureC', 'Dew_PointC', 'MeanDew_PointC', 'Min_DewpointC', 'Max_Humidity', 'Mean_Humidity', 'Min_Humidity', 'Max_Sea_Level_PressurehPa', 'Mean_Sea_Level_PressurehPa', 'Min_Sea_Level_PressurehPa', 'Max_VisibilityKm', 'Mean_VisibilityKm', 'Min_VisibilitykM', 'Max_Wind_SpeedKm_h', 'Mean_Wind_SpeedKm_h', 'Max_Gust_SpeedKm_h', 'Precipitationmm', 'CloudCover', 'Events', 'WindDirDegrees', 'StateName', 'State', 'Year', 'Month', 'Week', 'Day']\n"
          ]
        }
      ]
    },
    {
      "cell_type": "markdown",
      "metadata": {
        "id": "rOi4Ts0hiT3w"
      },
      "source": [
        "# 3. Preprocesamiento de Duraciones"
      ]
    },
    {
      "cell_type": "code",
      "metadata": {
        "id": "cny2YUPTiX7H"
      },
      "source": [
        "joined_train = pd.read_feather('joined_train_before_durations.fth')\n",
        "joined_test = pd.read_feather('joined_test_before_durations.fth')"
      ],
      "execution_count": 50,
      "outputs": []
    },
    {
      "cell_type": "code",
      "metadata": {
        "id": "wPAol0VdmhS0"
      },
      "source": [
        "joined_train['StateHoliday_bool'] = joined_train.StateHoliday!='0'\n",
        "joined_test['StateHoliday_bool'] = joined_test.StateHoliday!='0'"
      ],
      "execution_count": 51,
      "outputs": []
    },
    {
      "cell_type": "code",
      "metadata": {
        "id": "3ogoqFy-mmeH"
      },
      "source": [
        "columns = [\"Date\", \"Store\", \"Promo\", \"StateHoliday_bool\", \"SchoolHoliday\"]"
      ],
      "execution_count": 52,
      "outputs": []
    },
    {
      "cell_type": "code",
      "metadata": {
        "id": "Rf9TtR8ZmndL"
      },
      "source": [
        "class elapsed(object):\n",
        "    def __init__(self, fld):\n",
        "        self.fld = fld\n",
        "        self.last = pd.to_datetime(np.nan)\n",
        "        self.last_store = 0\n",
        "        \n",
        "    def get(self, row):\n",
        "        if row.Store != self.last_store:\n",
        "            self.last = pd.to_datetime(np.nan)\n",
        "            self.last_store = row.Store\n",
        "        if (row[self.fld]): self.last = row.Date\n",
        "        return row.Date-self.last"
      ],
      "execution_count": 53,
      "outputs": []
    },
    {
      "cell_type": "code",
      "metadata": {
        "id": "7DHqVahFmrss"
      },
      "source": [
        "df_train = joined_train[columns]\n",
        "df_test = joined_test[columns]"
      ],
      "execution_count": 54,
      "outputs": []
    },
    {
      "cell_type": "code",
      "metadata": {
        "id": "b_vVZau2mtCM"
      },
      "source": [
        "def add_elapsed(df, fld, prefix):\n",
        "    sh_el = elapsed(fld)\n",
        "    df[prefix+fld] = df.apply(sh_el.get, axis=1)"
      ],
      "execution_count": 55,
      "outputs": []
    },
    {
      "cell_type": "code",
      "metadata": {
        "colab": {
          "base_uri": "https://localhost:8080/",
          "height": 203
        },
        "id": "1-p22LdEmuCc",
        "outputId": "193ef220-4bd1-4519-fa91-ccd6b1dad1ff"
      },
      "source": [
        "fld = 'SchoolHoliday'\n",
        "df_train = df_train.sort_values(['Store', 'Date'])\n",
        "add_elapsed(df_train, fld, 'After')\n",
        "df_train.head()"
      ],
      "execution_count": 56,
      "outputs": [
        {
          "output_type": "execute_result",
          "data": {
            "text/html": [
              "<div>\n",
              "<style scoped>\n",
              "    .dataframe tbody tr th:only-of-type {\n",
              "        vertical-align: middle;\n",
              "    }\n",
              "\n",
              "    .dataframe tbody tr th {\n",
              "        vertical-align: top;\n",
              "    }\n",
              "\n",
              "    .dataframe thead th {\n",
              "        text-align: right;\n",
              "    }\n",
              "</style>\n",
              "<table border=\"1\" class=\"dataframe\">\n",
              "  <thead>\n",
              "    <tr style=\"text-align: right;\">\n",
              "      <th></th>\n",
              "      <th>Date</th>\n",
              "      <th>Store</th>\n",
              "      <th>Promo</th>\n",
              "      <th>StateHoliday_bool</th>\n",
              "      <th>SchoolHoliday</th>\n",
              "      <th>AfterSchoolHoliday</th>\n",
              "    </tr>\n",
              "  </thead>\n",
              "  <tbody>\n",
              "    <tr>\n",
              "      <th>1016095</th>\n",
              "      <td>2013-01-01</td>\n",
              "      <td>1</td>\n",
              "      <td>0</td>\n",
              "      <td>True</td>\n",
              "      <td>1</td>\n",
              "      <td>0 days</td>\n",
              "    </tr>\n",
              "    <tr>\n",
              "      <th>1014980</th>\n",
              "      <td>2013-01-02</td>\n",
              "      <td>1</td>\n",
              "      <td>0</td>\n",
              "      <td>False</td>\n",
              "      <td>1</td>\n",
              "      <td>0 days</td>\n",
              "    </tr>\n",
              "    <tr>\n",
              "      <th>1013865</th>\n",
              "      <td>2013-01-03</td>\n",
              "      <td>1</td>\n",
              "      <td>0</td>\n",
              "      <td>False</td>\n",
              "      <td>1</td>\n",
              "      <td>0 days</td>\n",
              "    </tr>\n",
              "    <tr>\n",
              "      <th>1012750</th>\n",
              "      <td>2013-01-04</td>\n",
              "      <td>1</td>\n",
              "      <td>0</td>\n",
              "      <td>False</td>\n",
              "      <td>1</td>\n",
              "      <td>0 days</td>\n",
              "    </tr>\n",
              "    <tr>\n",
              "      <th>1011635</th>\n",
              "      <td>2013-01-05</td>\n",
              "      <td>1</td>\n",
              "      <td>0</td>\n",
              "      <td>False</td>\n",
              "      <td>1</td>\n",
              "      <td>0 days</td>\n",
              "    </tr>\n",
              "  </tbody>\n",
              "</table>\n",
              "</div>"
            ],
            "text/plain": [
              "              Date  Store  ...  SchoolHoliday  AfterSchoolHoliday\n",
              "1016095 2013-01-01      1  ...              1              0 days\n",
              "1014980 2013-01-02      1  ...              1              0 days\n",
              "1013865 2013-01-03      1  ...              1              0 days\n",
              "1012750 2013-01-04      1  ...              1              0 days\n",
              "1011635 2013-01-05      1  ...              1              0 days\n",
              "\n",
              "[5 rows x 6 columns]"
            ]
          },
          "metadata": {},
          "execution_count": 56
        }
      ]
    },
    {
      "cell_type": "code",
      "metadata": {
        "colab": {
          "base_uri": "https://localhost:8080/",
          "height": 203
        },
        "id": "zf6HwbAJmvTl",
        "outputId": "84f576d6-cf69-4106-ee20-1a517d1e5d5a"
      },
      "source": [
        "df_test = df_test.sort_values(['Store', 'Date'])\n",
        "add_elapsed(df_test, fld, 'After')\n",
        "df_test.head()"
      ],
      "execution_count": 57,
      "outputs": [
        {
          "output_type": "execute_result",
          "data": {
            "text/html": [
              "<div>\n",
              "<style scoped>\n",
              "    .dataframe tbody tr th:only-of-type {\n",
              "        vertical-align: middle;\n",
              "    }\n",
              "\n",
              "    .dataframe tbody tr th {\n",
              "        vertical-align: top;\n",
              "    }\n",
              "\n",
              "    .dataframe thead th {\n",
              "        text-align: right;\n",
              "    }\n",
              "</style>\n",
              "<table border=\"1\" class=\"dataframe\">\n",
              "  <thead>\n",
              "    <tr style=\"text-align: right;\">\n",
              "      <th></th>\n",
              "      <th>Date</th>\n",
              "      <th>Store</th>\n",
              "      <th>Promo</th>\n",
              "      <th>StateHoliday_bool</th>\n",
              "      <th>SchoolHoliday</th>\n",
              "      <th>AfterSchoolHoliday</th>\n",
              "    </tr>\n",
              "  </thead>\n",
              "  <tbody>\n",
              "    <tr>\n",
              "      <th>40232</th>\n",
              "      <td>2015-08-01</td>\n",
              "      <td>1</td>\n",
              "      <td>0</td>\n",
              "      <td>False</td>\n",
              "      <td>1</td>\n",
              "      <td>0 days</td>\n",
              "    </tr>\n",
              "    <tr>\n",
              "      <th>39376</th>\n",
              "      <td>2015-08-02</td>\n",
              "      <td>1</td>\n",
              "      <td>0</td>\n",
              "      <td>False</td>\n",
              "      <td>1</td>\n",
              "      <td>0 days</td>\n",
              "    </tr>\n",
              "    <tr>\n",
              "      <th>38520</th>\n",
              "      <td>2015-08-03</td>\n",
              "      <td>1</td>\n",
              "      <td>1</td>\n",
              "      <td>False</td>\n",
              "      <td>1</td>\n",
              "      <td>0 days</td>\n",
              "    </tr>\n",
              "    <tr>\n",
              "      <th>37664</th>\n",
              "      <td>2015-08-04</td>\n",
              "      <td>1</td>\n",
              "      <td>1</td>\n",
              "      <td>False</td>\n",
              "      <td>1</td>\n",
              "      <td>0 days</td>\n",
              "    </tr>\n",
              "    <tr>\n",
              "      <th>36808</th>\n",
              "      <td>2015-08-05</td>\n",
              "      <td>1</td>\n",
              "      <td>1</td>\n",
              "      <td>False</td>\n",
              "      <td>1</td>\n",
              "      <td>0 days</td>\n",
              "    </tr>\n",
              "  </tbody>\n",
              "</table>\n",
              "</div>"
            ],
            "text/plain": [
              "            Date  Store  ...  SchoolHoliday  AfterSchoolHoliday\n",
              "40232 2015-08-01      1  ...              1              0 days\n",
              "39376 2015-08-02      1  ...              1              0 days\n",
              "38520 2015-08-03      1  ...              1              0 days\n",
              "37664 2015-08-04      1  ...              1              0 days\n",
              "36808 2015-08-05      1  ...              1              0 days\n",
              "\n",
              "[5 rows x 6 columns]"
            ]
          },
          "metadata": {},
          "execution_count": 57
        }
      ]
    },
    {
      "cell_type": "code",
      "metadata": {
        "colab": {
          "base_uri": "https://localhost:8080/",
          "height": 203
        },
        "id": "sfnGrFTtmwVY",
        "outputId": "9a64c5be-e5c6-4968-9b07-5f06f026b2e2"
      },
      "source": [
        "df_train = df_train.sort_values(['Store', 'Date'], ascending=[True, False])\n",
        "add_elapsed(df_train, fld, 'Before')\n",
        "df_train.head()"
      ],
      "execution_count": 58,
      "outputs": [
        {
          "output_type": "execute_result",
          "data": {
            "text/html": [
              "<div>\n",
              "<style scoped>\n",
              "    .dataframe tbody tr th:only-of-type {\n",
              "        vertical-align: middle;\n",
              "    }\n",
              "\n",
              "    .dataframe tbody tr th {\n",
              "        vertical-align: top;\n",
              "    }\n",
              "\n",
              "    .dataframe thead th {\n",
              "        text-align: right;\n",
              "    }\n",
              "</style>\n",
              "<table border=\"1\" class=\"dataframe\">\n",
              "  <thead>\n",
              "    <tr style=\"text-align: right;\">\n",
              "      <th></th>\n",
              "      <th>Date</th>\n",
              "      <th>Store</th>\n",
              "      <th>Promo</th>\n",
              "      <th>StateHoliday_bool</th>\n",
              "      <th>SchoolHoliday</th>\n",
              "      <th>AfterSchoolHoliday</th>\n",
              "      <th>BeforeSchoolHoliday</th>\n",
              "    </tr>\n",
              "  </thead>\n",
              "  <tbody>\n",
              "    <tr>\n",
              "      <th>0</th>\n",
              "      <td>2015-07-31</td>\n",
              "      <td>1</td>\n",
              "      <td>1</td>\n",
              "      <td>False</td>\n",
              "      <td>1</td>\n",
              "      <td>0 days</td>\n",
              "      <td>0 days</td>\n",
              "    </tr>\n",
              "    <tr>\n",
              "      <th>1115</th>\n",
              "      <td>2015-07-30</td>\n",
              "      <td>1</td>\n",
              "      <td>1</td>\n",
              "      <td>False</td>\n",
              "      <td>1</td>\n",
              "      <td>0 days</td>\n",
              "      <td>0 days</td>\n",
              "    </tr>\n",
              "    <tr>\n",
              "      <th>2230</th>\n",
              "      <td>2015-07-29</td>\n",
              "      <td>1</td>\n",
              "      <td>1</td>\n",
              "      <td>False</td>\n",
              "      <td>1</td>\n",
              "      <td>0 days</td>\n",
              "      <td>0 days</td>\n",
              "    </tr>\n",
              "    <tr>\n",
              "      <th>3345</th>\n",
              "      <td>2015-07-28</td>\n",
              "      <td>1</td>\n",
              "      <td>1</td>\n",
              "      <td>False</td>\n",
              "      <td>1</td>\n",
              "      <td>0 days</td>\n",
              "      <td>0 days</td>\n",
              "    </tr>\n",
              "    <tr>\n",
              "      <th>4460</th>\n",
              "      <td>2015-07-27</td>\n",
              "      <td>1</td>\n",
              "      <td>1</td>\n",
              "      <td>False</td>\n",
              "      <td>1</td>\n",
              "      <td>0 days</td>\n",
              "      <td>0 days</td>\n",
              "    </tr>\n",
              "  </tbody>\n",
              "</table>\n",
              "</div>"
            ],
            "text/plain": [
              "           Date  Store  ...  AfterSchoolHoliday  BeforeSchoolHoliday\n",
              "0    2015-07-31      1  ...              0 days               0 days\n",
              "1115 2015-07-30      1  ...              0 days               0 days\n",
              "2230 2015-07-29      1  ...              0 days               0 days\n",
              "3345 2015-07-28      1  ...              0 days               0 days\n",
              "4460 2015-07-27      1  ...              0 days               0 days\n",
              "\n",
              "[5 rows x 7 columns]"
            ]
          },
          "metadata": {},
          "execution_count": 58
        }
      ]
    },
    {
      "cell_type": "code",
      "metadata": {
        "colab": {
          "base_uri": "https://localhost:8080/",
          "height": 203
        },
        "id": "HwFE7b2XmxOF",
        "outputId": "6499fdc7-23cc-4fb9-f40c-d3c093f2ca76"
      },
      "source": [
        "df_test = df_test.sort_values(['Store', 'Date'], ascending=[True, False])\n",
        "add_elapsed(df_test, fld, 'Before')\n",
        "df_test.head()"
      ],
      "execution_count": 59,
      "outputs": [
        {
          "output_type": "execute_result",
          "data": {
            "text/html": [
              "<div>\n",
              "<style scoped>\n",
              "    .dataframe tbody tr th:only-of-type {\n",
              "        vertical-align: middle;\n",
              "    }\n",
              "\n",
              "    .dataframe tbody tr th {\n",
              "        vertical-align: top;\n",
              "    }\n",
              "\n",
              "    .dataframe thead th {\n",
              "        text-align: right;\n",
              "    }\n",
              "</style>\n",
              "<table border=\"1\" class=\"dataframe\">\n",
              "  <thead>\n",
              "    <tr style=\"text-align: right;\">\n",
              "      <th></th>\n",
              "      <th>Date</th>\n",
              "      <th>Store</th>\n",
              "      <th>Promo</th>\n",
              "      <th>StateHoliday_bool</th>\n",
              "      <th>SchoolHoliday</th>\n",
              "      <th>AfterSchoolHoliday</th>\n",
              "      <th>BeforeSchoolHoliday</th>\n",
              "    </tr>\n",
              "  </thead>\n",
              "  <tbody>\n",
              "    <tr>\n",
              "      <th>0</th>\n",
              "      <td>2015-09-17</td>\n",
              "      <td>1</td>\n",
              "      <td>1</td>\n",
              "      <td>False</td>\n",
              "      <td>0</td>\n",
              "      <td>13 days</td>\n",
              "      <td>NaT</td>\n",
              "    </tr>\n",
              "    <tr>\n",
              "      <th>856</th>\n",
              "      <td>2015-09-16</td>\n",
              "      <td>1</td>\n",
              "      <td>1</td>\n",
              "      <td>False</td>\n",
              "      <td>0</td>\n",
              "      <td>12 days</td>\n",
              "      <td>NaT</td>\n",
              "    </tr>\n",
              "    <tr>\n",
              "      <th>1712</th>\n",
              "      <td>2015-09-15</td>\n",
              "      <td>1</td>\n",
              "      <td>1</td>\n",
              "      <td>False</td>\n",
              "      <td>0</td>\n",
              "      <td>11 days</td>\n",
              "      <td>NaT</td>\n",
              "    </tr>\n",
              "    <tr>\n",
              "      <th>2568</th>\n",
              "      <td>2015-09-14</td>\n",
              "      <td>1</td>\n",
              "      <td>1</td>\n",
              "      <td>False</td>\n",
              "      <td>0</td>\n",
              "      <td>10 days</td>\n",
              "      <td>NaT</td>\n",
              "    </tr>\n",
              "    <tr>\n",
              "      <th>3424</th>\n",
              "      <td>2015-09-13</td>\n",
              "      <td>1</td>\n",
              "      <td>0</td>\n",
              "      <td>False</td>\n",
              "      <td>0</td>\n",
              "      <td>9 days</td>\n",
              "      <td>NaT</td>\n",
              "    </tr>\n",
              "  </tbody>\n",
              "</table>\n",
              "</div>"
            ],
            "text/plain": [
              "           Date  Store  ...  AfterSchoolHoliday  BeforeSchoolHoliday\n",
              "0    2015-09-17      1  ...             13 days                  NaT\n",
              "856  2015-09-16      1  ...             12 days                  NaT\n",
              "1712 2015-09-15      1  ...             11 days                  NaT\n",
              "2568 2015-09-14      1  ...             10 days                  NaT\n",
              "3424 2015-09-13      1  ...              9 days                  NaT\n",
              "\n",
              "[5 rows x 7 columns]"
            ]
          },
          "metadata": {},
          "execution_count": 59
        }
      ]
    },
    {
      "cell_type": "code",
      "metadata": {
        "id": "-z76c_W7myY9"
      },
      "source": [
        "fld = 'StateHoliday_bool'\n",
        "df_train = df_train.sort_values(['Store', 'Date'])\n",
        "add_elapsed(df_train, fld, 'After')\n",
        "df_train = df_train.sort_values(['Store', 'Date'], ascending=[True, False])\n",
        "add_elapsed(df_train, fld, 'Before')"
      ],
      "execution_count": 60,
      "outputs": []
    },
    {
      "cell_type": "code",
      "metadata": {
        "id": "tRewqZIHmzZx"
      },
      "source": [
        "fld = 'StateHoliday_bool'\n",
        "df_test = df_test.sort_values(['Store', 'Date'])\n",
        "add_elapsed(df_test, fld, 'After')\n",
        "df_test = df_test.sort_values(['Store', 'Date'], ascending=[True, False])\n",
        "add_elapsed(df_test, fld, 'Before')"
      ],
      "execution_count": 61,
      "outputs": []
    },
    {
      "cell_type": "code",
      "metadata": {
        "id": "FKRVIyPbm0WV"
      },
      "source": [
        "fld = 'Promo'\n",
        "df_train = df_train.sort_values(['Store', 'Date'])\n",
        "add_elapsed(df_train, fld, 'After')\n",
        "df_train = df_train.sort_values(['Store', 'Date'], ascending=[True, False])\n",
        "add_elapsed(df_train, fld, 'Before')"
      ],
      "execution_count": 62,
      "outputs": []
    },
    {
      "cell_type": "code",
      "metadata": {
        "id": "hg3S9nCYm1YM"
      },
      "source": [
        "fld = 'Promo'\n",
        "df_test = df_test.sort_values(['Store', 'Date'])\n",
        "add_elapsed(df_test, fld, 'After')\n",
        "df_test = df_test.sort_values(['Store', 'Date'], ascending=[True, False])\n",
        "add_elapsed(df_test, fld, 'Before')"
      ],
      "execution_count": 63,
      "outputs": []
    },
    {
      "cell_type": "code",
      "metadata": {
        "id": "HipShCRSm3qc"
      },
      "source": [
        "df_train = df_train.set_index(\"Date\")\n",
        "df_test = df_test.set_index(\"Date\")"
      ],
      "execution_count": 64,
      "outputs": []
    },
    {
      "cell_type": "code",
      "metadata": {
        "colab": {
          "base_uri": "https://localhost:8080/",
          "height": 338
        },
        "id": "uy-KncrSm4mP",
        "outputId": "86197baf-d176-4097-ba22-358cb9fb19bd"
      },
      "source": [
        "df_train.sort_values('Date').head(5)"
      ],
      "execution_count": 65,
      "outputs": [
        {
          "output_type": "execute_result",
          "data": {
            "text/html": [
              "<div>\n",
              "<style scoped>\n",
              "    .dataframe tbody tr th:only-of-type {\n",
              "        vertical-align: middle;\n",
              "    }\n",
              "\n",
              "    .dataframe tbody tr th {\n",
              "        vertical-align: top;\n",
              "    }\n",
              "\n",
              "    .dataframe thead th {\n",
              "        text-align: right;\n",
              "    }\n",
              "</style>\n",
              "<table border=\"1\" class=\"dataframe\">\n",
              "  <thead>\n",
              "    <tr style=\"text-align: right;\">\n",
              "      <th></th>\n",
              "      <th>Store</th>\n",
              "      <th>Promo</th>\n",
              "      <th>StateHoliday_bool</th>\n",
              "      <th>SchoolHoliday</th>\n",
              "      <th>AfterSchoolHoliday</th>\n",
              "      <th>BeforeSchoolHoliday</th>\n",
              "      <th>AfterStateHoliday_bool</th>\n",
              "      <th>BeforeStateHoliday_bool</th>\n",
              "      <th>AfterPromo</th>\n",
              "      <th>BeforePromo</th>\n",
              "    </tr>\n",
              "    <tr>\n",
              "      <th>Date</th>\n",
              "      <th></th>\n",
              "      <th></th>\n",
              "      <th></th>\n",
              "      <th></th>\n",
              "      <th></th>\n",
              "      <th></th>\n",
              "      <th></th>\n",
              "      <th></th>\n",
              "      <th></th>\n",
              "      <th></th>\n",
              "    </tr>\n",
              "  </thead>\n",
              "  <tbody>\n",
              "    <tr>\n",
              "      <th>2013-01-01</th>\n",
              "      <td>1115</td>\n",
              "      <td>0</td>\n",
              "      <td>True</td>\n",
              "      <td>1</td>\n",
              "      <td>0 days</td>\n",
              "      <td>0 days</td>\n",
              "      <td>0 days</td>\n",
              "      <td>0 days</td>\n",
              "      <td>NaT</td>\n",
              "      <td>-6 days</td>\n",
              "    </tr>\n",
              "    <tr>\n",
              "      <th>2013-01-01</th>\n",
              "      <td>746</td>\n",
              "      <td>0</td>\n",
              "      <td>True</td>\n",
              "      <td>1</td>\n",
              "      <td>0 days</td>\n",
              "      <td>0 days</td>\n",
              "      <td>0 days</td>\n",
              "      <td>0 days</td>\n",
              "      <td>NaT</td>\n",
              "      <td>-6 days</td>\n",
              "    </tr>\n",
              "    <tr>\n",
              "      <th>2013-01-01</th>\n",
              "      <td>171</td>\n",
              "      <td>0</td>\n",
              "      <td>True</td>\n",
              "      <td>1</td>\n",
              "      <td>0 days</td>\n",
              "      <td>0 days</td>\n",
              "      <td>0 days</td>\n",
              "      <td>0 days</td>\n",
              "      <td>NaT</td>\n",
              "      <td>-6 days</td>\n",
              "    </tr>\n",
              "    <tr>\n",
              "      <th>2013-01-01</th>\n",
              "      <td>694</td>\n",
              "      <td>0</td>\n",
              "      <td>True</td>\n",
              "      <td>1</td>\n",
              "      <td>0 days</td>\n",
              "      <td>0 days</td>\n",
              "      <td>0 days</td>\n",
              "      <td>0 days</td>\n",
              "      <td>NaT</td>\n",
              "      <td>-6 days</td>\n",
              "    </tr>\n",
              "    <tr>\n",
              "      <th>2013-01-01</th>\n",
              "      <td>396</td>\n",
              "      <td>0</td>\n",
              "      <td>True</td>\n",
              "      <td>1</td>\n",
              "      <td>0 days</td>\n",
              "      <td>0 days</td>\n",
              "      <td>0 days</td>\n",
              "      <td>0 days</td>\n",
              "      <td>NaT</td>\n",
              "      <td>-6 days</td>\n",
              "    </tr>\n",
              "  </tbody>\n",
              "</table>\n",
              "</div>"
            ],
            "text/plain": [
              "            Store  Promo  ...  AfterPromo  BeforePromo\n",
              "Date                      ...                         \n",
              "2013-01-01   1115      0  ...         NaT      -6 days\n",
              "2013-01-01    746      0  ...         NaT      -6 days\n",
              "2013-01-01    171      0  ...         NaT      -6 days\n",
              "2013-01-01    694      0  ...         NaT      -6 days\n",
              "2013-01-01    396      0  ...         NaT      -6 days\n",
              "\n",
              "[5 rows x 10 columns]"
            ]
          },
          "metadata": {},
          "execution_count": 65
        }
      ]
    },
    {
      "cell_type": "code",
      "metadata": {
        "colab": {
          "base_uri": "https://localhost:8080/",
          "height": 338
        },
        "id": "6K_c3DeOm6KS",
        "outputId": "e205d2bb-c7d0-47f6-df6e-e5f403594458"
      },
      "source": [
        "df_test.sort_values('Date').head(5)"
      ],
      "execution_count": 66,
      "outputs": [
        {
          "output_type": "execute_result",
          "data": {
            "text/html": [
              "<div>\n",
              "<style scoped>\n",
              "    .dataframe tbody tr th:only-of-type {\n",
              "        vertical-align: middle;\n",
              "    }\n",
              "\n",
              "    .dataframe tbody tr th {\n",
              "        vertical-align: top;\n",
              "    }\n",
              "\n",
              "    .dataframe thead th {\n",
              "        text-align: right;\n",
              "    }\n",
              "</style>\n",
              "<table border=\"1\" class=\"dataframe\">\n",
              "  <thead>\n",
              "    <tr style=\"text-align: right;\">\n",
              "      <th></th>\n",
              "      <th>Store</th>\n",
              "      <th>Promo</th>\n",
              "      <th>StateHoliday_bool</th>\n",
              "      <th>SchoolHoliday</th>\n",
              "      <th>AfterSchoolHoliday</th>\n",
              "      <th>BeforeSchoolHoliday</th>\n",
              "      <th>AfterStateHoliday_bool</th>\n",
              "      <th>BeforeStateHoliday_bool</th>\n",
              "      <th>AfterPromo</th>\n",
              "      <th>BeforePromo</th>\n",
              "    </tr>\n",
              "    <tr>\n",
              "      <th>Date</th>\n",
              "      <th></th>\n",
              "      <th></th>\n",
              "      <th></th>\n",
              "      <th></th>\n",
              "      <th></th>\n",
              "      <th></th>\n",
              "      <th></th>\n",
              "      <th></th>\n",
              "      <th></th>\n",
              "      <th></th>\n",
              "    </tr>\n",
              "  </thead>\n",
              "  <tbody>\n",
              "    <tr>\n",
              "      <th>2015-08-01</th>\n",
              "      <td>553</td>\n",
              "      <td>0</td>\n",
              "      <td>False</td>\n",
              "      <td>0</td>\n",
              "      <td>NaT</td>\n",
              "      <td>-2 days</td>\n",
              "      <td>NaT</td>\n",
              "      <td>NaT</td>\n",
              "      <td>NaT</td>\n",
              "      <td>-2 days</td>\n",
              "    </tr>\n",
              "    <tr>\n",
              "      <th>2015-08-01</th>\n",
              "      <td>394</td>\n",
              "      <td>0</td>\n",
              "      <td>False</td>\n",
              "      <td>1</td>\n",
              "      <td>0 days</td>\n",
              "      <td>0 days</td>\n",
              "      <td>NaT</td>\n",
              "      <td>NaT</td>\n",
              "      <td>NaT</td>\n",
              "      <td>-2 days</td>\n",
              "    </tr>\n",
              "    <tr>\n",
              "      <th>2015-08-01</th>\n",
              "      <td>393</td>\n",
              "      <td>0</td>\n",
              "      <td>False</td>\n",
              "      <td>0</td>\n",
              "      <td>NaT</td>\n",
              "      <td>-2 days</td>\n",
              "      <td>NaT</td>\n",
              "      <td>NaT</td>\n",
              "      <td>NaT</td>\n",
              "      <td>-2 days</td>\n",
              "    </tr>\n",
              "    <tr>\n",
              "      <th>2015-08-01</th>\n",
              "      <td>392</td>\n",
              "      <td>0</td>\n",
              "      <td>False</td>\n",
              "      <td>0</td>\n",
              "      <td>NaT</td>\n",
              "      <td>-2 days</td>\n",
              "      <td>NaT</td>\n",
              "      <td>NaT</td>\n",
              "      <td>NaT</td>\n",
              "      <td>-2 days</td>\n",
              "    </tr>\n",
              "    <tr>\n",
              "      <th>2015-08-01</th>\n",
              "      <td>391</td>\n",
              "      <td>0</td>\n",
              "      <td>False</td>\n",
              "      <td>0</td>\n",
              "      <td>NaT</td>\n",
              "      <td>-2 days</td>\n",
              "      <td>NaT</td>\n",
              "      <td>NaT</td>\n",
              "      <td>NaT</td>\n",
              "      <td>-2 days</td>\n",
              "    </tr>\n",
              "  </tbody>\n",
              "</table>\n",
              "</div>"
            ],
            "text/plain": [
              "            Store  Promo  ...  AfterPromo  BeforePromo\n",
              "Date                      ...                         \n",
              "2015-08-01    553      0  ...         NaT      -2 days\n",
              "2015-08-01    394      0  ...         NaT      -2 days\n",
              "2015-08-01    393      0  ...         NaT      -2 days\n",
              "2015-08-01    392      0  ...         NaT      -2 days\n",
              "2015-08-01    391      0  ...         NaT      -2 days\n",
              "\n",
              "[5 rows x 10 columns]"
            ]
          },
          "metadata": {},
          "execution_count": 66
        }
      ]
    },
    {
      "cell_type": "code",
      "metadata": {
        "id": "hEWLK8lJm7tN"
      },
      "source": [
        "columns = ['SchoolHoliday', 'StateHoliday_bool', 'Promo']"
      ],
      "execution_count": 67,
      "outputs": []
    },
    {
      "cell_type": "code",
      "metadata": {
        "id": "qd_iQvKIm8l0"
      },
      "source": [
        "for o in ['Before', 'After']:\n",
        "    for p in columns:\n",
        "        a = o+p\n",
        "        df_train[a] = df_train[a].fillna(pd.Timedelta(0)).dt.days\n",
        "        df_test[a] = df_test[a].fillna(pd.Timedelta(0)).dt.days"
      ],
      "execution_count": 68,
      "outputs": []
    },
    {
      "cell_type": "code",
      "metadata": {
        "colab": {
          "base_uri": "https://localhost:8080/",
          "height": 576
        },
        "id": "bha9OPDCm-HF",
        "outputId": "377934c3-52d0-4584-e195-f83213f97ddd"
      },
      "source": [
        "df_train.sort_values('Date').head(10)"
      ],
      "execution_count": 69,
      "outputs": [
        {
          "output_type": "execute_result",
          "data": {
            "text/html": [
              "<div>\n",
              "<style scoped>\n",
              "    .dataframe tbody tr th:only-of-type {\n",
              "        vertical-align: middle;\n",
              "    }\n",
              "\n",
              "    .dataframe tbody tr th {\n",
              "        vertical-align: top;\n",
              "    }\n",
              "\n",
              "    .dataframe thead th {\n",
              "        text-align: right;\n",
              "    }\n",
              "</style>\n",
              "<table border=\"1\" class=\"dataframe\">\n",
              "  <thead>\n",
              "    <tr style=\"text-align: right;\">\n",
              "      <th></th>\n",
              "      <th>Store</th>\n",
              "      <th>Promo</th>\n",
              "      <th>StateHoliday_bool</th>\n",
              "      <th>SchoolHoliday</th>\n",
              "      <th>AfterSchoolHoliday</th>\n",
              "      <th>BeforeSchoolHoliday</th>\n",
              "      <th>AfterStateHoliday_bool</th>\n",
              "      <th>BeforeStateHoliday_bool</th>\n",
              "      <th>AfterPromo</th>\n",
              "      <th>BeforePromo</th>\n",
              "    </tr>\n",
              "    <tr>\n",
              "      <th>Date</th>\n",
              "      <th></th>\n",
              "      <th></th>\n",
              "      <th></th>\n",
              "      <th></th>\n",
              "      <th></th>\n",
              "      <th></th>\n",
              "      <th></th>\n",
              "      <th></th>\n",
              "      <th></th>\n",
              "      <th></th>\n",
              "    </tr>\n",
              "  </thead>\n",
              "  <tbody>\n",
              "    <tr>\n",
              "      <th>2013-01-01</th>\n",
              "      <td>1115</td>\n",
              "      <td>0</td>\n",
              "      <td>True</td>\n",
              "      <td>1</td>\n",
              "      <td>0</td>\n",
              "      <td>0</td>\n",
              "      <td>0</td>\n",
              "      <td>0</td>\n",
              "      <td>0</td>\n",
              "      <td>-6</td>\n",
              "    </tr>\n",
              "    <tr>\n",
              "      <th>2013-01-01</th>\n",
              "      <td>746</td>\n",
              "      <td>0</td>\n",
              "      <td>True</td>\n",
              "      <td>1</td>\n",
              "      <td>0</td>\n",
              "      <td>0</td>\n",
              "      <td>0</td>\n",
              "      <td>0</td>\n",
              "      <td>0</td>\n",
              "      <td>-6</td>\n",
              "    </tr>\n",
              "    <tr>\n",
              "      <th>2013-01-01</th>\n",
              "      <td>171</td>\n",
              "      <td>0</td>\n",
              "      <td>True</td>\n",
              "      <td>1</td>\n",
              "      <td>0</td>\n",
              "      <td>0</td>\n",
              "      <td>0</td>\n",
              "      <td>0</td>\n",
              "      <td>0</td>\n",
              "      <td>-6</td>\n",
              "    </tr>\n",
              "    <tr>\n",
              "      <th>2013-01-01</th>\n",
              "      <td>694</td>\n",
              "      <td>0</td>\n",
              "      <td>True</td>\n",
              "      <td>1</td>\n",
              "      <td>0</td>\n",
              "      <td>0</td>\n",
              "      <td>0</td>\n",
              "      <td>0</td>\n",
              "      <td>0</td>\n",
              "      <td>-6</td>\n",
              "    </tr>\n",
              "    <tr>\n",
              "      <th>2013-01-01</th>\n",
              "      <td>396</td>\n",
              "      <td>0</td>\n",
              "      <td>True</td>\n",
              "      <td>1</td>\n",
              "      <td>0</td>\n",
              "      <td>0</td>\n",
              "      <td>0</td>\n",
              "      <td>0</td>\n",
              "      <td>0</td>\n",
              "      <td>-6</td>\n",
              "    </tr>\n",
              "    <tr>\n",
              "      <th>2013-01-01</th>\n",
              "      <td>196</td>\n",
              "      <td>0</td>\n",
              "      <td>True</td>\n",
              "      <td>1</td>\n",
              "      <td>0</td>\n",
              "      <td>0</td>\n",
              "      <td>0</td>\n",
              "      <td>0</td>\n",
              "      <td>0</td>\n",
              "      <td>-6</td>\n",
              "    </tr>\n",
              "    <tr>\n",
              "      <th>2013-01-01</th>\n",
              "      <td>271</td>\n",
              "      <td>0</td>\n",
              "      <td>True</td>\n",
              "      <td>1</td>\n",
              "      <td>0</td>\n",
              "      <td>0</td>\n",
              "      <td>0</td>\n",
              "      <td>0</td>\n",
              "      <td>0</td>\n",
              "      <td>-6</td>\n",
              "    </tr>\n",
              "    <tr>\n",
              "      <th>2013-01-01</th>\n",
              "      <td>32</td>\n",
              "      <td>0</td>\n",
              "      <td>True</td>\n",
              "      <td>1</td>\n",
              "      <td>0</td>\n",
              "      <td>0</td>\n",
              "      <td>0</td>\n",
              "      <td>0</td>\n",
              "      <td>0</td>\n",
              "      <td>-6</td>\n",
              "    </tr>\n",
              "    <tr>\n",
              "      <th>2013-01-01</th>\n",
              "      <td>440</td>\n",
              "      <td>0</td>\n",
              "      <td>True</td>\n",
              "      <td>1</td>\n",
              "      <td>0</td>\n",
              "      <td>0</td>\n",
              "      <td>0</td>\n",
              "      <td>0</td>\n",
              "      <td>0</td>\n",
              "      <td>-6</td>\n",
              "    </tr>\n",
              "    <tr>\n",
              "      <th>2013-01-01</th>\n",
              "      <td>1090</td>\n",
              "      <td>0</td>\n",
              "      <td>True</td>\n",
              "      <td>1</td>\n",
              "      <td>0</td>\n",
              "      <td>0</td>\n",
              "      <td>0</td>\n",
              "      <td>0</td>\n",
              "      <td>0</td>\n",
              "      <td>-6</td>\n",
              "    </tr>\n",
              "  </tbody>\n",
              "</table>\n",
              "</div>"
            ],
            "text/plain": [
              "            Store  Promo  ...  AfterPromo  BeforePromo\n",
              "Date                      ...                         \n",
              "2013-01-01   1115      0  ...           0           -6\n",
              "2013-01-01    746      0  ...           0           -6\n",
              "2013-01-01    171      0  ...           0           -6\n",
              "2013-01-01    694      0  ...           0           -6\n",
              "2013-01-01    396      0  ...           0           -6\n",
              "2013-01-01    196      0  ...           0           -6\n",
              "2013-01-01    271      0  ...           0           -6\n",
              "2013-01-01     32      0  ...           0           -6\n",
              "2013-01-01    440      0  ...           0           -6\n",
              "2013-01-01   1090      0  ...           0           -6\n",
              "\n",
              "[10 rows x 10 columns]"
            ]
          },
          "metadata": {},
          "execution_count": 69
        }
      ]
    },
    {
      "cell_type": "code",
      "metadata": {
        "colab": {
          "base_uri": "https://localhost:8080/",
          "height": 576
        },
        "id": "cc_Hfzmvm_p9",
        "outputId": "77e1eb16-4f15-4bc4-b709-47fcadbbdf2f"
      },
      "source": [
        "df_test.sort_values('Date').head(10)"
      ],
      "execution_count": 70,
      "outputs": [
        {
          "output_type": "execute_result",
          "data": {
            "text/html": [
              "<div>\n",
              "<style scoped>\n",
              "    .dataframe tbody tr th:only-of-type {\n",
              "        vertical-align: middle;\n",
              "    }\n",
              "\n",
              "    .dataframe tbody tr th {\n",
              "        vertical-align: top;\n",
              "    }\n",
              "\n",
              "    .dataframe thead th {\n",
              "        text-align: right;\n",
              "    }\n",
              "</style>\n",
              "<table border=\"1\" class=\"dataframe\">\n",
              "  <thead>\n",
              "    <tr style=\"text-align: right;\">\n",
              "      <th></th>\n",
              "      <th>Store</th>\n",
              "      <th>Promo</th>\n",
              "      <th>StateHoliday_bool</th>\n",
              "      <th>SchoolHoliday</th>\n",
              "      <th>AfterSchoolHoliday</th>\n",
              "      <th>BeforeSchoolHoliday</th>\n",
              "      <th>AfterStateHoliday_bool</th>\n",
              "      <th>BeforeStateHoliday_bool</th>\n",
              "      <th>AfterPromo</th>\n",
              "      <th>BeforePromo</th>\n",
              "    </tr>\n",
              "    <tr>\n",
              "      <th>Date</th>\n",
              "      <th></th>\n",
              "      <th></th>\n",
              "      <th></th>\n",
              "      <th></th>\n",
              "      <th></th>\n",
              "      <th></th>\n",
              "      <th></th>\n",
              "      <th></th>\n",
              "      <th></th>\n",
              "      <th></th>\n",
              "    </tr>\n",
              "  </thead>\n",
              "  <tbody>\n",
              "    <tr>\n",
              "      <th>2015-08-01</th>\n",
              "      <td>553</td>\n",
              "      <td>0</td>\n",
              "      <td>False</td>\n",
              "      <td>0</td>\n",
              "      <td>0</td>\n",
              "      <td>-2</td>\n",
              "      <td>0</td>\n",
              "      <td>0</td>\n",
              "      <td>0</td>\n",
              "      <td>-2</td>\n",
              "    </tr>\n",
              "    <tr>\n",
              "      <th>2015-08-01</th>\n",
              "      <td>394</td>\n",
              "      <td>0</td>\n",
              "      <td>False</td>\n",
              "      <td>1</td>\n",
              "      <td>0</td>\n",
              "      <td>0</td>\n",
              "      <td>0</td>\n",
              "      <td>0</td>\n",
              "      <td>0</td>\n",
              "      <td>-2</td>\n",
              "    </tr>\n",
              "    <tr>\n",
              "      <th>2015-08-01</th>\n",
              "      <td>393</td>\n",
              "      <td>0</td>\n",
              "      <td>False</td>\n",
              "      <td>0</td>\n",
              "      <td>0</td>\n",
              "      <td>-2</td>\n",
              "      <td>0</td>\n",
              "      <td>0</td>\n",
              "      <td>0</td>\n",
              "      <td>-2</td>\n",
              "    </tr>\n",
              "    <tr>\n",
              "      <th>2015-08-01</th>\n",
              "      <td>392</td>\n",
              "      <td>0</td>\n",
              "      <td>False</td>\n",
              "      <td>0</td>\n",
              "      <td>0</td>\n",
              "      <td>-2</td>\n",
              "      <td>0</td>\n",
              "      <td>0</td>\n",
              "      <td>0</td>\n",
              "      <td>-2</td>\n",
              "    </tr>\n",
              "    <tr>\n",
              "      <th>2015-08-01</th>\n",
              "      <td>391</td>\n",
              "      <td>0</td>\n",
              "      <td>False</td>\n",
              "      <td>0</td>\n",
              "      <td>0</td>\n",
              "      <td>-2</td>\n",
              "      <td>0</td>\n",
              "      <td>0</td>\n",
              "      <td>0</td>\n",
              "      <td>-2</td>\n",
              "    </tr>\n",
              "    <tr>\n",
              "      <th>2015-08-01</th>\n",
              "      <td>389</td>\n",
              "      <td>0</td>\n",
              "      <td>False</td>\n",
              "      <td>0</td>\n",
              "      <td>0</td>\n",
              "      <td>-2</td>\n",
              "      <td>0</td>\n",
              "      <td>0</td>\n",
              "      <td>0</td>\n",
              "      <td>-2</td>\n",
              "    </tr>\n",
              "    <tr>\n",
              "      <th>2015-08-01</th>\n",
              "      <td>388</td>\n",
              "      <td>0</td>\n",
              "      <td>False</td>\n",
              "      <td>0</td>\n",
              "      <td>0</td>\n",
              "      <td>-2</td>\n",
              "      <td>0</td>\n",
              "      <td>0</td>\n",
              "      <td>0</td>\n",
              "      <td>-2</td>\n",
              "    </tr>\n",
              "    <tr>\n",
              "      <th>2015-08-01</th>\n",
              "      <td>387</td>\n",
              "      <td>0</td>\n",
              "      <td>False</td>\n",
              "      <td>0</td>\n",
              "      <td>0</td>\n",
              "      <td>-2</td>\n",
              "      <td>0</td>\n",
              "      <td>0</td>\n",
              "      <td>0</td>\n",
              "      <td>-2</td>\n",
              "    </tr>\n",
              "    <tr>\n",
              "      <th>2015-08-01</th>\n",
              "      <td>386</td>\n",
              "      <td>0</td>\n",
              "      <td>False</td>\n",
              "      <td>0</td>\n",
              "      <td>0</td>\n",
              "      <td>-2</td>\n",
              "      <td>0</td>\n",
              "      <td>0</td>\n",
              "      <td>0</td>\n",
              "      <td>-2</td>\n",
              "    </tr>\n",
              "    <tr>\n",
              "      <th>2015-08-01</th>\n",
              "      <td>385</td>\n",
              "      <td>0</td>\n",
              "      <td>False</td>\n",
              "      <td>0</td>\n",
              "      <td>0</td>\n",
              "      <td>-2</td>\n",
              "      <td>0</td>\n",
              "      <td>-14</td>\n",
              "      <td>0</td>\n",
              "      <td>-2</td>\n",
              "    </tr>\n",
              "  </tbody>\n",
              "</table>\n",
              "</div>"
            ],
            "text/plain": [
              "            Store  Promo  ...  AfterPromo  BeforePromo\n",
              "Date                      ...                         \n",
              "2015-08-01    553      0  ...           0           -2\n",
              "2015-08-01    394      0  ...           0           -2\n",
              "2015-08-01    393      0  ...           0           -2\n",
              "2015-08-01    392      0  ...           0           -2\n",
              "2015-08-01    391      0  ...           0           -2\n",
              "2015-08-01    389      0  ...           0           -2\n",
              "2015-08-01    388      0  ...           0           -2\n",
              "2015-08-01    387      0  ...           0           -2\n",
              "2015-08-01    386      0  ...           0           -2\n",
              "2015-08-01    385      0  ...           0           -2\n",
              "\n",
              "[10 rows x 10 columns]"
            ]
          },
          "metadata": {},
          "execution_count": 70
        }
      ]
    },
    {
      "cell_type": "markdown",
      "metadata": {
        "id": "cEasIA0AnCbO"
      },
      "source": [
        "## Suavizado de columnas temporales"
      ]
    },
    {
      "cell_type": "code",
      "metadata": {
        "colab": {
          "base_uri": "https://localhost:8080/",
          "height": 1000
        },
        "id": "KHBcF6yOnFcW",
        "outputId": "b853749a-575a-4ded-c139-fa55f7859db8"
      },
      "source": [
        "# Datos del store 1 ordenados por fecha\n",
        "df_train[df_train[['Store']+columns]['Store'] == 1].sort_values('Date').head(20)"
      ],
      "execution_count": 71,
      "outputs": [
        {
          "output_type": "execute_result",
          "data": {
            "text/html": [
              "<div>\n",
              "<style scoped>\n",
              "    .dataframe tbody tr th:only-of-type {\n",
              "        vertical-align: middle;\n",
              "    }\n",
              "\n",
              "    .dataframe tbody tr th {\n",
              "        vertical-align: top;\n",
              "    }\n",
              "\n",
              "    .dataframe thead th {\n",
              "        text-align: right;\n",
              "    }\n",
              "</style>\n",
              "<table border=\"1\" class=\"dataframe\">\n",
              "  <thead>\n",
              "    <tr style=\"text-align: right;\">\n",
              "      <th></th>\n",
              "      <th>Store</th>\n",
              "      <th>Promo</th>\n",
              "      <th>StateHoliday_bool</th>\n",
              "      <th>SchoolHoliday</th>\n",
              "      <th>AfterSchoolHoliday</th>\n",
              "      <th>BeforeSchoolHoliday</th>\n",
              "      <th>AfterStateHoliday_bool</th>\n",
              "      <th>BeforeStateHoliday_bool</th>\n",
              "      <th>AfterPromo</th>\n",
              "      <th>BeforePromo</th>\n",
              "    </tr>\n",
              "    <tr>\n",
              "      <th>Date</th>\n",
              "      <th></th>\n",
              "      <th></th>\n",
              "      <th></th>\n",
              "      <th></th>\n",
              "      <th></th>\n",
              "      <th></th>\n",
              "      <th></th>\n",
              "      <th></th>\n",
              "      <th></th>\n",
              "      <th></th>\n",
              "    </tr>\n",
              "  </thead>\n",
              "  <tbody>\n",
              "    <tr>\n",
              "      <th>2013-01-01</th>\n",
              "      <td>1</td>\n",
              "      <td>0</td>\n",
              "      <td>True</td>\n",
              "      <td>1</td>\n",
              "      <td>0</td>\n",
              "      <td>0</td>\n",
              "      <td>0</td>\n",
              "      <td>0</td>\n",
              "      <td>0</td>\n",
              "      <td>-6</td>\n",
              "    </tr>\n",
              "    <tr>\n",
              "      <th>2013-01-02</th>\n",
              "      <td>1</td>\n",
              "      <td>0</td>\n",
              "      <td>False</td>\n",
              "      <td>1</td>\n",
              "      <td>0</td>\n",
              "      <td>0</td>\n",
              "      <td>1</td>\n",
              "      <td>-86</td>\n",
              "      <td>0</td>\n",
              "      <td>-5</td>\n",
              "    </tr>\n",
              "    <tr>\n",
              "      <th>2013-01-03</th>\n",
              "      <td>1</td>\n",
              "      <td>0</td>\n",
              "      <td>False</td>\n",
              "      <td>1</td>\n",
              "      <td>0</td>\n",
              "      <td>0</td>\n",
              "      <td>2</td>\n",
              "      <td>-85</td>\n",
              "      <td>0</td>\n",
              "      <td>-4</td>\n",
              "    </tr>\n",
              "    <tr>\n",
              "      <th>2013-01-04</th>\n",
              "      <td>1</td>\n",
              "      <td>0</td>\n",
              "      <td>False</td>\n",
              "      <td>1</td>\n",
              "      <td>0</td>\n",
              "      <td>0</td>\n",
              "      <td>3</td>\n",
              "      <td>-84</td>\n",
              "      <td>0</td>\n",
              "      <td>-3</td>\n",
              "    </tr>\n",
              "    <tr>\n",
              "      <th>2013-01-05</th>\n",
              "      <td>1</td>\n",
              "      <td>0</td>\n",
              "      <td>False</td>\n",
              "      <td>1</td>\n",
              "      <td>0</td>\n",
              "      <td>0</td>\n",
              "      <td>4</td>\n",
              "      <td>-83</td>\n",
              "      <td>0</td>\n",
              "      <td>-2</td>\n",
              "    </tr>\n",
              "    <tr>\n",
              "      <th>2013-01-06</th>\n",
              "      <td>1</td>\n",
              "      <td>0</td>\n",
              "      <td>False</td>\n",
              "      <td>1</td>\n",
              "      <td>0</td>\n",
              "      <td>0</td>\n",
              "      <td>5</td>\n",
              "      <td>-82</td>\n",
              "      <td>0</td>\n",
              "      <td>-1</td>\n",
              "    </tr>\n",
              "    <tr>\n",
              "      <th>2013-01-07</th>\n",
              "      <td>1</td>\n",
              "      <td>1</td>\n",
              "      <td>False</td>\n",
              "      <td>1</td>\n",
              "      <td>0</td>\n",
              "      <td>0</td>\n",
              "      <td>6</td>\n",
              "      <td>-81</td>\n",
              "      <td>0</td>\n",
              "      <td>0</td>\n",
              "    </tr>\n",
              "    <tr>\n",
              "      <th>2013-01-08</th>\n",
              "      <td>1</td>\n",
              "      <td>1</td>\n",
              "      <td>False</td>\n",
              "      <td>1</td>\n",
              "      <td>0</td>\n",
              "      <td>0</td>\n",
              "      <td>7</td>\n",
              "      <td>-80</td>\n",
              "      <td>0</td>\n",
              "      <td>0</td>\n",
              "    </tr>\n",
              "    <tr>\n",
              "      <th>2013-01-09</th>\n",
              "      <td>1</td>\n",
              "      <td>1</td>\n",
              "      <td>False</td>\n",
              "      <td>1</td>\n",
              "      <td>0</td>\n",
              "      <td>0</td>\n",
              "      <td>8</td>\n",
              "      <td>-79</td>\n",
              "      <td>0</td>\n",
              "      <td>0</td>\n",
              "    </tr>\n",
              "    <tr>\n",
              "      <th>2013-01-10</th>\n",
              "      <td>1</td>\n",
              "      <td>1</td>\n",
              "      <td>False</td>\n",
              "      <td>1</td>\n",
              "      <td>0</td>\n",
              "      <td>0</td>\n",
              "      <td>9</td>\n",
              "      <td>-78</td>\n",
              "      <td>0</td>\n",
              "      <td>0</td>\n",
              "    </tr>\n",
              "    <tr>\n",
              "      <th>2013-01-11</th>\n",
              "      <td>1</td>\n",
              "      <td>1</td>\n",
              "      <td>False</td>\n",
              "      <td>1</td>\n",
              "      <td>0</td>\n",
              "      <td>0</td>\n",
              "      <td>10</td>\n",
              "      <td>-77</td>\n",
              "      <td>0</td>\n",
              "      <td>0</td>\n",
              "    </tr>\n",
              "    <tr>\n",
              "      <th>2013-01-12</th>\n",
              "      <td>1</td>\n",
              "      <td>0</td>\n",
              "      <td>False</td>\n",
              "      <td>0</td>\n",
              "      <td>1</td>\n",
              "      <td>-72</td>\n",
              "      <td>11</td>\n",
              "      <td>-76</td>\n",
              "      <td>1</td>\n",
              "      <td>-9</td>\n",
              "    </tr>\n",
              "    <tr>\n",
              "      <th>2013-01-13</th>\n",
              "      <td>1</td>\n",
              "      <td>0</td>\n",
              "      <td>False</td>\n",
              "      <td>0</td>\n",
              "      <td>2</td>\n",
              "      <td>-71</td>\n",
              "      <td>12</td>\n",
              "      <td>-75</td>\n",
              "      <td>2</td>\n",
              "      <td>-8</td>\n",
              "    </tr>\n",
              "    <tr>\n",
              "      <th>2013-01-14</th>\n",
              "      <td>1</td>\n",
              "      <td>0</td>\n",
              "      <td>False</td>\n",
              "      <td>0</td>\n",
              "      <td>3</td>\n",
              "      <td>-70</td>\n",
              "      <td>13</td>\n",
              "      <td>-74</td>\n",
              "      <td>3</td>\n",
              "      <td>-7</td>\n",
              "    </tr>\n",
              "    <tr>\n",
              "      <th>2013-01-15</th>\n",
              "      <td>1</td>\n",
              "      <td>0</td>\n",
              "      <td>False</td>\n",
              "      <td>0</td>\n",
              "      <td>4</td>\n",
              "      <td>-69</td>\n",
              "      <td>14</td>\n",
              "      <td>-73</td>\n",
              "      <td>4</td>\n",
              "      <td>-6</td>\n",
              "    </tr>\n",
              "    <tr>\n",
              "      <th>2013-01-16</th>\n",
              "      <td>1</td>\n",
              "      <td>0</td>\n",
              "      <td>False</td>\n",
              "      <td>0</td>\n",
              "      <td>5</td>\n",
              "      <td>-68</td>\n",
              "      <td>15</td>\n",
              "      <td>-72</td>\n",
              "      <td>5</td>\n",
              "      <td>-5</td>\n",
              "    </tr>\n",
              "    <tr>\n",
              "      <th>2013-01-17</th>\n",
              "      <td>1</td>\n",
              "      <td>0</td>\n",
              "      <td>False</td>\n",
              "      <td>0</td>\n",
              "      <td>6</td>\n",
              "      <td>-67</td>\n",
              "      <td>16</td>\n",
              "      <td>-71</td>\n",
              "      <td>6</td>\n",
              "      <td>-4</td>\n",
              "    </tr>\n",
              "    <tr>\n",
              "      <th>2013-01-18</th>\n",
              "      <td>1</td>\n",
              "      <td>0</td>\n",
              "      <td>False</td>\n",
              "      <td>0</td>\n",
              "      <td>7</td>\n",
              "      <td>-66</td>\n",
              "      <td>17</td>\n",
              "      <td>-70</td>\n",
              "      <td>7</td>\n",
              "      <td>-3</td>\n",
              "    </tr>\n",
              "    <tr>\n",
              "      <th>2013-01-19</th>\n",
              "      <td>1</td>\n",
              "      <td>0</td>\n",
              "      <td>False</td>\n",
              "      <td>0</td>\n",
              "      <td>8</td>\n",
              "      <td>-65</td>\n",
              "      <td>18</td>\n",
              "      <td>-69</td>\n",
              "      <td>8</td>\n",
              "      <td>-2</td>\n",
              "    </tr>\n",
              "    <tr>\n",
              "      <th>2013-01-20</th>\n",
              "      <td>1</td>\n",
              "      <td>0</td>\n",
              "      <td>False</td>\n",
              "      <td>0</td>\n",
              "      <td>9</td>\n",
              "      <td>-64</td>\n",
              "      <td>19</td>\n",
              "      <td>-68</td>\n",
              "      <td>9</td>\n",
              "      <td>-1</td>\n",
              "    </tr>\n",
              "  </tbody>\n",
              "</table>\n",
              "</div>"
            ],
            "text/plain": [
              "            Store  Promo  ...  AfterPromo  BeforePromo\n",
              "Date                      ...                         \n",
              "2013-01-01      1      0  ...           0           -6\n",
              "2013-01-02      1      0  ...           0           -5\n",
              "2013-01-03      1      0  ...           0           -4\n",
              "2013-01-04      1      0  ...           0           -3\n",
              "2013-01-05      1      0  ...           0           -2\n",
              "2013-01-06      1      0  ...           0           -1\n",
              "2013-01-07      1      1  ...           0            0\n",
              "2013-01-08      1      1  ...           0            0\n",
              "2013-01-09      1      1  ...           0            0\n",
              "2013-01-10      1      1  ...           0            0\n",
              "2013-01-11      1      1  ...           0            0\n",
              "2013-01-12      1      0  ...           1           -9\n",
              "2013-01-13      1      0  ...           2           -8\n",
              "2013-01-14      1      0  ...           3           -7\n",
              "2013-01-15      1      0  ...           4           -6\n",
              "2013-01-16      1      0  ...           5           -5\n",
              "2013-01-17      1      0  ...           6           -4\n",
              "2013-01-18      1      0  ...           7           -3\n",
              "2013-01-19      1      0  ...           8           -2\n",
              "2013-01-20      1      0  ...           9           -1\n",
              "\n",
              "[20 rows x 10 columns]"
            ]
          },
          "metadata": {},
          "execution_count": 71
        }
      ]
    },
    {
      "cell_type": "code",
      "metadata": {
        "colab": {
          "base_uri": "https://localhost:8080/",
          "height": 696
        },
        "id": "IaREIg_AnH8V",
        "outputId": "39868e1e-8178-45ed-f462-37352efa5036"
      },
      "source": [
        "bwd_train = df_train[['Store']+columns].sort_index().groupby(\"Store\").rolling(7, min_periods=1).sum()\n",
        "bwd_test = df_test[['Store']+columns].sort_index().groupby(\"Store\").rolling(7, min_periods=1).sum()\n",
        "bwd_train.head(20)"
      ],
      "execution_count": 72,
      "outputs": [
        {
          "output_type": "execute_result",
          "data": {
            "text/html": [
              "<div>\n",
              "<style scoped>\n",
              "    .dataframe tbody tr th:only-of-type {\n",
              "        vertical-align: middle;\n",
              "    }\n",
              "\n",
              "    .dataframe tbody tr th {\n",
              "        vertical-align: top;\n",
              "    }\n",
              "\n",
              "    .dataframe thead th {\n",
              "        text-align: right;\n",
              "    }\n",
              "</style>\n",
              "<table border=\"1\" class=\"dataframe\">\n",
              "  <thead>\n",
              "    <tr style=\"text-align: right;\">\n",
              "      <th></th>\n",
              "      <th></th>\n",
              "      <th>Store</th>\n",
              "      <th>SchoolHoliday</th>\n",
              "      <th>StateHoliday_bool</th>\n",
              "      <th>Promo</th>\n",
              "    </tr>\n",
              "    <tr>\n",
              "      <th>Store</th>\n",
              "      <th>Date</th>\n",
              "      <th></th>\n",
              "      <th></th>\n",
              "      <th></th>\n",
              "      <th></th>\n",
              "    </tr>\n",
              "  </thead>\n",
              "  <tbody>\n",
              "    <tr>\n",
              "      <th rowspan=\"20\" valign=\"top\">1</th>\n",
              "      <th>2013-01-01</th>\n",
              "      <td>1.0</td>\n",
              "      <td>1.0</td>\n",
              "      <td>1.0</td>\n",
              "      <td>0.0</td>\n",
              "    </tr>\n",
              "    <tr>\n",
              "      <th>2013-01-02</th>\n",
              "      <td>2.0</td>\n",
              "      <td>2.0</td>\n",
              "      <td>1.0</td>\n",
              "      <td>0.0</td>\n",
              "    </tr>\n",
              "    <tr>\n",
              "      <th>2013-01-03</th>\n",
              "      <td>3.0</td>\n",
              "      <td>3.0</td>\n",
              "      <td>1.0</td>\n",
              "      <td>0.0</td>\n",
              "    </tr>\n",
              "    <tr>\n",
              "      <th>2013-01-04</th>\n",
              "      <td>4.0</td>\n",
              "      <td>4.0</td>\n",
              "      <td>1.0</td>\n",
              "      <td>0.0</td>\n",
              "    </tr>\n",
              "    <tr>\n",
              "      <th>2013-01-05</th>\n",
              "      <td>5.0</td>\n",
              "      <td>5.0</td>\n",
              "      <td>1.0</td>\n",
              "      <td>0.0</td>\n",
              "    </tr>\n",
              "    <tr>\n",
              "      <th>2013-01-06</th>\n",
              "      <td>6.0</td>\n",
              "      <td>6.0</td>\n",
              "      <td>1.0</td>\n",
              "      <td>0.0</td>\n",
              "    </tr>\n",
              "    <tr>\n",
              "      <th>2013-01-07</th>\n",
              "      <td>7.0</td>\n",
              "      <td>7.0</td>\n",
              "      <td>1.0</td>\n",
              "      <td>1.0</td>\n",
              "    </tr>\n",
              "    <tr>\n",
              "      <th>2013-01-08</th>\n",
              "      <td>7.0</td>\n",
              "      <td>7.0</td>\n",
              "      <td>0.0</td>\n",
              "      <td>2.0</td>\n",
              "    </tr>\n",
              "    <tr>\n",
              "      <th>2013-01-09</th>\n",
              "      <td>7.0</td>\n",
              "      <td>7.0</td>\n",
              "      <td>0.0</td>\n",
              "      <td>3.0</td>\n",
              "    </tr>\n",
              "    <tr>\n",
              "      <th>2013-01-10</th>\n",
              "      <td>7.0</td>\n",
              "      <td>7.0</td>\n",
              "      <td>0.0</td>\n",
              "      <td>4.0</td>\n",
              "    </tr>\n",
              "    <tr>\n",
              "      <th>2013-01-11</th>\n",
              "      <td>7.0</td>\n",
              "      <td>7.0</td>\n",
              "      <td>0.0</td>\n",
              "      <td>5.0</td>\n",
              "    </tr>\n",
              "    <tr>\n",
              "      <th>2013-01-12</th>\n",
              "      <td>7.0</td>\n",
              "      <td>6.0</td>\n",
              "      <td>0.0</td>\n",
              "      <td>5.0</td>\n",
              "    </tr>\n",
              "    <tr>\n",
              "      <th>2013-01-13</th>\n",
              "      <td>7.0</td>\n",
              "      <td>5.0</td>\n",
              "      <td>0.0</td>\n",
              "      <td>5.0</td>\n",
              "    </tr>\n",
              "    <tr>\n",
              "      <th>2013-01-14</th>\n",
              "      <td>7.0</td>\n",
              "      <td>4.0</td>\n",
              "      <td>0.0</td>\n",
              "      <td>4.0</td>\n",
              "    </tr>\n",
              "    <tr>\n",
              "      <th>2013-01-15</th>\n",
              "      <td>7.0</td>\n",
              "      <td>3.0</td>\n",
              "      <td>0.0</td>\n",
              "      <td>3.0</td>\n",
              "    </tr>\n",
              "    <tr>\n",
              "      <th>2013-01-16</th>\n",
              "      <td>7.0</td>\n",
              "      <td>2.0</td>\n",
              "      <td>0.0</td>\n",
              "      <td>2.0</td>\n",
              "    </tr>\n",
              "    <tr>\n",
              "      <th>2013-01-17</th>\n",
              "      <td>7.0</td>\n",
              "      <td>1.0</td>\n",
              "      <td>0.0</td>\n",
              "      <td>1.0</td>\n",
              "    </tr>\n",
              "    <tr>\n",
              "      <th>2013-01-18</th>\n",
              "      <td>7.0</td>\n",
              "      <td>0.0</td>\n",
              "      <td>0.0</td>\n",
              "      <td>0.0</td>\n",
              "    </tr>\n",
              "    <tr>\n",
              "      <th>2013-01-19</th>\n",
              "      <td>7.0</td>\n",
              "      <td>0.0</td>\n",
              "      <td>0.0</td>\n",
              "      <td>0.0</td>\n",
              "    </tr>\n",
              "    <tr>\n",
              "      <th>2013-01-20</th>\n",
              "      <td>7.0</td>\n",
              "      <td>0.0</td>\n",
              "      <td>0.0</td>\n",
              "      <td>0.0</td>\n",
              "    </tr>\n",
              "  </tbody>\n",
              "</table>\n",
              "</div>"
            ],
            "text/plain": [
              "                  Store  SchoolHoliday  StateHoliday_bool  Promo\n",
              "Store Date                                                      \n",
              "1     2013-01-01    1.0            1.0                1.0    0.0\n",
              "      2013-01-02    2.0            2.0                1.0    0.0\n",
              "      2013-01-03    3.0            3.0                1.0    0.0\n",
              "      2013-01-04    4.0            4.0                1.0    0.0\n",
              "      2013-01-05    5.0            5.0                1.0    0.0\n",
              "      2013-01-06    6.0            6.0                1.0    0.0\n",
              "      2013-01-07    7.0            7.0                1.0    1.0\n",
              "      2013-01-08    7.0            7.0                0.0    2.0\n",
              "      2013-01-09    7.0            7.0                0.0    3.0\n",
              "      2013-01-10    7.0            7.0                0.0    4.0\n",
              "      2013-01-11    7.0            7.0                0.0    5.0\n",
              "      2013-01-12    7.0            6.0                0.0    5.0\n",
              "      2013-01-13    7.0            5.0                0.0    5.0\n",
              "      2013-01-14    7.0            4.0                0.0    4.0\n",
              "      2013-01-15    7.0            3.0                0.0    3.0\n",
              "      2013-01-16    7.0            2.0                0.0    2.0\n",
              "      2013-01-17    7.0            1.0                0.0    1.0\n",
              "      2013-01-18    7.0            0.0                0.0    0.0\n",
              "      2013-01-19    7.0            0.0                0.0    0.0\n",
              "      2013-01-20    7.0            0.0                0.0    0.0"
            ]
          },
          "metadata": {},
          "execution_count": 72
        }
      ]
    },
    {
      "cell_type": "code",
      "metadata": {
        "id": "En_XTMsAnJ32"
      },
      "source": [
        "bwd_train.drop('Store',1,inplace=True)\n",
        "bwd_train.reset_index(inplace=True)\n",
        "bwd_test.drop('Store',1,inplace=True)\n",
        "bwd_test.reset_index(inplace=True)"
      ],
      "execution_count": 73,
      "outputs": []
    },
    {
      "cell_type": "code",
      "metadata": {
        "colab": {
          "base_uri": "https://localhost:8080/",
          "height": 665
        },
        "id": "id7nPIiAnL_F",
        "outputId": "265b5b80-c20b-4973-faf1-e4be652c0946"
      },
      "source": [
        "bwd_train.head(20)"
      ],
      "execution_count": 74,
      "outputs": [
        {
          "output_type": "execute_result",
          "data": {
            "text/html": [
              "<div>\n",
              "<style scoped>\n",
              "    .dataframe tbody tr th:only-of-type {\n",
              "        vertical-align: middle;\n",
              "    }\n",
              "\n",
              "    .dataframe tbody tr th {\n",
              "        vertical-align: top;\n",
              "    }\n",
              "\n",
              "    .dataframe thead th {\n",
              "        text-align: right;\n",
              "    }\n",
              "</style>\n",
              "<table border=\"1\" class=\"dataframe\">\n",
              "  <thead>\n",
              "    <tr style=\"text-align: right;\">\n",
              "      <th></th>\n",
              "      <th>Store</th>\n",
              "      <th>Date</th>\n",
              "      <th>SchoolHoliday</th>\n",
              "      <th>StateHoliday_bool</th>\n",
              "      <th>Promo</th>\n",
              "    </tr>\n",
              "  </thead>\n",
              "  <tbody>\n",
              "    <tr>\n",
              "      <th>0</th>\n",
              "      <td>1</td>\n",
              "      <td>2013-01-01</td>\n",
              "      <td>1.0</td>\n",
              "      <td>1.0</td>\n",
              "      <td>0.0</td>\n",
              "    </tr>\n",
              "    <tr>\n",
              "      <th>1</th>\n",
              "      <td>1</td>\n",
              "      <td>2013-01-02</td>\n",
              "      <td>2.0</td>\n",
              "      <td>1.0</td>\n",
              "      <td>0.0</td>\n",
              "    </tr>\n",
              "    <tr>\n",
              "      <th>2</th>\n",
              "      <td>1</td>\n",
              "      <td>2013-01-03</td>\n",
              "      <td>3.0</td>\n",
              "      <td>1.0</td>\n",
              "      <td>0.0</td>\n",
              "    </tr>\n",
              "    <tr>\n",
              "      <th>3</th>\n",
              "      <td>1</td>\n",
              "      <td>2013-01-04</td>\n",
              "      <td>4.0</td>\n",
              "      <td>1.0</td>\n",
              "      <td>0.0</td>\n",
              "    </tr>\n",
              "    <tr>\n",
              "      <th>4</th>\n",
              "      <td>1</td>\n",
              "      <td>2013-01-05</td>\n",
              "      <td>5.0</td>\n",
              "      <td>1.0</td>\n",
              "      <td>0.0</td>\n",
              "    </tr>\n",
              "    <tr>\n",
              "      <th>5</th>\n",
              "      <td>1</td>\n",
              "      <td>2013-01-06</td>\n",
              "      <td>6.0</td>\n",
              "      <td>1.0</td>\n",
              "      <td>0.0</td>\n",
              "    </tr>\n",
              "    <tr>\n",
              "      <th>6</th>\n",
              "      <td>1</td>\n",
              "      <td>2013-01-07</td>\n",
              "      <td>7.0</td>\n",
              "      <td>1.0</td>\n",
              "      <td>1.0</td>\n",
              "    </tr>\n",
              "    <tr>\n",
              "      <th>7</th>\n",
              "      <td>1</td>\n",
              "      <td>2013-01-08</td>\n",
              "      <td>7.0</td>\n",
              "      <td>0.0</td>\n",
              "      <td>2.0</td>\n",
              "    </tr>\n",
              "    <tr>\n",
              "      <th>8</th>\n",
              "      <td>1</td>\n",
              "      <td>2013-01-09</td>\n",
              "      <td>7.0</td>\n",
              "      <td>0.0</td>\n",
              "      <td>3.0</td>\n",
              "    </tr>\n",
              "    <tr>\n",
              "      <th>9</th>\n",
              "      <td>1</td>\n",
              "      <td>2013-01-10</td>\n",
              "      <td>7.0</td>\n",
              "      <td>0.0</td>\n",
              "      <td>4.0</td>\n",
              "    </tr>\n",
              "    <tr>\n",
              "      <th>10</th>\n",
              "      <td>1</td>\n",
              "      <td>2013-01-11</td>\n",
              "      <td>7.0</td>\n",
              "      <td>0.0</td>\n",
              "      <td>5.0</td>\n",
              "    </tr>\n",
              "    <tr>\n",
              "      <th>11</th>\n",
              "      <td>1</td>\n",
              "      <td>2013-01-12</td>\n",
              "      <td>6.0</td>\n",
              "      <td>0.0</td>\n",
              "      <td>5.0</td>\n",
              "    </tr>\n",
              "    <tr>\n",
              "      <th>12</th>\n",
              "      <td>1</td>\n",
              "      <td>2013-01-13</td>\n",
              "      <td>5.0</td>\n",
              "      <td>0.0</td>\n",
              "      <td>5.0</td>\n",
              "    </tr>\n",
              "    <tr>\n",
              "      <th>13</th>\n",
              "      <td>1</td>\n",
              "      <td>2013-01-14</td>\n",
              "      <td>4.0</td>\n",
              "      <td>0.0</td>\n",
              "      <td>4.0</td>\n",
              "    </tr>\n",
              "    <tr>\n",
              "      <th>14</th>\n",
              "      <td>1</td>\n",
              "      <td>2013-01-15</td>\n",
              "      <td>3.0</td>\n",
              "      <td>0.0</td>\n",
              "      <td>3.0</td>\n",
              "    </tr>\n",
              "    <tr>\n",
              "      <th>15</th>\n",
              "      <td>1</td>\n",
              "      <td>2013-01-16</td>\n",
              "      <td>2.0</td>\n",
              "      <td>0.0</td>\n",
              "      <td>2.0</td>\n",
              "    </tr>\n",
              "    <tr>\n",
              "      <th>16</th>\n",
              "      <td>1</td>\n",
              "      <td>2013-01-17</td>\n",
              "      <td>1.0</td>\n",
              "      <td>0.0</td>\n",
              "      <td>1.0</td>\n",
              "    </tr>\n",
              "    <tr>\n",
              "      <th>17</th>\n",
              "      <td>1</td>\n",
              "      <td>2013-01-18</td>\n",
              "      <td>0.0</td>\n",
              "      <td>0.0</td>\n",
              "      <td>0.0</td>\n",
              "    </tr>\n",
              "    <tr>\n",
              "      <th>18</th>\n",
              "      <td>1</td>\n",
              "      <td>2013-01-19</td>\n",
              "      <td>0.0</td>\n",
              "      <td>0.0</td>\n",
              "      <td>0.0</td>\n",
              "    </tr>\n",
              "    <tr>\n",
              "      <th>19</th>\n",
              "      <td>1</td>\n",
              "      <td>2013-01-20</td>\n",
              "      <td>0.0</td>\n",
              "      <td>0.0</td>\n",
              "      <td>0.0</td>\n",
              "    </tr>\n",
              "  </tbody>\n",
              "</table>\n",
              "</div>"
            ],
            "text/plain": [
              "    Store       Date  SchoolHoliday  StateHoliday_bool  Promo\n",
              "0       1 2013-01-01            1.0                1.0    0.0\n",
              "1       1 2013-01-02            2.0                1.0    0.0\n",
              "2       1 2013-01-03            3.0                1.0    0.0\n",
              "3       1 2013-01-04            4.0                1.0    0.0\n",
              "4       1 2013-01-05            5.0                1.0    0.0\n",
              "5       1 2013-01-06            6.0                1.0    0.0\n",
              "6       1 2013-01-07            7.0                1.0    1.0\n",
              "7       1 2013-01-08            7.0                0.0    2.0\n",
              "8       1 2013-01-09            7.0                0.0    3.0\n",
              "9       1 2013-01-10            7.0                0.0    4.0\n",
              "10      1 2013-01-11            7.0                0.0    5.0\n",
              "11      1 2013-01-12            6.0                0.0    5.0\n",
              "12      1 2013-01-13            5.0                0.0    5.0\n",
              "13      1 2013-01-14            4.0                0.0    4.0\n",
              "14      1 2013-01-15            3.0                0.0    3.0\n",
              "15      1 2013-01-16            2.0                0.0    2.0\n",
              "16      1 2013-01-17            1.0                0.0    1.0\n",
              "17      1 2013-01-18            0.0                0.0    0.0\n",
              "18      1 2013-01-19            0.0                0.0    0.0\n",
              "19      1 2013-01-20            0.0                0.0    0.0"
            ]
          },
          "metadata": {},
          "execution_count": 74
        }
      ]
    },
    {
      "cell_type": "code",
      "metadata": {
        "id": "xkmXU_xAnNFd"
      },
      "source": [
        "# Ordena al reves\n",
        "fwd_train = df_train[['Store']+columns].sort_index(ascending=False).groupby(\"Store\").rolling(7, min_periods=1).sum()\n",
        "fwd_test = df_test[['Store']+columns].sort_index(ascending=False).groupby(\"Store\").rolling(7, min_periods=1).sum()"
      ],
      "execution_count": 75,
      "outputs": []
    },
    {
      "cell_type": "code",
      "metadata": {
        "colab": {
          "base_uri": "https://localhost:8080/",
          "height": 696
        },
        "id": "moYo7I2JnOfF",
        "outputId": "e16805cc-8973-4007-8bec-ddc08f827496"
      },
      "source": [
        "fwd_train.head(20)"
      ],
      "execution_count": 76,
      "outputs": [
        {
          "output_type": "execute_result",
          "data": {
            "text/html": [
              "<div>\n",
              "<style scoped>\n",
              "    .dataframe tbody tr th:only-of-type {\n",
              "        vertical-align: middle;\n",
              "    }\n",
              "\n",
              "    .dataframe tbody tr th {\n",
              "        vertical-align: top;\n",
              "    }\n",
              "\n",
              "    .dataframe thead th {\n",
              "        text-align: right;\n",
              "    }\n",
              "</style>\n",
              "<table border=\"1\" class=\"dataframe\">\n",
              "  <thead>\n",
              "    <tr style=\"text-align: right;\">\n",
              "      <th></th>\n",
              "      <th></th>\n",
              "      <th>Store</th>\n",
              "      <th>SchoolHoliday</th>\n",
              "      <th>StateHoliday_bool</th>\n",
              "      <th>Promo</th>\n",
              "    </tr>\n",
              "    <tr>\n",
              "      <th>Store</th>\n",
              "      <th>Date</th>\n",
              "      <th></th>\n",
              "      <th></th>\n",
              "      <th></th>\n",
              "      <th></th>\n",
              "    </tr>\n",
              "  </thead>\n",
              "  <tbody>\n",
              "    <tr>\n",
              "      <th rowspan=\"20\" valign=\"top\">1</th>\n",
              "      <th>2015-07-31</th>\n",
              "      <td>1.0</td>\n",
              "      <td>1.0</td>\n",
              "      <td>0.0</td>\n",
              "      <td>1.0</td>\n",
              "    </tr>\n",
              "    <tr>\n",
              "      <th>2015-07-30</th>\n",
              "      <td>2.0</td>\n",
              "      <td>2.0</td>\n",
              "      <td>0.0</td>\n",
              "      <td>2.0</td>\n",
              "    </tr>\n",
              "    <tr>\n",
              "      <th>2015-07-29</th>\n",
              "      <td>3.0</td>\n",
              "      <td>3.0</td>\n",
              "      <td>0.0</td>\n",
              "      <td>3.0</td>\n",
              "    </tr>\n",
              "    <tr>\n",
              "      <th>2015-07-28</th>\n",
              "      <td>4.0</td>\n",
              "      <td>4.0</td>\n",
              "      <td>0.0</td>\n",
              "      <td>4.0</td>\n",
              "    </tr>\n",
              "    <tr>\n",
              "      <th>2015-07-27</th>\n",
              "      <td>5.0</td>\n",
              "      <td>5.0</td>\n",
              "      <td>0.0</td>\n",
              "      <td>5.0</td>\n",
              "    </tr>\n",
              "    <tr>\n",
              "      <th>2015-07-26</th>\n",
              "      <td>6.0</td>\n",
              "      <td>5.0</td>\n",
              "      <td>0.0</td>\n",
              "      <td>5.0</td>\n",
              "    </tr>\n",
              "    <tr>\n",
              "      <th>2015-07-25</th>\n",
              "      <td>7.0</td>\n",
              "      <td>5.0</td>\n",
              "      <td>0.0</td>\n",
              "      <td>5.0</td>\n",
              "    </tr>\n",
              "    <tr>\n",
              "      <th>2015-07-24</th>\n",
              "      <td>7.0</td>\n",
              "      <td>4.0</td>\n",
              "      <td>0.0</td>\n",
              "      <td>4.0</td>\n",
              "    </tr>\n",
              "    <tr>\n",
              "      <th>2015-07-23</th>\n",
              "      <td>7.0</td>\n",
              "      <td>3.0</td>\n",
              "      <td>0.0</td>\n",
              "      <td>3.0</td>\n",
              "    </tr>\n",
              "    <tr>\n",
              "      <th>2015-07-22</th>\n",
              "      <td>7.0</td>\n",
              "      <td>2.0</td>\n",
              "      <td>0.0</td>\n",
              "      <td>2.0</td>\n",
              "    </tr>\n",
              "    <tr>\n",
              "      <th>2015-07-21</th>\n",
              "      <td>7.0</td>\n",
              "      <td>1.0</td>\n",
              "      <td>0.0</td>\n",
              "      <td>1.0</td>\n",
              "    </tr>\n",
              "    <tr>\n",
              "      <th>2015-07-20</th>\n",
              "      <td>7.0</td>\n",
              "      <td>0.0</td>\n",
              "      <td>0.0</td>\n",
              "      <td>0.0</td>\n",
              "    </tr>\n",
              "    <tr>\n",
              "      <th>2015-07-19</th>\n",
              "      <td>7.0</td>\n",
              "      <td>0.0</td>\n",
              "      <td>0.0</td>\n",
              "      <td>0.0</td>\n",
              "    </tr>\n",
              "    <tr>\n",
              "      <th>2015-07-18</th>\n",
              "      <td>7.0</td>\n",
              "      <td>0.0</td>\n",
              "      <td>0.0</td>\n",
              "      <td>0.0</td>\n",
              "    </tr>\n",
              "    <tr>\n",
              "      <th>2015-07-17</th>\n",
              "      <td>7.0</td>\n",
              "      <td>0.0</td>\n",
              "      <td>0.0</td>\n",
              "      <td>1.0</td>\n",
              "    </tr>\n",
              "    <tr>\n",
              "      <th>2015-07-16</th>\n",
              "      <td>7.0</td>\n",
              "      <td>0.0</td>\n",
              "      <td>0.0</td>\n",
              "      <td>2.0</td>\n",
              "    </tr>\n",
              "    <tr>\n",
              "      <th>2015-07-15</th>\n",
              "      <td>7.0</td>\n",
              "      <td>0.0</td>\n",
              "      <td>0.0</td>\n",
              "      <td>3.0</td>\n",
              "    </tr>\n",
              "    <tr>\n",
              "      <th>2015-07-14</th>\n",
              "      <td>7.0</td>\n",
              "      <td>0.0</td>\n",
              "      <td>0.0</td>\n",
              "      <td>4.0</td>\n",
              "    </tr>\n",
              "    <tr>\n",
              "      <th>2015-07-13</th>\n",
              "      <td>7.0</td>\n",
              "      <td>0.0</td>\n",
              "      <td>0.0</td>\n",
              "      <td>5.0</td>\n",
              "    </tr>\n",
              "    <tr>\n",
              "      <th>2015-07-12</th>\n",
              "      <td>7.0</td>\n",
              "      <td>0.0</td>\n",
              "      <td>0.0</td>\n",
              "      <td>5.0</td>\n",
              "    </tr>\n",
              "  </tbody>\n",
              "</table>\n",
              "</div>"
            ],
            "text/plain": [
              "                  Store  SchoolHoliday  StateHoliday_bool  Promo\n",
              "Store Date                                                      \n",
              "1     2015-07-31    1.0            1.0                0.0    1.0\n",
              "      2015-07-30    2.0            2.0                0.0    2.0\n",
              "      2015-07-29    3.0            3.0                0.0    3.0\n",
              "      2015-07-28    4.0            4.0                0.0    4.0\n",
              "      2015-07-27    5.0            5.0                0.0    5.0\n",
              "      2015-07-26    6.0            5.0                0.0    5.0\n",
              "      2015-07-25    7.0            5.0                0.0    5.0\n",
              "      2015-07-24    7.0            4.0                0.0    4.0\n",
              "      2015-07-23    7.0            3.0                0.0    3.0\n",
              "      2015-07-22    7.0            2.0                0.0    2.0\n",
              "      2015-07-21    7.0            1.0                0.0    1.0\n",
              "      2015-07-20    7.0            0.0                0.0    0.0\n",
              "      2015-07-19    7.0            0.0                0.0    0.0\n",
              "      2015-07-18    7.0            0.0                0.0    0.0\n",
              "      2015-07-17    7.0            0.0                0.0    1.0\n",
              "      2015-07-16    7.0            0.0                0.0    2.0\n",
              "      2015-07-15    7.0            0.0                0.0    3.0\n",
              "      2015-07-14    7.0            0.0                0.0    4.0\n",
              "      2015-07-13    7.0            0.0                0.0    5.0\n",
              "      2015-07-12    7.0            0.0                0.0    5.0"
            ]
          },
          "metadata": {},
          "execution_count": 76
        }
      ]
    },
    {
      "cell_type": "code",
      "metadata": {
        "id": "V37iBqLKnPvI"
      },
      "source": [
        "fwd_train.drop('Store',1,inplace=True)\n",
        "fwd_train.reset_index(inplace=True)\n",
        "fwd_test.drop('Store',1,inplace=True)\n",
        "fwd_test.reset_index(inplace=True)"
      ],
      "execution_count": 77,
      "outputs": []
    },
    {
      "cell_type": "code",
      "metadata": {
        "id": "1SdAqCitnQqt"
      },
      "source": [
        "df_train.reset_index(inplace=True)\n",
        "df_test.reset_index(inplace=True)"
      ],
      "execution_count": 78,
      "outputs": []
    },
    {
      "cell_type": "code",
      "metadata": {
        "id": "To-xY_t_nRhu"
      },
      "source": [
        "df_train = df_train.merge(bwd_train, 'left', ['Date', 'Store'], suffixes=['', '_bw'])\n",
        "df_train = df_train.merge(fwd_train, 'left', ['Date', 'Store'], suffixes=['', '_fw'])\n",
        "df_test = df_test.merge(bwd_test, 'left', ['Date', 'Store'], suffixes=['', '_bw'])\n",
        "df_test = df_test.merge(fwd_test, 'left', ['Date', 'Store'], suffixes=['', '_fw'])"
      ],
      "execution_count": 79,
      "outputs": []
    },
    {
      "cell_type": "code",
      "metadata": {
        "id": "AcOhqSmdnSW5"
      },
      "source": [
        "df_train.drop(columns,1,inplace=True)\n",
        "df_test.drop(columns,1,inplace=True)"
      ],
      "execution_count": 80,
      "outputs": []
    },
    {
      "cell_type": "code",
      "metadata": {
        "colab": {
          "base_uri": "https://localhost:8080/",
          "height": 307
        },
        "id": "VuNUakL8nUHG",
        "outputId": "941714e4-4041-4153-fc48-99b7013fcefc"
      },
      "source": [
        "df_train.head()"
      ],
      "execution_count": 81,
      "outputs": [
        {
          "output_type": "execute_result",
          "data": {
            "text/html": [
              "<div>\n",
              "<style scoped>\n",
              "    .dataframe tbody tr th:only-of-type {\n",
              "        vertical-align: middle;\n",
              "    }\n",
              "\n",
              "    .dataframe tbody tr th {\n",
              "        vertical-align: top;\n",
              "    }\n",
              "\n",
              "    .dataframe thead th {\n",
              "        text-align: right;\n",
              "    }\n",
              "</style>\n",
              "<table border=\"1\" class=\"dataframe\">\n",
              "  <thead>\n",
              "    <tr style=\"text-align: right;\">\n",
              "      <th></th>\n",
              "      <th>Date</th>\n",
              "      <th>Store</th>\n",
              "      <th>AfterSchoolHoliday</th>\n",
              "      <th>BeforeSchoolHoliday</th>\n",
              "      <th>AfterStateHoliday_bool</th>\n",
              "      <th>BeforeStateHoliday_bool</th>\n",
              "      <th>AfterPromo</th>\n",
              "      <th>BeforePromo</th>\n",
              "      <th>SchoolHoliday_bw</th>\n",
              "      <th>StateHoliday_bool_bw</th>\n",
              "      <th>Promo_bw</th>\n",
              "      <th>SchoolHoliday_fw</th>\n",
              "      <th>StateHoliday_bool_fw</th>\n",
              "      <th>Promo_fw</th>\n",
              "    </tr>\n",
              "  </thead>\n",
              "  <tbody>\n",
              "    <tr>\n",
              "      <th>0</th>\n",
              "      <td>2015-07-31</td>\n",
              "      <td>1</td>\n",
              "      <td>0</td>\n",
              "      <td>0</td>\n",
              "      <td>57</td>\n",
              "      <td>0</td>\n",
              "      <td>0</td>\n",
              "      <td>0</td>\n",
              "      <td>5.0</td>\n",
              "      <td>0.0</td>\n",
              "      <td>5.0</td>\n",
              "      <td>1.0</td>\n",
              "      <td>0.0</td>\n",
              "      <td>1.0</td>\n",
              "    </tr>\n",
              "    <tr>\n",
              "      <th>1</th>\n",
              "      <td>2015-07-30</td>\n",
              "      <td>1</td>\n",
              "      <td>0</td>\n",
              "      <td>0</td>\n",
              "      <td>56</td>\n",
              "      <td>0</td>\n",
              "      <td>0</td>\n",
              "      <td>0</td>\n",
              "      <td>4.0</td>\n",
              "      <td>0.0</td>\n",
              "      <td>4.0</td>\n",
              "      <td>2.0</td>\n",
              "      <td>0.0</td>\n",
              "      <td>2.0</td>\n",
              "    </tr>\n",
              "    <tr>\n",
              "      <th>2</th>\n",
              "      <td>2015-07-29</td>\n",
              "      <td>1</td>\n",
              "      <td>0</td>\n",
              "      <td>0</td>\n",
              "      <td>55</td>\n",
              "      <td>0</td>\n",
              "      <td>0</td>\n",
              "      <td>0</td>\n",
              "      <td>3.0</td>\n",
              "      <td>0.0</td>\n",
              "      <td>3.0</td>\n",
              "      <td>3.0</td>\n",
              "      <td>0.0</td>\n",
              "      <td>3.0</td>\n",
              "    </tr>\n",
              "    <tr>\n",
              "      <th>3</th>\n",
              "      <td>2015-07-28</td>\n",
              "      <td>1</td>\n",
              "      <td>0</td>\n",
              "      <td>0</td>\n",
              "      <td>54</td>\n",
              "      <td>0</td>\n",
              "      <td>0</td>\n",
              "      <td>0</td>\n",
              "      <td>2.0</td>\n",
              "      <td>0.0</td>\n",
              "      <td>2.0</td>\n",
              "      <td>4.0</td>\n",
              "      <td>0.0</td>\n",
              "      <td>4.0</td>\n",
              "    </tr>\n",
              "    <tr>\n",
              "      <th>4</th>\n",
              "      <td>2015-07-27</td>\n",
              "      <td>1</td>\n",
              "      <td>0</td>\n",
              "      <td>0</td>\n",
              "      <td>53</td>\n",
              "      <td>0</td>\n",
              "      <td>0</td>\n",
              "      <td>0</td>\n",
              "      <td>1.0</td>\n",
              "      <td>0.0</td>\n",
              "      <td>1.0</td>\n",
              "      <td>5.0</td>\n",
              "      <td>0.0</td>\n",
              "      <td>5.0</td>\n",
              "    </tr>\n",
              "  </tbody>\n",
              "</table>\n",
              "</div>"
            ],
            "text/plain": [
              "        Date  Store  ...  StateHoliday_bool_fw  Promo_fw\n",
              "0 2015-07-31      1  ...                   0.0       1.0\n",
              "1 2015-07-30      1  ...                   0.0       2.0\n",
              "2 2015-07-29      1  ...                   0.0       3.0\n",
              "3 2015-07-28      1  ...                   0.0       4.0\n",
              "4 2015-07-27      1  ...                   0.0       5.0\n",
              "\n",
              "[5 rows x 14 columns]"
            ]
          },
          "metadata": {},
          "execution_count": 81
        }
      ]
    },
    {
      "cell_type": "code",
      "metadata": {
        "id": "wdS5iS1dnU3W"
      },
      "source": [
        "df_train[\"Date\"] = pd.to_datetime(df_train.Date)\n",
        "df_test[\"Date\"] = pd.to_datetime(df_test.Date)"
      ],
      "execution_count": 82,
      "outputs": []
    },
    {
      "cell_type": "code",
      "metadata": {
        "colab": {
          "base_uri": "https://localhost:8080/",
          "height": 307
        },
        "id": "UrcJSAYxnVpg",
        "outputId": "a5cd9c9f-b43f-419b-e601-78f4128a0122"
      },
      "source": [
        "df_train.head()"
      ],
      "execution_count": 83,
      "outputs": [
        {
          "output_type": "execute_result",
          "data": {
            "text/html": [
              "<div>\n",
              "<style scoped>\n",
              "    .dataframe tbody tr th:only-of-type {\n",
              "        vertical-align: middle;\n",
              "    }\n",
              "\n",
              "    .dataframe tbody tr th {\n",
              "        vertical-align: top;\n",
              "    }\n",
              "\n",
              "    .dataframe thead th {\n",
              "        text-align: right;\n",
              "    }\n",
              "</style>\n",
              "<table border=\"1\" class=\"dataframe\">\n",
              "  <thead>\n",
              "    <tr style=\"text-align: right;\">\n",
              "      <th></th>\n",
              "      <th>Date</th>\n",
              "      <th>Store</th>\n",
              "      <th>AfterSchoolHoliday</th>\n",
              "      <th>BeforeSchoolHoliday</th>\n",
              "      <th>AfterStateHoliday_bool</th>\n",
              "      <th>BeforeStateHoliday_bool</th>\n",
              "      <th>AfterPromo</th>\n",
              "      <th>BeforePromo</th>\n",
              "      <th>SchoolHoliday_bw</th>\n",
              "      <th>StateHoliday_bool_bw</th>\n",
              "      <th>Promo_bw</th>\n",
              "      <th>SchoolHoliday_fw</th>\n",
              "      <th>StateHoliday_bool_fw</th>\n",
              "      <th>Promo_fw</th>\n",
              "    </tr>\n",
              "  </thead>\n",
              "  <tbody>\n",
              "    <tr>\n",
              "      <th>0</th>\n",
              "      <td>2015-07-31</td>\n",
              "      <td>1</td>\n",
              "      <td>0</td>\n",
              "      <td>0</td>\n",
              "      <td>57</td>\n",
              "      <td>0</td>\n",
              "      <td>0</td>\n",
              "      <td>0</td>\n",
              "      <td>5.0</td>\n",
              "      <td>0.0</td>\n",
              "      <td>5.0</td>\n",
              "      <td>1.0</td>\n",
              "      <td>0.0</td>\n",
              "      <td>1.0</td>\n",
              "    </tr>\n",
              "    <tr>\n",
              "      <th>1</th>\n",
              "      <td>2015-07-30</td>\n",
              "      <td>1</td>\n",
              "      <td>0</td>\n",
              "      <td>0</td>\n",
              "      <td>56</td>\n",
              "      <td>0</td>\n",
              "      <td>0</td>\n",
              "      <td>0</td>\n",
              "      <td>4.0</td>\n",
              "      <td>0.0</td>\n",
              "      <td>4.0</td>\n",
              "      <td>2.0</td>\n",
              "      <td>0.0</td>\n",
              "      <td>2.0</td>\n",
              "    </tr>\n",
              "    <tr>\n",
              "      <th>2</th>\n",
              "      <td>2015-07-29</td>\n",
              "      <td>1</td>\n",
              "      <td>0</td>\n",
              "      <td>0</td>\n",
              "      <td>55</td>\n",
              "      <td>0</td>\n",
              "      <td>0</td>\n",
              "      <td>0</td>\n",
              "      <td>3.0</td>\n",
              "      <td>0.0</td>\n",
              "      <td>3.0</td>\n",
              "      <td>3.0</td>\n",
              "      <td>0.0</td>\n",
              "      <td>3.0</td>\n",
              "    </tr>\n",
              "    <tr>\n",
              "      <th>3</th>\n",
              "      <td>2015-07-28</td>\n",
              "      <td>1</td>\n",
              "      <td>0</td>\n",
              "      <td>0</td>\n",
              "      <td>54</td>\n",
              "      <td>0</td>\n",
              "      <td>0</td>\n",
              "      <td>0</td>\n",
              "      <td>2.0</td>\n",
              "      <td>0.0</td>\n",
              "      <td>2.0</td>\n",
              "      <td>4.0</td>\n",
              "      <td>0.0</td>\n",
              "      <td>4.0</td>\n",
              "    </tr>\n",
              "    <tr>\n",
              "      <th>4</th>\n",
              "      <td>2015-07-27</td>\n",
              "      <td>1</td>\n",
              "      <td>0</td>\n",
              "      <td>0</td>\n",
              "      <td>53</td>\n",
              "      <td>0</td>\n",
              "      <td>0</td>\n",
              "      <td>0</td>\n",
              "      <td>1.0</td>\n",
              "      <td>0.0</td>\n",
              "      <td>1.0</td>\n",
              "      <td>5.0</td>\n",
              "      <td>0.0</td>\n",
              "      <td>5.0</td>\n",
              "    </tr>\n",
              "  </tbody>\n",
              "</table>\n",
              "</div>"
            ],
            "text/plain": [
              "        Date  Store  ...  StateHoliday_bool_fw  Promo_fw\n",
              "0 2015-07-31      1  ...                   0.0       1.0\n",
              "1 2015-07-30      1  ...                   0.0       2.0\n",
              "2 2015-07-29      1  ...                   0.0       3.0\n",
              "3 2015-07-28      1  ...                   0.0       4.0\n",
              "4 2015-07-27      1  ...                   0.0       5.0\n",
              "\n",
              "[5 rows x 14 columns]"
            ]
          },
          "metadata": {},
          "execution_count": 83
        }
      ]
    },
    {
      "cell_type": "code",
      "metadata": {
        "id": "8ThHGHnznYRd"
      },
      "source": [
        "def join_df(left, right, left_on, right_on=None):\n",
        "    if right_on is None: right_on = left_on\n",
        "    return left.merge(right, how='left', left_on=left_on, right_on=right_on, \n",
        "                      suffixes=(\"\", \"_y\"))"
      ],
      "execution_count": 84,
      "outputs": []
    },
    {
      "cell_type": "code",
      "metadata": {
        "id": "FUoOfG1NnZLn"
      },
      "source": [
        "joined_train = join_df(joined_train, df_train, ['Store', 'Date'])\n",
        "joined_test = join_df(joined_test, df_test, ['Store', 'Date'])"
      ],
      "execution_count": 85,
      "outputs": []
    },
    {
      "cell_type": "code",
      "metadata": {
        "id": "9fPuo7kina7Y"
      },
      "source": [
        "joined_train.to_feather('all_preprocessed_train.fth')"
      ],
      "execution_count": 86,
      "outputs": []
    },
    {
      "cell_type": "code",
      "metadata": {
        "id": "XjiGbVIvnbuN"
      },
      "source": [
        "\n",
        "joined_test.to_feather('all_preprocessed_test.fth')"
      ],
      "execution_count": 87,
      "outputs": []
    },
    {
      "cell_type": "markdown",
      "metadata": {
        "id": "-n6d1biSpS4E"
      },
      "source": [
        "# 4. Normalize and Encode"
      ]
    },
    {
      "cell_type": "code",
      "metadata": {
        "colab": {
          "base_uri": "https://localhost:8080/"
        },
        "id": "QiQScicIpcIU",
        "outputId": "9a82a6c9-1b0f-4383-a24e-59a26b7324eb"
      },
      "source": [
        "pip install pyarrow"
      ],
      "execution_count": 88,
      "outputs": [
        {
          "output_type": "stream",
          "name": "stdout",
          "text": [
            "Requirement already satisfied: pyarrow in /usr/local/lib/python3.7/dist-packages (3.0.0)\n",
            "Requirement already satisfied: numpy>=1.16.6 in /usr/local/lib/python3.7/dist-packages (from pyarrow) (1.19.5)\n"
          ]
        }
      ]
    },
    {
      "cell_type": "code",
      "metadata": {
        "id": "Q7nM5luIpVeX"
      },
      "source": [
        "import pandas as pd\n",
        "import numpy as np\n",
        "from pandas_summary import DataFrameSummary\n",
        "from sklearn.preprocessing import LabelEncoder, StandardScaler"
      ],
      "execution_count": 89,
      "outputs": []
    },
    {
      "cell_type": "code",
      "metadata": {
        "id": "LoSr8IE8phl0"
      },
      "source": [
        "df_train = pd.read_feather('all_preprocessed_train.fth')\n",
        "df_test = pd.read_feather('all_preprocessed_test.fth')"
      ],
      "execution_count": 90,
      "outputs": []
    },
    {
      "cell_type": "code",
      "metadata": {
        "colab": {
          "base_uri": "https://localhost:8080/"
        },
        "id": "jK-Lzr7fplns",
        "outputId": "969ae982-71a8-4eca-d099-8ce80170f910"
      },
      "source": [
        "# Verificación de que se hicieron bien las cosas en testa también\n",
        "set(df_train.columns) - set(df_test.columns)"
      ],
      "execution_count": 91,
      "outputs": [
        {
          "output_type": "execute_result",
          "data": {
            "text/plain": [
              "{'Customers', 'Sales'}"
            ]
          },
          "metadata": {},
          "execution_count": 91
        }
      ]
    },
    {
      "cell_type": "code",
      "metadata": {
        "colab": {
          "base_uri": "https://localhost:8080/"
        },
        "id": "qTrVl6rSpmjw",
        "outputId": "ca12e559-826c-40d4-cc32-2585b5bf2165"
      },
      "source": [
        "(df_train['CompetitionDistance'].isna()).sum()"
      ],
      "execution_count": 92,
      "outputs": [
        {
          "output_type": "execute_result",
          "data": {
            "text/plain": [
              "0"
            ]
          },
          "metadata": {},
          "execution_count": 92
        }
      ]
    },
    {
      "cell_type": "markdown",
      "metadata": {
        "id": "EUNGhtfZpoHi"
      },
      "source": [
        "## Categorical Variables"
      ]
    },
    {
      "cell_type": "code",
      "metadata": {
        "id": "-lfBIByXppmM"
      },
      "source": [
        "cat_vars = ['Store', 'DayOfWeek', 'Year', 'Month', 'Day', 'StateHoliday', \n",
        "            'CompetitionMonthsOpen', 'Promo2Weeks', \n",
        "            'StoreType', 'Assortment', 'PromoInterval', \n",
        "            'CompetitionOpenSinceYear', 'Promo2SinceYear', \n",
        "            'State', 'Week', 'Events', 'Promo_fw', 'Promo_bw', \n",
        "            'StateHoliday_bool_fw', 'StateHoliday_bool_bw', 'SchoolHoliday_fw', \n",
        "            'SchoolHoliday_bw']\n"
      ],
      "execution_count": 93,
      "outputs": []
    },
    {
      "cell_type": "code",
      "metadata": {
        "colab": {
          "base_uri": "https://localhost:8080/",
          "height": 726
        },
        "id": "PvkYu5d6ptzE",
        "outputId": "cecb0914-bf0c-4ac4-9db4-7f0d3219e0aa"
      },
      "source": [
        "DataFrameSummary(df_train[cat_vars]).summary().loc[['uniques', 'types', 'missing']].T"
      ],
      "execution_count": 94,
      "outputs": [
        {
          "output_type": "execute_result",
          "data": {
            "text/html": [
              "<div>\n",
              "<style scoped>\n",
              "    .dataframe tbody tr th:only-of-type {\n",
              "        vertical-align: middle;\n",
              "    }\n",
              "\n",
              "    .dataframe tbody tr th {\n",
              "        vertical-align: top;\n",
              "    }\n",
              "\n",
              "    .dataframe thead th {\n",
              "        text-align: right;\n",
              "    }\n",
              "</style>\n",
              "<table border=\"1\" class=\"dataframe\">\n",
              "  <thead>\n",
              "    <tr style=\"text-align: right;\">\n",
              "      <th></th>\n",
              "      <th>uniques</th>\n",
              "      <th>types</th>\n",
              "      <th>missing</th>\n",
              "    </tr>\n",
              "  </thead>\n",
              "  <tbody>\n",
              "    <tr>\n",
              "      <th>Store</th>\n",
              "      <td>1115</td>\n",
              "      <td>numeric</td>\n",
              "      <td>0</td>\n",
              "    </tr>\n",
              "    <tr>\n",
              "      <th>DayOfWeek</th>\n",
              "      <td>7</td>\n",
              "      <td>numeric</td>\n",
              "      <td>0</td>\n",
              "    </tr>\n",
              "    <tr>\n",
              "      <th>Year</th>\n",
              "      <td>3</td>\n",
              "      <td>numeric</td>\n",
              "      <td>0</td>\n",
              "    </tr>\n",
              "    <tr>\n",
              "      <th>Month</th>\n",
              "      <td>12</td>\n",
              "      <td>numeric</td>\n",
              "      <td>0</td>\n",
              "    </tr>\n",
              "    <tr>\n",
              "      <th>Day</th>\n",
              "      <td>31</td>\n",
              "      <td>numeric</td>\n",
              "      <td>0</td>\n",
              "    </tr>\n",
              "    <tr>\n",
              "      <th>StateHoliday</th>\n",
              "      <td>4</td>\n",
              "      <td>categorical</td>\n",
              "      <td>0</td>\n",
              "    </tr>\n",
              "    <tr>\n",
              "      <th>CompetitionMonthsOpen</th>\n",
              "      <td>25</td>\n",
              "      <td>numeric</td>\n",
              "      <td>0</td>\n",
              "    </tr>\n",
              "    <tr>\n",
              "      <th>Promo2Weeks</th>\n",
              "      <td>26</td>\n",
              "      <td>numeric</td>\n",
              "      <td>0</td>\n",
              "    </tr>\n",
              "    <tr>\n",
              "      <th>StoreType</th>\n",
              "      <td>4</td>\n",
              "      <td>categorical</td>\n",
              "      <td>0</td>\n",
              "    </tr>\n",
              "    <tr>\n",
              "      <th>Assortment</th>\n",
              "      <td>3</td>\n",
              "      <td>categorical</td>\n",
              "      <td>0</td>\n",
              "    </tr>\n",
              "    <tr>\n",
              "      <th>PromoInterval</th>\n",
              "      <td>4</td>\n",
              "      <td>categorical</td>\n",
              "      <td>0</td>\n",
              "    </tr>\n",
              "    <tr>\n",
              "      <th>CompetitionOpenSinceYear</th>\n",
              "      <td>21</td>\n",
              "      <td>numeric</td>\n",
              "      <td>0</td>\n",
              "    </tr>\n",
              "    <tr>\n",
              "      <th>Promo2SinceYear</th>\n",
              "      <td>8</td>\n",
              "      <td>numeric</td>\n",
              "      <td>0</td>\n",
              "    </tr>\n",
              "    <tr>\n",
              "      <th>State</th>\n",
              "      <td>12</td>\n",
              "      <td>categorical</td>\n",
              "      <td>0</td>\n",
              "    </tr>\n",
              "    <tr>\n",
              "      <th>Week</th>\n",
              "      <td>52</td>\n",
              "      <td>numeric</td>\n",
              "      <td>0</td>\n",
              "    </tr>\n",
              "    <tr>\n",
              "      <th>Events</th>\n",
              "      <td>22</td>\n",
              "      <td>categorical</td>\n",
              "      <td>0</td>\n",
              "    </tr>\n",
              "    <tr>\n",
              "      <th>Promo_fw</th>\n",
              "      <td>6</td>\n",
              "      <td>numeric</td>\n",
              "      <td>0</td>\n",
              "    </tr>\n",
              "    <tr>\n",
              "      <th>Promo_bw</th>\n",
              "      <td>6</td>\n",
              "      <td>numeric</td>\n",
              "      <td>0</td>\n",
              "    </tr>\n",
              "    <tr>\n",
              "      <th>StateHoliday_bool_fw</th>\n",
              "      <td>3</td>\n",
              "      <td>numeric</td>\n",
              "      <td>0</td>\n",
              "    </tr>\n",
              "    <tr>\n",
              "      <th>StateHoliday_bool_bw</th>\n",
              "      <td>3</td>\n",
              "      <td>numeric</td>\n",
              "      <td>0</td>\n",
              "    </tr>\n",
              "    <tr>\n",
              "      <th>SchoolHoliday_fw</th>\n",
              "      <td>8</td>\n",
              "      <td>numeric</td>\n",
              "      <td>0</td>\n",
              "    </tr>\n",
              "    <tr>\n",
              "      <th>SchoolHoliday_bw</th>\n",
              "      <td>8</td>\n",
              "      <td>numeric</td>\n",
              "      <td>0</td>\n",
              "    </tr>\n",
              "  </tbody>\n",
              "</table>\n",
              "</div>"
            ],
            "text/plain": [
              "                         uniques        types missing\n",
              "Store                       1115      numeric       0\n",
              "DayOfWeek                      7      numeric       0\n",
              "Year                           3      numeric       0\n",
              "Month                         12      numeric       0\n",
              "Day                           31      numeric       0\n",
              "StateHoliday                   4  categorical       0\n",
              "CompetitionMonthsOpen         25      numeric       0\n",
              "Promo2Weeks                   26      numeric       0\n",
              "StoreType                      4  categorical       0\n",
              "Assortment                     3  categorical       0\n",
              "PromoInterval                  4  categorical       0\n",
              "CompetitionOpenSinceYear      21      numeric       0\n",
              "Promo2SinceYear                8      numeric       0\n",
              "State                         12  categorical       0\n",
              "Week                          52      numeric       0\n",
              "Events                        22  categorical       0\n",
              "Promo_fw                       6      numeric       0\n",
              "Promo_bw                       6      numeric       0\n",
              "StateHoliday_bool_fw           3      numeric       0\n",
              "StateHoliday_bool_bw           3      numeric       0\n",
              "SchoolHoliday_fw               8      numeric       0\n",
              "SchoolHoliday_bw               8      numeric       0"
            ]
          },
          "metadata": {},
          "execution_count": 94
        }
      ]
    },
    {
      "cell_type": "markdown",
      "metadata": {
        "id": "T7eoxtUepzl-"
      },
      "source": [
        "## Continuous Variables"
      ]
    },
    {
      "cell_type": "code",
      "metadata": {
        "id": "nX6uO6Lfp3hM"
      },
      "source": [
        "contin_vars = ['CompetitionDistance', \n",
        "               'Max_TemperatureC', 'Mean_TemperatureC', 'Min_TemperatureC', \n",
        "               'Precipitationmm', 'Max_Humidity', 'Mean_Humidity', 'Min_Humidity', \n",
        "               'Max_Wind_SpeedKm_h', 'Mean_Wind_SpeedKm_h', 'CloudCover', 'trend', \n",
        "               'trend_DE', 'AfterStateHoliday_bool', 'BeforeStateHoliday_bool', \n",
        "               'Promo', 'SchoolHoliday', 'StateHoliday_bool']\n"
      ],
      "execution_count": 95,
      "outputs": []
    },
    {
      "cell_type": "code",
      "metadata": {
        "colab": {
          "base_uri": "https://localhost:8080/",
          "height": 603
        },
        "id": "4RdOxQ-lp6TE",
        "outputId": "be5bafa2-1f1d-4f9f-f838-4dccd2ff8280"
      },
      "source": [
        "DataFrameSummary(df_train[contin_vars]).summary().loc[['uniques', 'types', 'missing']].T\n"
      ],
      "execution_count": 96,
      "outputs": [
        {
          "output_type": "execute_result",
          "data": {
            "text/html": [
              "<div>\n",
              "<style scoped>\n",
              "    .dataframe tbody tr th:only-of-type {\n",
              "        vertical-align: middle;\n",
              "    }\n",
              "\n",
              "    .dataframe tbody tr th {\n",
              "        vertical-align: top;\n",
              "    }\n",
              "\n",
              "    .dataframe thead th {\n",
              "        text-align: right;\n",
              "    }\n",
              "</style>\n",
              "<table border=\"1\" class=\"dataframe\">\n",
              "  <thead>\n",
              "    <tr style=\"text-align: right;\">\n",
              "      <th></th>\n",
              "      <th>uniques</th>\n",
              "      <th>types</th>\n",
              "      <th>missing</th>\n",
              "    </tr>\n",
              "  </thead>\n",
              "  <tbody>\n",
              "    <tr>\n",
              "      <th>CompetitionDistance</th>\n",
              "      <td>654</td>\n",
              "      <td>numeric</td>\n",
              "      <td>0</td>\n",
              "    </tr>\n",
              "    <tr>\n",
              "      <th>Max_TemperatureC</th>\n",
              "      <td>50</td>\n",
              "      <td>numeric</td>\n",
              "      <td>0</td>\n",
              "    </tr>\n",
              "    <tr>\n",
              "      <th>Mean_TemperatureC</th>\n",
              "      <td>45</td>\n",
              "      <td>numeric</td>\n",
              "      <td>0</td>\n",
              "    </tr>\n",
              "    <tr>\n",
              "      <th>Min_TemperatureC</th>\n",
              "      <td>40</td>\n",
              "      <td>numeric</td>\n",
              "      <td>0</td>\n",
              "    </tr>\n",
              "    <tr>\n",
              "      <th>Precipitationmm</th>\n",
              "      <td>40</td>\n",
              "      <td>numeric</td>\n",
              "      <td>0</td>\n",
              "    </tr>\n",
              "    <tr>\n",
              "      <th>Max_Humidity</th>\n",
              "      <td>52</td>\n",
              "      <td>numeric</td>\n",
              "      <td>0</td>\n",
              "    </tr>\n",
              "    <tr>\n",
              "      <th>Mean_Humidity</th>\n",
              "      <td>71</td>\n",
              "      <td>numeric</td>\n",
              "      <td>0</td>\n",
              "    </tr>\n",
              "    <tr>\n",
              "      <th>Min_Humidity</th>\n",
              "      <td>93</td>\n",
              "      <td>numeric</td>\n",
              "      <td>0</td>\n",
              "    </tr>\n",
              "    <tr>\n",
              "      <th>Max_Wind_SpeedKm_h</th>\n",
              "      <td>42</td>\n",
              "      <td>numeric</td>\n",
              "      <td>0</td>\n",
              "    </tr>\n",
              "    <tr>\n",
              "      <th>Mean_Wind_SpeedKm_h</th>\n",
              "      <td>27</td>\n",
              "      <td>numeric</td>\n",
              "      <td>0</td>\n",
              "    </tr>\n",
              "    <tr>\n",
              "      <th>CloudCover</th>\n",
              "      <td>9</td>\n",
              "      <td>numeric</td>\n",
              "      <td>0</td>\n",
              "    </tr>\n",
              "    <tr>\n",
              "      <th>trend</th>\n",
              "      <td>67</td>\n",
              "      <td>numeric</td>\n",
              "      <td>0</td>\n",
              "    </tr>\n",
              "    <tr>\n",
              "      <th>trend_DE</th>\n",
              "      <td>38</td>\n",
              "      <td>numeric</td>\n",
              "      <td>0</td>\n",
              "    </tr>\n",
              "    <tr>\n",
              "      <th>AfterStateHoliday_bool</th>\n",
              "      <td>136</td>\n",
              "      <td>numeric</td>\n",
              "      <td>0</td>\n",
              "    </tr>\n",
              "    <tr>\n",
              "      <th>BeforeStateHoliday_bool</th>\n",
              "      <td>147</td>\n",
              "      <td>numeric</td>\n",
              "      <td>0</td>\n",
              "    </tr>\n",
              "    <tr>\n",
              "      <th>Promo</th>\n",
              "      <td>2</td>\n",
              "      <td>bool</td>\n",
              "      <td>0</td>\n",
              "    </tr>\n",
              "    <tr>\n",
              "      <th>SchoolHoliday</th>\n",
              "      <td>2</td>\n",
              "      <td>bool</td>\n",
              "      <td>0</td>\n",
              "    </tr>\n",
              "    <tr>\n",
              "      <th>StateHoliday_bool</th>\n",
              "      <td>2</td>\n",
              "      <td>bool</td>\n",
              "      <td>0</td>\n",
              "    </tr>\n",
              "  </tbody>\n",
              "</table>\n",
              "</div>"
            ],
            "text/plain": [
              "                        uniques    types missing\n",
              "CompetitionDistance         654  numeric       0\n",
              "Max_TemperatureC             50  numeric       0\n",
              "Mean_TemperatureC            45  numeric       0\n",
              "Min_TemperatureC             40  numeric       0\n",
              "Precipitationmm              40  numeric       0\n",
              "Max_Humidity                 52  numeric       0\n",
              "Mean_Humidity                71  numeric       0\n",
              "Min_Humidity                 93  numeric       0\n",
              "Max_Wind_SpeedKm_h           42  numeric       0\n",
              "Mean_Wind_SpeedKm_h          27  numeric       0\n",
              "CloudCover                    9  numeric       0\n",
              "trend                        67  numeric       0\n",
              "trend_DE                     38  numeric       0\n",
              "AfterStateHoliday_bool      136  numeric       0\n",
              "BeforeStateHoliday_bool     147  numeric       0\n",
              "Promo                         2     bool       0\n",
              "SchoolHoliday                 2     bool       0\n",
              "StateHoliday_bool             2     bool       0"
            ]
          },
          "metadata": {},
          "execution_count": 96
        }
      ]
    },
    {
      "cell_type": "markdown",
      "metadata": {
        "id": "o3whU_Hep8xs"
      },
      "source": [
        "## Normalization and Encoding"
      ]
    },
    {
      "cell_type": "code",
      "metadata": {
        "colab": {
          "base_uri": "https://localhost:8080/"
        },
        "id": "NFA-s8ERp_dk",
        "outputId": "4a99a689-e8a7-4640-8290-5bd0073ea0b8"
      },
      "source": [
        "pip install sklearn_pandas"
      ],
      "execution_count": 97,
      "outputs": [
        {
          "output_type": "stream",
          "name": "stdout",
          "text": [
            "Requirement already satisfied: sklearn_pandas in /usr/local/lib/python3.7/dist-packages (1.8.0)\n",
            "Requirement already satisfied: scikit-learn>=0.15.0 in /usr/local/lib/python3.7/dist-packages (from sklearn_pandas) (0.22.2.post1)\n",
            "Requirement already satisfied: numpy>=1.6.1 in /usr/local/lib/python3.7/dist-packages (from sklearn_pandas) (1.19.5)\n",
            "Requirement already satisfied: scipy>=0.14 in /usr/local/lib/python3.7/dist-packages (from sklearn_pandas) (1.4.1)\n",
            "Requirement already satisfied: pandas>=0.11.0 in /usr/local/lib/python3.7/dist-packages (from sklearn_pandas) (1.1.5)\n",
            "Requirement already satisfied: python-dateutil>=2.7.3 in /usr/local/lib/python3.7/dist-packages (from pandas>=0.11.0->sklearn_pandas) (2.8.2)\n",
            "Requirement already satisfied: pytz>=2017.2 in /usr/local/lib/python3.7/dist-packages (from pandas>=0.11.0->sklearn_pandas) (2018.9)\n",
            "Requirement already satisfied: six>=1.5 in /usr/local/lib/python3.7/dist-packages (from python-dateutil>=2.7.3->pandas>=0.11.0->sklearn_pandas) (1.15.0)\n",
            "Requirement already satisfied: joblib>=0.11 in /usr/local/lib/python3.7/dist-packages (from scikit-learn>=0.15.0->sklearn_pandas) (1.1.0)\n"
          ]
        }
      ]
    },
    {
      "cell_type": "code",
      "metadata": {
        "id": "X8XHhpYzp7-t"
      },
      "source": [
        "from sklearn_pandas import DataFrameMapper"
      ],
      "execution_count": 98,
      "outputs": []
    },
    {
      "cell_type": "code",
      "metadata": {
        "colab": {
          "base_uri": "https://localhost:8080/"
        },
        "id": "z6SYmLKJqIXr",
        "outputId": "73ed3177-b1d7-4ec2-f797-fc9ebd9e22bc"
      },
      "source": [
        "cat_maps = [(o, LabelEncoder()) for o in cat_vars]\n",
        "contin_maps = [([o], StandardScaler()) for o in contin_vars]\n",
        "mapper_cat = DataFrameMapper(cat_maps)\n",
        "_ = mapper_cat.fit(df_train)\n",
        "# Assortment es la novena posición en cat_maps\n",
        "N = 10\n",
        "print(list(zip(df_train['Assortment'].values[:N], mapper_cat.transform(df_train)[:,9][:N])))\n",
        "print(list(zip(df_train['Events'].values[:N], mapper_cat.transform(df_train)[:,15][:N])))\n",
        "print(list(zip(df_train['Year'].values[:N], mapper_cat.transform(df_train)[:,2][:N])))"
      ],
      "execution_count": 99,
      "outputs": [
        {
          "output_type": "stream",
          "name": "stdout",
          "text": [
            "[('a', 0), ('a', 0), ('a', 0), ('c', 2), ('a', 0), ('a', 0), ('c', 2), ('a', 0), ('c', 2), ('a', 0)]\n",
            "[('Fog', 0), ('Fog', 0), ('Fog', 0), ('Sunny', 20), ('Sunny', 20), ('Sunny', 20), ('Rain', 10), ('Rain', 10), ('Fog', 0), ('Sunny', 20)]\n",
            "[(2015, 2), (2015, 2), (2015, 2), (2015, 2), (2015, 2), (2015, 2), (2015, 2), (2015, 2), (2015, 2), (2015, 2)]\n"
          ]
        }
      ]
    },
    {
      "cell_type": "code",
      "metadata": {
        "colab": {
          "base_uri": "https://localhost:8080/"
        },
        "id": "X9rKv8ApqPQU",
        "outputId": "e6345668-2636-4176-9265-92f5a9924a34"
      },
      "source": [
        "mapper_cont = DataFrameMapper(contin_maps)\n",
        "_ = mapper_cont.fit(df_train)\n",
        "N = 10\n",
        "print(df_train['CompetitionDistance'].values[:N])\n",
        "print(mapper_cont.transform(df_train)[:, 0][:N])"
      ],
      "execution_count": 100,
      "outputs": [
        {
          "output_type": "stream",
          "name": "stdout",
          "text": [
            "[ 1270.   570. 14130.   620. 29910.   310. 24000.  7520.  2030.  3160.]\n",
            "[-0.51104292 -0.59341201  1.00219483 -0.5875285   2.85902934 -0.62400624\n",
            "  2.16359893  0.22439533 -0.42161363 -0.28864639]\n"
          ]
        }
      ]
    },
    {
      "cell_type": "code",
      "metadata": {
        "colab": {
          "base_uri": "https://localhost:8080/",
          "height": 130
        },
        "id": "o3nPxp7hqSV_",
        "outputId": "8c7beca3-aab7-48f9-bdd4-761876783742"
      },
      "source": [
        "# La hacemos con todas ahora\n",
        "df_train[cat_vars] = mapper_cat.transform(df_train)\n",
        "df_test[cat_vars] = mapper_cat.transform(df_test)\n",
        "\n",
        "df_train[contin_vars] = mapper_cont.transform(df_train)\n",
        "df_test[contin_vars] = mapper_cont.transform(df_test)\n",
        "\n",
        "DataFrameSummary(df_train[cat_vars]).summary().loc[['uniques', 'types']]"
      ],
      "execution_count": 101,
      "outputs": [
        {
          "output_type": "execute_result",
          "data": {
            "text/html": [
              "<div>\n",
              "<style scoped>\n",
              "    .dataframe tbody tr th:only-of-type {\n",
              "        vertical-align: middle;\n",
              "    }\n",
              "\n",
              "    .dataframe tbody tr th {\n",
              "        vertical-align: top;\n",
              "    }\n",
              "\n",
              "    .dataframe thead th {\n",
              "        text-align: right;\n",
              "    }\n",
              "</style>\n",
              "<table border=\"1\" class=\"dataframe\">\n",
              "  <thead>\n",
              "    <tr style=\"text-align: right;\">\n",
              "      <th></th>\n",
              "      <th>Store</th>\n",
              "      <th>DayOfWeek</th>\n",
              "      <th>Year</th>\n",
              "      <th>Month</th>\n",
              "      <th>Day</th>\n",
              "      <th>StateHoliday</th>\n",
              "      <th>CompetitionMonthsOpen</th>\n",
              "      <th>Promo2Weeks</th>\n",
              "      <th>StoreType</th>\n",
              "      <th>Assortment</th>\n",
              "      <th>PromoInterval</th>\n",
              "      <th>CompetitionOpenSinceYear</th>\n",
              "      <th>Promo2SinceYear</th>\n",
              "      <th>State</th>\n",
              "      <th>Week</th>\n",
              "      <th>Events</th>\n",
              "      <th>Promo_fw</th>\n",
              "      <th>Promo_bw</th>\n",
              "      <th>StateHoliday_bool_fw</th>\n",
              "      <th>StateHoliday_bool_bw</th>\n",
              "      <th>SchoolHoliday_fw</th>\n",
              "      <th>SchoolHoliday_bw</th>\n",
              "    </tr>\n",
              "  </thead>\n",
              "  <tbody>\n",
              "    <tr>\n",
              "      <th>uniques</th>\n",
              "      <td>1115</td>\n",
              "      <td>7</td>\n",
              "      <td>3</td>\n",
              "      <td>12</td>\n",
              "      <td>31</td>\n",
              "      <td>4</td>\n",
              "      <td>25</td>\n",
              "      <td>26</td>\n",
              "      <td>4</td>\n",
              "      <td>3</td>\n",
              "      <td>4</td>\n",
              "      <td>21</td>\n",
              "      <td>8</td>\n",
              "      <td>12</td>\n",
              "      <td>52</td>\n",
              "      <td>22</td>\n",
              "      <td>6</td>\n",
              "      <td>6</td>\n",
              "      <td>3</td>\n",
              "      <td>3</td>\n",
              "      <td>8</td>\n",
              "      <td>8</td>\n",
              "    </tr>\n",
              "    <tr>\n",
              "      <th>types</th>\n",
              "      <td>numeric</td>\n",
              "      <td>numeric</td>\n",
              "      <td>numeric</td>\n",
              "      <td>numeric</td>\n",
              "      <td>numeric</td>\n",
              "      <td>numeric</td>\n",
              "      <td>numeric</td>\n",
              "      <td>numeric</td>\n",
              "      <td>numeric</td>\n",
              "      <td>numeric</td>\n",
              "      <td>numeric</td>\n",
              "      <td>numeric</td>\n",
              "      <td>numeric</td>\n",
              "      <td>numeric</td>\n",
              "      <td>numeric</td>\n",
              "      <td>numeric</td>\n",
              "      <td>numeric</td>\n",
              "      <td>numeric</td>\n",
              "      <td>numeric</td>\n",
              "      <td>numeric</td>\n",
              "      <td>numeric</td>\n",
              "      <td>numeric</td>\n",
              "    </tr>\n",
              "  </tbody>\n",
              "</table>\n",
              "</div>"
            ],
            "text/plain": [
              "           Store DayOfWeek  ... SchoolHoliday_fw SchoolHoliday_bw\n",
              "uniques     1115         7  ...                8                8\n",
              "types    numeric   numeric  ...          numeric          numeric\n",
              "\n",
              "[2 rows x 22 columns]"
            ]
          },
          "metadata": {},
          "execution_count": 101
        }
      ]
    },
    {
      "cell_type": "markdown",
      "metadata": {
        "id": "75RSzgeJraI1"
      },
      "source": [
        "## Final Processing"
      ]
    },
    {
      "cell_type": "code",
      "metadata": {
        "id": "JuSH-R6urcA9"
      },
      "source": [
        "df_sales = df_train[df_train.Sales!=0]\n",
        "\n",
        "df_test.reset_index(inplace=True)\n",
        "df_sales.reset_index(inplace=True)"
      ],
      "execution_count": 102,
      "outputs": []
    },
    {
      "cell_type": "code",
      "metadata": {
        "id": "j_oqzqhsrhhb"
      },
      "source": [
        "df_sales.to_feather('train_normalized_data.fth')\n",
        "df_test.to_feather('test_normalized_data.fth')\n"
      ],
      "execution_count": 103,
      "outputs": []
    },
    {
      "cell_type": "markdown",
      "metadata": {
        "id": "k5oTt7kXs9RN"
      },
      "source": [
        "## Baselines"
      ]
    },
    {
      "cell_type": "code",
      "metadata": {
        "id": "Bm2f0otktAz0"
      },
      "source": [
        "df = pd.read_feather('train_normalized_data.fth')\n",
        "df_test = pd.read_feather('test_normalized_data.fth')"
      ],
      "execution_count": 104,
      "outputs": []
    },
    {
      "cell_type": "code",
      "metadata": {
        "colab": {
          "base_uri": "https://localhost:8080/"
        },
        "id": "z0ZhczCstD6o",
        "outputId": "ed339dcd-fca9-4afd-a05d-faad5b5f3d4c"
      },
      "source": [
        "df_train = df[df.Date < datetime.datetime(2015, 7, 1)]  \n",
        "df_val = df[df.Date >= datetime.datetime(2015, 7, 1)]\n",
        "len(df_train)/len(df), len(df_val)/len(df), len(df), len(df_val)"
      ],
      "execution_count": 105,
      "outputs": [
        {
          "output_type": "execute_result",
          "data": {
            "text/plain": [
              "(0.9642465458145908, 0.035753454185409164, 844338, 30188)"
            ]
          },
          "metadata": {},
          "execution_count": 105
        }
      ]
    },
    {
      "cell_type": "code",
      "metadata": {
        "id": "IyzLjxjPtE59"
      },
      "source": [
        "final_train = False"
      ],
      "execution_count": 106,
      "outputs": []
    },
    {
      "cell_type": "code",
      "metadata": {
        "id": "gfPReHurtGAQ"
      },
      "source": [
        "def get_metric(sales, sales_):\n",
        "    return np.sqrt((((sales - sales_)/sales)**2).sum()/len(sales))"
      ],
      "execution_count": 107,
      "outputs": []
    },
    {
      "cell_type": "code",
      "metadata": {
        "id": "3BDlaH1QtI7u"
      },
      "source": [
        "max_sales = df_train['Sales'].max()\n",
        "df.loc[:, 'Sales_norm'] = df['Sales'].values/max_sales"
      ],
      "execution_count": 108,
      "outputs": []
    },
    {
      "cell_type": "code",
      "metadata": {
        "colab": {
          "base_uri": "https://localhost:8080/"
        },
        "id": "S-xnh3AItKXV",
        "outputId": "176f5131-f2d4-494b-c831-2aedc882116c"
      },
      "source": [
        "df_train.loc[:, 'Sales_norm'] = df_train['Sales'].values/max_sales\n",
        "df_val.loc[:, 'Sales_norm'] = df_val['Sales'].values/max_sales"
      ],
      "execution_count": 109,
      "outputs": [
        {
          "output_type": "stream",
          "name": "stderr",
          "text": [
            "/usr/local/lib/python3.7/dist-packages/pandas/core/indexing.py:1596: SettingWithCopyWarning: \n",
            "A value is trying to be set on a copy of a slice from a DataFrame.\n",
            "Try using .loc[row_indexer,col_indexer] = value instead\n",
            "\n",
            "See the caveats in the documentation: https://pandas.pydata.org/pandas-docs/stable/user_guide/indexing.html#returning-a-view-versus-a-copy\n",
            "  self.obj[key] = _infer_fill_value(value)\n",
            "/usr/local/lib/python3.7/dist-packages/pandas/core/indexing.py:1743: SettingWithCopyWarning: \n",
            "A value is trying to be set on a copy of a slice from a DataFrame.\n",
            "Try using .loc[row_indexer,col_indexer] = value instead\n",
            "\n",
            "See the caveats in the documentation: https://pandas.pydata.org/pandas-docs/stable/user_guide/indexing.html#returning-a-view-versus-a-copy\n",
            "  isetter(ilocs[0], value)\n"
          ]
        }
      ]
    },
    {
      "cell_type": "code",
      "metadata": {
        "colab": {
          "base_uri": "https://localhost:8080/"
        },
        "id": "Pijq22L6tQBu",
        "outputId": "da3c919e-403f-4827-9bb9-89b8f5a4ea56"
      },
      "source": [
        "print('Train:')\n",
        "print(get_metric(df_train['Sales_norm'], \n",
        "                 df_train['Sales_norm'].mean()))\n",
        "print('Val:')\n",
        "get_metric(df_val['Sales_norm'], \n",
        "           df_train['Sales_norm'].mean())"
      ],
      "execution_count": 110,
      "outputs": [
        {
          "output_type": "stream",
          "name": "stdout",
          "text": [
            "Train:\n",
            "0.6371089378658443\n",
            "Val:\n"
          ]
        },
        {
          "output_type": "execute_result",
          "data": {
            "text/plain": [
              "0.5496723521813062"
            ]
          },
          "metadata": {},
          "execution_count": 110
        }
      ]
    },
    {
      "cell_type": "code",
      "metadata": {
        "id": "grCyqTXNtSbN"
      },
      "source": [
        "def get_mean_by_column(column, sales_str):\n",
        "    group_means_dict = {}\n",
        "    group_mean_list = []\n",
        "    for col_value, group_df in df_train.groupby(column):\n",
        "        group_mean =  group_df[group_df[sales_str] > 0][sales_str].mean()\n",
        "        group_means_dict[col_value] = group_mean\n",
        "        group_mean_list.append(group_mean)\n",
        "    print('Train:', get_metric(df_train[sales_str], \n",
        "                               df_train[column].apply(group_means_dict.get)))\n",
        "    print('Val:', get_metric(df_val[sales_str], \n",
        "                             df_val[column].apply(group_means_dict.get)))\n",
        "    return group_means_dict, group_mean_list\n"
      ],
      "execution_count": 111,
      "outputs": []
    },
    {
      "cell_type": "code",
      "metadata": {
        "colab": {
          "base_uri": "https://localhost:8080/"
        },
        "id": "0o0tWQVttXMm",
        "outputId": "08f97471-9b31-4bd0-8dfe-d134c4f82bc4"
      },
      "source": [
        "# Media por store\n",
        "_ = get_mean_by_column('Store', 'Sales_norm')"
      ],
      "execution_count": 112,
      "outputs": [
        {
          "output_type": "stream",
          "name": "stdout",
          "text": [
            "Train: 0.39609135212418334\n",
            "Val: 0.3071746085338872\n"
          ]
        }
      ]
    },
    {
      "cell_type": "code",
      "metadata": {
        "colab": {
          "base_uri": "https://localhost:8080/"
        },
        "id": "1f96QoUStYiU",
        "outputId": "e80967a0-83b9-48c1-9c9c-2991f9ef15f2"
      },
      "source": [
        "# Media por dia de la semana\n",
        "_ = get_mean_by_column('DayOfWeek', 'Sales_norm')"
      ],
      "execution_count": 113,
      "outputs": [
        {
          "output_type": "stream",
          "name": "stdout",
          "text": [
            "Train: 0.600887492275444\n",
            "Val: 0.506139218663547\n"
          ]
        }
      ]
    },
    {
      "cell_type": "code",
      "metadata": {
        "colab": {
          "base_uri": "https://localhost:8080/"
        },
        "id": "m9K_-LnYtZYo",
        "outputId": "b41e1e8a-7035-4d78-a693-645b479f60ef"
      },
      "source": [
        "# Media por numera de semana (1-52)\n",
        "_ = get_mean_by_column('Week', 'Sales_norm')"
      ],
      "execution_count": 114,
      "outputs": [
        {
          "output_type": "stream",
          "name": "stdout",
          "text": [
            "Train: 0.6077405789213656\n",
            "Val: 0.5171468581189805\n"
          ]
        }
      ]
    },
    {
      "cell_type": "code",
      "metadata": {
        "colab": {
          "base_uri": "https://localhost:8080/"
        },
        "id": "BIi-et_ctaKF",
        "outputId": "f8b66b1f-548e-4ede-aac6-ef1235af9600"
      },
      "source": [
        "_ = get_mean_by_column('Month', 'Sales_norm')"
      ],
      "execution_count": 115,
      "outputs": [
        {
          "output_type": "stream",
          "name": "stdout",
          "text": [
            "Train: 0.6326710739722307\n",
            "Val: 0.5444650400703042\n"
          ]
        }
      ]
    },
    {
      "cell_type": "code",
      "metadata": {
        "colab": {
          "base_uri": "https://localhost:8080/"
        },
        "id": "Bd0qzTCRta8l",
        "outputId": "f78da119-e4e9-4ce1-f95f-8e77c28b1014"
      },
      "source": [
        "_ = get_mean_by_column('StateHoliday', 'Sales_norm')"
      ],
      "execution_count": 116,
      "outputs": [
        {
          "output_type": "stream",
          "name": "stdout",
          "text": [
            "Train: 0.637967104604832\n",
            "Val: 0.5494193814701546\n"
          ]
        }
      ]
    },
    {
      "cell_type": "code",
      "metadata": {
        "colab": {
          "base_uri": "https://localhost:8080/"
        },
        "id": "glM6-9aKtb39",
        "outputId": "eb289f7d-8902-4b62-bed0-c1b07be101fe"
      },
      "source": [
        "_ = get_mean_by_column('SchoolHoliday', 'Sales_norm')"
      ],
      "execution_count": 117,
      "outputs": [
        {
          "output_type": "stream",
          "name": "stdout",
          "text": [
            "Train: 0.6352131730794036\n",
            "Val: 0.552288625488801\n"
          ]
        }
      ]
    },
    {
      "cell_type": "code",
      "metadata": {
        "id": "N0_x3AZQtc89"
      },
      "source": [
        "from tensorflow.keras.models import Model\n",
        "from tensorflow.keras.callbacks import ModelCheckpoint\n",
        "from tensorflow.keras.optimizers import Adam\n",
        "from tensorflow.keras.layers import Embedding, Input, Flatten, Concatenate, Dense, BatchNormalization, Activation, LeakyReLU, Dropout\n",
        "from tensorflow.keras.regularizers import l2\n",
        "from tensorflow.keras import optimizers\n",
        "from tensorflow.keras import backend as K\n",
        "from tensorflow.keras.utils import to_categorical"
      ],
      "execution_count": 118,
      "outputs": []
    },
    {
      "cell_type": "code",
      "metadata": {
        "id": "u5RpBKH-tesV"
      },
      "source": [
        "def rmspe(y_true, y_pred):\n",
        "    return K.sqrt(K.mean(K.square((y_true - y_pred)/y_true)))\n"
      ],
      "execution_count": 119,
      "outputs": []
    },
    {
      "cell_type": "code",
      "metadata": {
        "id": "n8rpHQVdtgGV"
      },
      "source": [
        "def get_keras_LR(X_columns, hidden_units=1):\n",
        "    inputs = []\n",
        "    activation = 'linear'\n",
        "    if hidden_units>1:\n",
        "        activation = 'relu'\n",
        "    for i, col in enumerate(X_columns):\n",
        "        inp = Input(shape=(X_train[i].shape[1],), name=f\"{col}_input\")\n",
        "        inputs.append(inp)\n",
        "    if len(X_columns)>1:\n",
        "        concat_out = Concatenate()(inputs)\n",
        "        dense_out = Dense(hidden_units, name='Dense', activation=activation)(concat_out)\n",
        "    else:\n",
        "        dense_out = Dense(hidden_units, name='Dense', activation=activation)(inputs[0])\n",
        "    if hidden_units>1:\n",
        "        dense_out = Dense(1, name='Dense_out')(dense_out)\n",
        "    model = Model(inputs, dense_out)\n",
        "    model.compile(optimizers.Adam(lr=0.0001), loss='mse', metrics=[rmspe, 'mse'])\n",
        "    return model\n",
        "\n",
        "\n",
        "def get_embedings_NN(X_columns, hidden_units = 20, activation = 'relu'):\n",
        "    embed_outs = []\n",
        "    inputs = []\n",
        "    for i, col in enumerate(X_columns):\n",
        "        inp = Input(shape=(1,), name=f\"{col}_input\")\n",
        "        inputs.append(inp)\n",
        "        if col in embed_outs_dict:\n",
        "            embed_out = Embedding(len(np.unique(X_train[i])), embed_outs_dict[col], name=f\"{col}_embedding\", mask_zero=False)(inp)\n",
        "            out = Flatten(name=f\"{col}_flatten\")(embed_out)\n",
        "            embed_outs.append(out)\n",
        "        else:\n",
        "            embed_outs.append(inp)\n",
        "        \n",
        "    if len(X_columns)>1:\n",
        "        concat_out = Concatenate()(embed_outs)\n",
        "        dense_out = Dense(hidden_units, activation=activation)(concat_out)\n",
        "    else:\n",
        "        dense_out = Dense(hidden_units, activation=activation)(out)\n",
        "    out = Dense(1)(dense_out)\n",
        "    model = Model(inputs, out)\n",
        "    model.compile(optimizers.Adam(lr=0.0001), loss='mse', metrics=[rmspe, 'mse'])\n",
        "    return model"
      ],
      "execution_count": 120,
      "outputs": []
    },
    {
      "cell_type": "code",
      "metadata": {
        "id": "Zo3pfvblthfF"
      },
      "source": [
        "with_embed = True\n",
        "\n",
        "embed_outs_dict = {'Store': 2, 'DayOfWeek': 2} #,  'Week': 2, 'Month': 2}\n",
        "X_columns = list(embed_outs_dict.keys())# + ['BeforeStateHoliday_bool', 'Max_TemperatureC'] # ['Precipitationmm']\n",
        "\n",
        "if final_train:\n",
        "    X_train = np.hsplit(df[X_columns].values, len(X_columns))\n",
        "    y_train = df['Sales_norm']\n",
        "else:\n",
        "    X_train = np.hsplit(df_train[X_columns].values, len(X_columns))\n",
        "    y_train = df_train['Sales_norm']\n",
        "    \n",
        "X_val = np.hsplit(df_val[X_columns].values, len(X_columns))\n",
        "X_test = np.hsplit(df_test[X_columns].values, len(X_columns))\n",
        "\n",
        "if not with_embed:\n",
        "    for i in range(len(X_train)):\n",
        "        X_train[i] = to_categorical(X_train[i])\n",
        "        X_val[i] = to_categorical(X_val[i])\n",
        "        X_test[i] = to_categorical(X_test[i])\n",
        "\n",
        "y_val = df_val['Sales_norm']"
      ],
      "execution_count": 121,
      "outputs": []
    },
    {
      "cell_type": "code",
      "metadata": {
        "colab": {
          "base_uri": "https://localhost:8080/"
        },
        "id": "eNZusV1rtie5",
        "outputId": "53f3bc88-e8e4-482e-90f8-b5a637476e66"
      },
      "source": [
        "if with_embed:\n",
        "    model = get_embedings_NN(X_columns)\n",
        "else:\n",
        "    model = get_keras_LR(X_columns, hidden_units=20)\n",
        "model.summary()"
      ],
      "execution_count": 122,
      "outputs": [
        {
          "output_type": "stream",
          "name": "stdout",
          "text": [
            "Model: \"model\"\n",
            "__________________________________________________________________________________________________\n",
            " Layer (type)                   Output Shape         Param #     Connected to                     \n",
            "==================================================================================================\n",
            " Store_input (InputLayer)       [(None, 1)]          0           []                               \n",
            "                                                                                                  \n",
            " DayOfWeek_input (InputLayer)   [(None, 1)]          0           []                               \n",
            "                                                                                                  \n",
            " Store_embedding (Embedding)    (None, 1, 2)         2230        ['Store_input[0][0]']            \n",
            "                                                                                                  \n",
            " DayOfWeek_embedding (Embedding  (None, 1, 2)        14          ['DayOfWeek_input[0][0]']        \n",
            " )                                                                                                \n",
            "                                                                                                  \n",
            " Store_flatten (Flatten)        (None, 2)            0           ['Store_embedding[0][0]']        \n",
            "                                                                                                  \n",
            " DayOfWeek_flatten (Flatten)    (None, 2)            0           ['DayOfWeek_embedding[0][0]']    \n",
            "                                                                                                  \n",
            " concatenate (Concatenate)      (None, 4)            0           ['Store_flatten[0][0]',          \n",
            "                                                                  'DayOfWeek_flatten[0][0]']      \n",
            "                                                                                                  \n",
            " dense (Dense)                  (None, 20)           100         ['concatenate[0][0]']            \n",
            "                                                                                                  \n",
            " dense_1 (Dense)                (None, 1)            21          ['dense[0][0]']                  \n",
            "                                                                                                  \n",
            "==================================================================================================\n",
            "Total params: 2,365\n",
            "Trainable params: 2,365\n",
            "Non-trainable params: 0\n",
            "__________________________________________________________________________________________________\n"
          ]
        },
        {
          "output_type": "stream",
          "name": "stderr",
          "text": [
            "/usr/local/lib/python3.7/dist-packages/keras/optimizer_v2/adam.py:105: UserWarning: The `lr` argument is deprecated, use `learning_rate` instead.\n",
            "  super(Adam, self).__init__(name, **kwargs)\n"
          ]
        }
      ]
    },
    {
      "cell_type": "code",
      "metadata": {
        "id": "ttSTeEgqtlRO"
      },
      "source": [
        "# weights = model.get_weights()\n",
        "# weights[0] = np.array(np.array(stores_mean_list).reshape(-1, 1))\n",
        "# model.set_weights(weights)"
      ],
      "execution_count": 123,
      "outputs": []
    },
    {
      "cell_type": "code",
      "metadata": {
        "id": "2g85pg_EtmW4"
      },
      "source": [
        "from tensorflow.keras import callbacks\n"
      ],
      "execution_count": 124,
      "outputs": []
    },
    {
      "cell_type": "code",
      "metadata": {
        "id": "fQy1wPAQtp91"
      },
      "source": [
        "# model.evaluate(X_val, y_val)"
      ],
      "execution_count": 125,
      "outputs": []
    },
    {
      "cell_type": "code",
      "metadata": {
        "id": "1xF1g05PtrWd"
      },
      "source": [
        "# np.sqrt(0.0951)"
      ],
      "execution_count": 126,
      "outputs": []
    },
    {
      "cell_type": "code",
      "metadata": {
        "colab": {
          "base_uri": "https://localhost:8080/"
        },
        "id": "3NBM7f2mtsTE",
        "outputId": "77ce4210-4e31-4350-edfb-322e8bc56371"
      },
      "source": [
        "epochs = 5\n",
        "model.compile(optimizers.Adam(lr=0.001), loss='mse', metrics=[rmspe, 'mse'])\n",
        "cbs = [callbacks.ReduceLROnPlateau(monitor='val_rmspe', mode='min', verbose=1, patience=2), callbacks.ModelCheckpoint('best_val_rmspe.hdf5', monitor='val_rmspe', mode='min', verbose=1, save_best_only=True)]\n",
        "if final_train:\n",
        "    model.fit(X_train, y_train, epochs=epochs, callbacks=cbs)\n",
        "else:\n",
        "    model.fit(X_train, y_train, epochs=epochs, validation_data=(X_val, y_val), callbacks=cbs)"
      ],
      "execution_count": 127,
      "outputs": [
        {
          "output_type": "stream",
          "name": "stderr",
          "text": [
            "/usr/local/lib/python3.7/dist-packages/keras/optimizer_v2/adam.py:105: UserWarning: The `lr` argument is deprecated, use `learning_rate` instead.\n",
            "  super(Adam, self).__init__(name, **kwargs)\n"
          ]
        },
        {
          "output_type": "stream",
          "name": "stdout",
          "text": [
            "Epoch 1/5\n",
            "25442/25443 [============================>.] - ETA: 0s - loss: 0.0020 - rmspe: 0.2909 - mse: 0.0020\n",
            "Epoch 00001: val_rmspe improved from inf to 0.21523, saving model to best_val_rmspe.hdf5\n",
            "25443/25443 [==============================] - 136s 5ms/step - loss: 0.0020 - rmspe: 0.2909 - mse: 0.0020 - val_loss: 0.0014 - val_rmspe: 0.2152 - val_mse: 0.0014 - lr: 0.0010\n",
            "Epoch 2/5\n",
            "25437/25443 [============================>.] - ETA: 0s - loss: 0.0018 - rmspe: 0.2740 - mse: 0.0018\n",
            "Epoch 00002: val_rmspe did not improve from 0.21523\n",
            "25443/25443 [==============================] - 133s 5ms/step - loss: 0.0018 - rmspe: 0.2740 - mse: 0.0018 - val_loss: 0.0014 - val_rmspe: 0.2155 - val_mse: 0.0014 - lr: 0.0010\n",
            "Epoch 3/5\n",
            "25435/25443 [============================>.] - ETA: 0s - loss: 0.0018 - rmspe: 0.2711 - mse: 0.0018\n",
            "Epoch 00003: val_rmspe improved from 0.21523 to 0.21099, saving model to best_val_rmspe.hdf5\n",
            "25443/25443 [==============================] - 134s 5ms/step - loss: 0.0018 - rmspe: 0.2711 - mse: 0.0018 - val_loss: 0.0014 - val_rmspe: 0.2110 - val_mse: 0.0014 - lr: 0.0010\n",
            "Epoch 4/5\n",
            "25437/25443 [============================>.] - ETA: 0s - loss: 0.0018 - rmspe: 0.2698 - mse: 0.0018\n",
            "Epoch 00004: val_rmspe did not improve from 0.21099\n",
            "25443/25443 [==============================] - 132s 5ms/step - loss: 0.0018 - rmspe: 0.2698 - mse: 0.0018 - val_loss: 0.0013 - val_rmspe: 0.2146 - val_mse: 0.0013 - lr: 0.0010\n",
            "Epoch 5/5\n",
            "25441/25443 [============================>.] - ETA: 0s - loss: 0.0018 - rmspe: 0.2692 - mse: 0.0018\n",
            "Epoch 00005: ReduceLROnPlateau reducing learning rate to 0.00010000000474974513.\n",
            "\n",
            "Epoch 00005: val_rmspe did not improve from 0.21099\n",
            "25443/25443 [==============================] - 132s 5ms/step - loss: 0.0018 - rmspe: 0.2692 - mse: 0.0018 - val_loss: 0.0014 - val_rmspe: 0.2110 - val_mse: 0.0014 - lr: 0.0010\n"
          ]
        }
      ]
    },
    {
      "cell_type": "code",
      "metadata": {
        "id": "kZMJrQV-ttWF"
      },
      "source": [
        "model.load_weights('best_val_rmspe.hdf5')"
      ],
      "execution_count": 128,
      "outputs": []
    },
    {
      "cell_type": "code",
      "metadata": {
        "colab": {
          "base_uri": "https://localhost:8080/"
        },
        "id": "PMaPg43ptuNk",
        "outputId": "f6cff937-f82d-4e72-fe3e-cfeccbaa03f2"
      },
      "source": [
        "model.evaluate(X_train, y_train)"
      ],
      "execution_count": 129,
      "outputs": [
        {
          "output_type": "stream",
          "name": "stdout",
          "text": [
            "25443/25443 [==============================] - 74s 3ms/step - loss: 0.0018 - rmspe: 0.2339 - mse: 0.0018\n"
          ]
        },
        {
          "output_type": "execute_result",
          "data": {
            "text/plain": [
              "[0.001765565830282867, 0.23393726348876953, 0.001765565830282867]"
            ]
          },
          "metadata": {},
          "execution_count": 129
        }
      ]
    },
    {
      "cell_type": "code",
      "metadata": {
        "colab": {
          "base_uri": "https://localhost:8080/"
        },
        "id": "vkuH8bS3tu6Q",
        "outputId": "2d19a3f3-3574-45ed-ed3a-7b5c75a58b1c"
      },
      "source": [
        "model.evaluate(X_val, y_val)"
      ],
      "execution_count": 130,
      "outputs": [
        {
          "output_type": "stream",
          "name": "stdout",
          "text": [
            "944/944 [==============================] - 3s 3ms/step - loss: 0.0014 - rmspe: 0.2110 - mse: 0.0014\n"
          ]
        },
        {
          "output_type": "execute_result",
          "data": {
            "text/plain": [
              "[0.0013713679509237409, 0.2109859734773636, 0.0013713679509237409]"
            ]
          },
          "metadata": {},
          "execution_count": 130
        }
      ]
    },
    {
      "cell_type": "code",
      "metadata": {
        "id": "QSxK_pDbtv2l"
      },
      "source": [
        "from matplotlib import pyplot as plt"
      ],
      "execution_count": 131,
      "outputs": []
    },
    {
      "cell_type": "code",
      "metadata": {
        "id": "z3IYJMVEtwwk"
      },
      "source": [
        "def plot_embed(layer_name, cat_names):\n",
        "    Y = model.get_layer(layer_name).get_weights()[0]\n",
        "    print(Y.shape)\n",
        "    plt.figure(figsize=(8,8))\n",
        "    plt.scatter(-Y[:, 0], -Y[:, 1])\n",
        "    for i, txt in enumerate(cat_names):\n",
        "        plt.annotate(txt, (-Y[i, 0],-Y[i, 1]), xytext = (-5, 8), textcoords = 'offset points')\n"
      ],
      "execution_count": 132,
      "outputs": []
    },
    {
      "cell_type": "code",
      "metadata": {
        "colab": {
          "base_uri": "https://localhost:8080/",
          "height": 500
        },
        "id": "kMqosJZ-txos",
        "outputId": "39df49e6-3c65-422b-c027-e6a9f7cdfcc4"
      },
      "source": [
        "plot_embed('DayOfWeek_embedding', ['Mon', 'Tue', 'Wed', 'Thu', 'Fri', 'Sat','Sun'])"
      ],
      "execution_count": 133,
      "outputs": [
        {
          "output_type": "stream",
          "name": "stdout",
          "text": [
            "(7, 2)\n"
          ]
        },
        {
          "output_type": "display_data",
          "data": {
            "image/png": "[encoded data removed]",
            "text/plain": [
              "<Figure size 576x576 with 1 Axes>"
            ]
          },
          "metadata": {
            "needs_background": "light"
          }
        }
      ]
    },
    {
      "cell_type": "code",
      "metadata": {
        "colab": {
          "base_uri": "https://localhost:8080/",
          "height": 500
        },
        "id": "8ATQkc-mtybl",
        "outputId": "1bd32590-00a3-45a6-c999-a53d8b183fc3"
      },
      "source": [
        "plot_embed('Store_embedding', list(range(1115)))"
      ],
      "execution_count": 134,
      "outputs": [
        {
          "output_type": "stream",
          "name": "stdout",
          "text": [
            "(1115, 2)\n"
          ]
        },
        {
          "output_type": "display_data",
          "data": {
            "image/png": "[encoded data removed]",
            "text/plain": [
              "<Figure size 576x576 with 1 Axes>"
            ]
          },
          "metadata": {
            "needs_background": "light"
          }
        }
      ]
    },
    {
      "cell_type": "code",
      "metadata": {
        "colab": {
          "base_uri": "https://localhost:8080/"
        },
        "id": "dzaYEHY8tzfN",
        "outputId": "fa56efca-a786-41c3-8c9b-71d09857cb6c"
      },
      "source": [
        "train_predictions = model.predict(X_train)*max_sales\n",
        "get_metric(df_train['Sales'].values, train_predictions.reshape(-1))"
      ],
      "execution_count": 135,
      "outputs": [
        {
          "output_type": "execute_result",
          "data": {
            "text/plain": [
              "0.311596181713891"
            ]
          },
          "metadata": {},
          "execution_count": 135
        }
      ]
    },
    {
      "cell_type": "code",
      "metadata": {
        "id": "Zt4QHSMqt0Ru"
      },
      "source": [
        "test_predictions = model.predict(X_test)*max_sales\n",
        "test_predictions[df_test['Open'] == 0] = 0"
      ],
      "execution_count": 136,
      "outputs": []
    },
    {
      "cell_type": "code",
      "metadata": {
        "id": "RqHRIEKxt1H9"
      },
      "source": [
        "sample_csv = pd.read_csv('dataset/rossmann/sample_submission.csv')\n",
        "sample_csv['Sales'] = test_predictions\n",
        "sample_csv.head()\n",
        "\n",
        "sample_csv.to_csv(f'submision_baseline_{\"-\".join(X_columns)}.csv', index=False)"
      ],
      "execution_count": 137,
      "outputs": []
    },
    {
      "cell_type": "markdown",
      "metadata": {
        "id": "Ldm7D9jnw6HF"
      },
      "source": [
        "# 5. Embeddings\n"
      ]
    },
    {
      "cell_type": "code",
      "metadata": {
        "colab": {
          "base_uri": "https://localhost:8080/"
        },
        "id": "mzYifVYkxA7n",
        "outputId": "b5600174-9268-4c57-d8f4-ed8c785fedee"
      },
      "source": [
        "from tensorflow.compat.v1 import ConfigProto\n",
        "from tensorflow.compat.v1 import InteractiveSession\n",
        "config = ConfigProto()\n",
        "config.gpu_options.allow_growth = True\n",
        "session = InteractiveSession(config=config)"
      ],
      "execution_count": 138,
      "outputs": [
        {
          "output_type": "stream",
          "name": "stderr",
          "text": [
            "/usr/local/lib/python3.7/dist-packages/tensorflow/python/client/session.py:1771: UserWarning: An interactive session is already active. This can cause out-of-memory errors in some cases. You must explicitly call `InteractiveSession.close()` to release resources held by the other session(s).\n",
            "  warnings.warn('An interactive session is already active. This can '\n"
          ]
        }
      ]
    },
    {
      "cell_type": "code",
      "metadata": {
        "id": "d1DMPpV-xCSn"
      },
      "source": [
        "import pandas as pd\n",
        "import numpy as np\n",
        "import datetime\n",
        "from pandas_summary import DataFrameSummary"
      ],
      "execution_count": 139,
      "outputs": []
    },
    {
      "cell_type": "code",
      "metadata": {
        "id": "0lXLLTBUxDUk"
      },
      "source": [
        "df_test = pd.read_feather('test_normalized_data.fth')"
      ],
      "execution_count": 140,
      "outputs": []
    },
    {
      "cell_type": "code",
      "metadata": {
        "colab": {
          "base_uri": "https://localhost:8080/"
        },
        "id": "q50d8Efay9GY",
        "outputId": "1703236e-41dc-4d09-8387-9321fe5d6167"
      },
      "source": [
        "df_test.columns"
      ],
      "execution_count": 141,
      "outputs": [
        {
          "output_type": "execute_result",
          "data": {
            "text/plain": [
              "Index(['index', 'Id', 'Store', 'DayOfWeek', 'Date', 'Open', 'Promo',\n",
              "       'StateHoliday', 'SchoolHoliday', 'Year', 'Month', 'Week', 'Day',\n",
              "       'StoreType', 'Assortment', 'CompetitionDistance',\n",
              "       'CompetitionOpenSinceMonth', 'CompetitionOpenSinceYear', 'Promo2',\n",
              "       'Promo2SinceWeek', 'Promo2SinceYear', 'PromoInterval',\n",
              "       'CompetitionOpenSince', 'Promo2Since', 'State', 'file', 'week', 'trend',\n",
              "       'Date_y', 'Month_y', 'Day_y', 'file_DE', 'week_DE', 'trend_DE',\n",
              "       'Date_DE', 'State_DE', 'Month_DE', 'Day_DE', 'file_y',\n",
              "       'Max_TemperatureC', 'Mean_TemperatureC', 'Min_TemperatureC',\n",
              "       'Dew_PointC', 'MeanDew_PointC', 'Min_DewpointC', 'Max_Humidity',\n",
              "       'Mean_Humidity', 'Min_Humidity', 'Max_Sea_Level_PressurehPa',\n",
              "       'Mean_Sea_Level_PressurehPa', 'Min_Sea_Level_PressurehPa',\n",
              "       'Max_VisibilityKm', 'Mean_VisibilityKm', 'Min_VisibilitykM',\n",
              "       'Max_Wind_SpeedKm_h', 'Mean_Wind_SpeedKm_h', 'Max_Gust_SpeedKm_h',\n",
              "       'Precipitationmm', 'CloudCover', 'Events', 'WindDirDegrees',\n",
              "       'StateName', 'Year_y', 'Week_y', 'CompetitionDaysOpen',\n",
              "       'CompetitionMonthsOpen', 'Promo2Days', 'Promo2Weeks',\n",
              "       'StateHoliday_bool', 'AfterSchoolHoliday', 'BeforeSchoolHoliday',\n",
              "       'AfterStateHoliday_bool', 'BeforeStateHoliday_bool', 'AfterPromo',\n",
              "       'BeforePromo', 'SchoolHoliday_bw', 'StateHoliday_bool_bw', 'Promo_bw',\n",
              "       'SchoolHoliday_fw', 'StateHoliday_bool_fw', 'Promo_fw'],\n",
              "      dtype='object')"
            ]
          },
          "metadata": {},
          "execution_count": 141
        }
      ]
    },
    {
      "cell_type": "code",
      "metadata": {
        "id": "qUWq9jGAxJdN"
      },
      "source": [
        "df = pd.read_feather('train_normalized_data.fth')"
      ],
      "execution_count": 142,
      "outputs": []
    },
    {
      "cell_type": "code",
      "metadata": {
        "colab": {
          "base_uri": "https://localhost:8080/"
        },
        "id": "DrW0inI-zBhT",
        "outputId": "45e293c2-7e2d-4ed9-84a5-73bc0df636b4"
      },
      "source": [
        "df.columns"
      ],
      "execution_count": 143,
      "outputs": [
        {
          "output_type": "execute_result",
          "data": {
            "text/plain": [
              "Index(['index', 'Store', 'DayOfWeek', 'Date', 'Sales', 'Customers', 'Open',\n",
              "       'Promo', 'StateHoliday', 'SchoolHoliday', 'Year', 'Month', 'Week',\n",
              "       'Day', 'StoreType', 'Assortment', 'CompetitionDistance',\n",
              "       'CompetitionOpenSinceMonth', 'CompetitionOpenSinceYear', 'Promo2',\n",
              "       'Promo2SinceWeek', 'Promo2SinceYear', 'PromoInterval',\n",
              "       'CompetitionOpenSince', 'Promo2Since', 'State', 'file', 'week', 'trend',\n",
              "       'Date_y', 'Month_y', 'Day_y', 'file_DE', 'week_DE', 'trend_DE',\n",
              "       'Date_DE', 'State_DE', 'Month_DE', 'Day_DE', 'file_y',\n",
              "       'Max_TemperatureC', 'Mean_TemperatureC', 'Min_TemperatureC',\n",
              "       'Dew_PointC', 'MeanDew_PointC', 'Min_DewpointC', 'Max_Humidity',\n",
              "       'Mean_Humidity', 'Min_Humidity', 'Max_Sea_Level_PressurehPa',\n",
              "       'Mean_Sea_Level_PressurehPa', 'Min_Sea_Level_PressurehPa',\n",
              "       'Max_VisibilityKm', 'Mean_VisibilityKm', 'Min_VisibilitykM',\n",
              "       'Max_Wind_SpeedKm_h', 'Mean_Wind_SpeedKm_h', 'Max_Gust_SpeedKm_h',\n",
              "       'Precipitationmm', 'CloudCover', 'Events', 'WindDirDegrees',\n",
              "       'StateName', 'Year_y', 'Week_y', 'CompetitionDaysOpen',\n",
              "       'CompetitionMonthsOpen', 'Promo2Days', 'Promo2Weeks',\n",
              "       'StateHoliday_bool', 'AfterSchoolHoliday', 'BeforeSchoolHoliday',\n",
              "       'AfterStateHoliday_bool', 'BeforeStateHoliday_bool', 'AfterPromo',\n",
              "       'BeforePromo', 'SchoolHoliday_bw', 'StateHoliday_bool_bw', 'Promo_bw',\n",
              "       'SchoolHoliday_fw', 'StateHoliday_bool_fw', 'Promo_fw'],\n",
              "      dtype='object')"
            ]
          },
          "metadata": {},
          "execution_count": 143
        }
      ]
    },
    {
      "cell_type": "code",
      "metadata": {
        "id": "MYt-4yl9xLI4"
      },
      "source": [
        "cat_vars = ['Store', 'DayOfWeek', 'Year', 'Month', 'Day', 'StateHoliday', \n",
        "            'CompetitionMonthsOpen', 'Promo2Weeks', \n",
        "            'StoreType', 'Assortment', 'PromoInterval', \n",
        "            'CompetitionOpenSinceYear', 'Promo2SinceYear', \n",
        "            'State', 'Week', 'Events', 'Promo_fw', 'Promo_bw', \n",
        "            'StateHoliday_bool_fw', 'StateHoliday_bool_bw', 'SchoolHoliday_fw', \n",
        "            'SchoolHoliday_bw']"
      ],
      "execution_count": 144,
      "outputs": []
    },
    {
      "cell_type": "code",
      "metadata": {
        "id": "m0ym7G6PxMX8"
      },
      "source": [
        "contin_vars = ['CompetitionDistance', \n",
        "   'Max_TemperatureC', 'Mean_TemperatureC', 'Min_TemperatureC',\n",
        "   'Max_Humidity', 'Mean_Humidity', 'Min_Humidity', 'Max_Wind_SpeedKm_h', \n",
        "   'Mean_Wind_SpeedKm_h', 'CloudCover', 'trend', 'trend_DE',\n",
        "   'AfterStateHoliday', 'BeforeStateHoliday', 'Promo', 'SchoolHoliday']"
      ],
      "execution_count": 145,
      "outputs": []
    },
    {
      "cell_type": "code",
      "metadata": {
        "colab": {
          "base_uri": "https://localhost:8080/",
          "height": 130
        },
        "id": "Ah8dl7uSxOha",
        "outputId": "38f8dbb0-39e0-40ca-d1a8-0b564a79cfa5"
      },
      "source": [
        "DataFrameSummary(df[cat_vars]).summary().loc[['uniques', 'types']]"
      ],
      "execution_count": 146,
      "outputs": [
        {
          "output_type": "execute_result",
          "data": {
            "text/html": [
              "<div>\n",
              "<style scoped>\n",
              "    .dataframe tbody tr th:only-of-type {\n",
              "        vertical-align: middle;\n",
              "    }\n",
              "\n",
              "    .dataframe tbody tr th {\n",
              "        vertical-align: top;\n",
              "    }\n",
              "\n",
              "    .dataframe thead th {\n",
              "        text-align: right;\n",
              "    }\n",
              "</style>\n",
              "<table border=\"1\" class=\"dataframe\">\n",
              "  <thead>\n",
              "    <tr style=\"text-align: right;\">\n",
              "      <th></th>\n",
              "      <th>Store</th>\n",
              "      <th>DayOfWeek</th>\n",
              "      <th>Year</th>\n",
              "      <th>Month</th>\n",
              "      <th>Day</th>\n",
              "      <th>StateHoliday</th>\n",
              "      <th>CompetitionMonthsOpen</th>\n",
              "      <th>Promo2Weeks</th>\n",
              "      <th>StoreType</th>\n",
              "      <th>Assortment</th>\n",
              "      <th>PromoInterval</th>\n",
              "      <th>CompetitionOpenSinceYear</th>\n",
              "      <th>Promo2SinceYear</th>\n",
              "      <th>State</th>\n",
              "      <th>Week</th>\n",
              "      <th>Events</th>\n",
              "      <th>Promo_fw</th>\n",
              "      <th>Promo_bw</th>\n",
              "      <th>StateHoliday_bool_fw</th>\n",
              "      <th>StateHoliday_bool_bw</th>\n",
              "      <th>SchoolHoliday_fw</th>\n",
              "      <th>SchoolHoliday_bw</th>\n",
              "    </tr>\n",
              "  </thead>\n",
              "  <tbody>\n",
              "    <tr>\n",
              "      <th>uniques</th>\n",
              "      <td>1115</td>\n",
              "      <td>7</td>\n",
              "      <td>3</td>\n",
              "      <td>12</td>\n",
              "      <td>31</td>\n",
              "      <td>4</td>\n",
              "      <td>25</td>\n",
              "      <td>26</td>\n",
              "      <td>4</td>\n",
              "      <td>3</td>\n",
              "      <td>4</td>\n",
              "      <td>21</td>\n",
              "      <td>8</td>\n",
              "      <td>12</td>\n",
              "      <td>52</td>\n",
              "      <td>22</td>\n",
              "      <td>6</td>\n",
              "      <td>6</td>\n",
              "      <td>3</td>\n",
              "      <td>3</td>\n",
              "      <td>8</td>\n",
              "      <td>8</td>\n",
              "    </tr>\n",
              "    <tr>\n",
              "      <th>types</th>\n",
              "      <td>numeric</td>\n",
              "      <td>numeric</td>\n",
              "      <td>numeric</td>\n",
              "      <td>numeric</td>\n",
              "      <td>numeric</td>\n",
              "      <td>numeric</td>\n",
              "      <td>numeric</td>\n",
              "      <td>numeric</td>\n",
              "      <td>numeric</td>\n",
              "      <td>numeric</td>\n",
              "      <td>numeric</td>\n",
              "      <td>numeric</td>\n",
              "      <td>numeric</td>\n",
              "      <td>numeric</td>\n",
              "      <td>numeric</td>\n",
              "      <td>numeric</td>\n",
              "      <td>numeric</td>\n",
              "      <td>numeric</td>\n",
              "      <td>numeric</td>\n",
              "      <td>numeric</td>\n",
              "      <td>numeric</td>\n",
              "      <td>numeric</td>\n",
              "    </tr>\n",
              "  </tbody>\n",
              "</table>\n",
              "</div>"
            ],
            "text/plain": [
              "           Store DayOfWeek  ... SchoolHoliday_fw SchoolHoliday_bw\n",
              "uniques     1115         7  ...                8                8\n",
              "types    numeric   numeric  ...          numeric          numeric\n",
              "\n",
              "[2 rows x 22 columns]"
            ]
          },
          "metadata": {},
          "execution_count": 146
        }
      ]
    },
    {
      "cell_type": "code",
      "metadata": {
        "id": "LVXLJMCBxQGe"
      },
      "source": [
        "uniques = DataFrameSummary(df[cat_vars]).summary().loc[['uniques']]"
      ],
      "execution_count": 147,
      "outputs": []
    },
    {
      "cell_type": "markdown",
      "metadata": {
        "id": "63u2MpT-39_O"
      },
      "source": [
        "### Asignación de dimensión de embeddings"
      ]
    },
    {
      "cell_type": "code",
      "metadata": {
        "id": "ZIAfY9mN4BEX"
      },
      "source": [
        "cat_var_dict = {'Store': 50, 'DayOfWeek': 4, 'Year': 2, 'Month': 6,\n",
        "'Day': 10, 'StateHoliday': 3, 'CompetitionMonthsOpen': 2,\n",
        "'Promo2Weeks': 1, 'StoreType': 2, 'Assortment': 3, 'PromoInterval': 3,\n",
        "'CompetitionOpenSinceYear': 4, 'Promo2SinceYear': 4, 'State': 6,\n",
        "'Week': 2, 'Events': 4, 'Promo_fw': 1,\n",
        "'Promo_bw': 1, 'StateHoliday_fw': 1,\n",
        "'StateHoliday_bw': 1, 'SchoolHoliday_fw': 1,\n",
        "'SchoolHoliday_bw': 1}"
      ],
      "execution_count": 148,
      "outputs": []
    },
    {
      "cell_type": "markdown",
      "metadata": {
        "id": "Tr3nRp5I4GOt"
      },
      "source": [
        "## Ejemplo: Day of Week, Store y Comp Distance"
      ]
    },
    {
      "cell_type": "code",
      "metadata": {
        "id": "46RNfQWm4F9e"
      },
      "source": [
        "from tensorflow.keras.models import Model\n",
        "from tensorflow.keras.optimizers import Adam\n",
        "from tensorflow.keras.layers import Embedding, Input, Flatten, Dense, Concatenate"
      ],
      "execution_count": 149,
      "outputs": []
    },
    {
      "cell_type": "code",
      "metadata": {
        "id": "1GayHLnN4M2V"
      },
      "source": [
        "day_of_week_input = Input(shape=(1,), name=\"day_of_week_input\")\n",
        "store_input = Input(shape=(1,), name=\"store_input\")\n",
        "# Por ser continua competition_distance no necesita embeddings\n",
        "competition_distance_input = Input(shape=(1,), name=\"competition_distance_input\")\n",
        "\n",
        "day_of_week_Embedd_out = Embedding(uniques['DayOfWeek'][0], cat_var_dict['DayOfWeek'], name=\"day_of_week_Embedd\")(day_of_week_input)\n",
        "store_Embedd_out = Embedding(uniques['Store'][0], cat_var_dict['Store'], name=\"store_Embedd\")(store_input)"
      ],
      "execution_count": 150,
      "outputs": []
    },
    {
      "cell_type": "code",
      "metadata": {
        "colab": {
          "base_uri": "https://localhost:8080/"
        },
        "id": "49VF-s7P4OdV",
        "outputId": "b2664325-518c-48bb-ae80-5b7a2992299c"
      },
      "source": [
        "print(f'Entradas: {day_of_week_input.shape}, {store_input.shape}')\n",
        "print(f'Salidas: {day_of_week_Embedd_out.shape}, {store_Embedd_out.shape}')"
      ],
      "execution_count": 151,
      "outputs": [
        {
          "output_type": "stream",
          "name": "stdout",
          "text": [
            "Entradas: (None, 1), (None, 1)\n",
            "Salidas: (None, 1, 4), (None, 1, 50)\n"
          ]
        }
      ]
    },
    {
      "cell_type": "code",
      "metadata": {
        "id": "Hx_o5T4p4PZG"
      },
      "source": [
        "day_of_week_Embedd_flat = Flatten(name=\"day_of_week_flat\")(day_of_week_Embedd_out)\n",
        "store_Embedd_flat = Flatten(name=\"store_flat\")(store_Embedd_out)"
      ],
      "execution_count": 152,
      "outputs": []
    },
    {
      "cell_type": "code",
      "metadata": {
        "id": "9M_e21Vt4Qif"
      },
      "source": [
        "merged = Concatenate(name='All_Concatenate')([day_of_week_Embedd_flat, store_Embedd_flat, competition_distance_input])"
      ],
      "execution_count": 153,
      "outputs": []
    },
    {
      "cell_type": "code",
      "metadata": {
        "id": "hG6AFkkR4RjB"
      },
      "source": [
        "x = Dense(1000, activation='relu')(merged)\n",
        "x = Dense(500, activation='relu')(x)\n",
        "output = Dense(1, activation='linear')(x)"
      ],
      "execution_count": 154,
      "outputs": []
    },
    {
      "cell_type": "code",
      "metadata": {
        "id": "6uLIghFI4TIU"
      },
      "source": [
        "model = Model([day_of_week_input, store_input, competition_distance_input], output)"
      ],
      "execution_count": 155,
      "outputs": []
    },
    {
      "cell_type": "code",
      "metadata": {
        "colab": {
          "base_uri": "https://localhost:8080/"
        },
        "id": "_mJTc9pk4UPW",
        "outputId": "92c522c7-ae06-42c5-86ab-49842762b242"
      },
      "source": [
        "model.summary()"
      ],
      "execution_count": 156,
      "outputs": [
        {
          "output_type": "stream",
          "name": "stdout",
          "text": [
            "Model: \"model_1\"\n",
            "__________________________________________________________________________________________________\n",
            " Layer (type)                   Output Shape         Param #     Connected to                     \n",
            "==================================================================================================\n",
            " day_of_week_input (InputLayer)  [(None, 1)]         0           []                               \n",
            "                                                                                                  \n",
            " store_input (InputLayer)       [(None, 1)]          0           []                               \n",
            "                                                                                                  \n",
            " day_of_week_Embedd (Embedding)  (None, 1, 4)        28          ['day_of_week_input[0][0]']      \n",
            "                                                                                                  \n",
            " store_Embedd (Embedding)       (None, 1, 50)        55750       ['store_input[0][0]']            \n",
            "                                                                                                  \n",
            " day_of_week_flat (Flatten)     (None, 4)            0           ['day_of_week_Embedd[0][0]']     \n",
            "                                                                                                  \n",
            " store_flat (Flatten)           (None, 50)           0           ['store_Embedd[0][0]']           \n",
            "                                                                                                  \n",
            " competition_distance_input (In  [(None, 1)]         0           []                               \n",
            " putLayer)                                                                                        \n",
            "                                                                                                  \n",
            " All_Concatenate (Concatenate)  (None, 55)           0           ['day_of_week_flat[0][0]',       \n",
            "                                                                  'store_flat[0][0]',             \n",
            "                                                                  'competition_distance_input[0][0\n",
            "                                                                 ]']                              \n",
            "                                                                                                  \n",
            " dense_2 (Dense)                (None, 1000)         56000       ['All_Concatenate[0][0]']        \n",
            "                                                                                                  \n",
            " dense_3 (Dense)                (None, 500)          500500      ['dense_2[0][0]']                \n",
            "                                                                                                  \n",
            " dense_4 (Dense)                (None, 1)            501         ['dense_3[0][0]']                \n",
            "                                                                                                  \n",
            "==================================================================================================\n",
            "Total params: 612,779\n",
            "Trainable params: 612,779\n",
            "Non-trainable params: 0\n",
            "__________________________________________________________________________________________________\n"
          ]
        }
      ]
    },
    {
      "cell_type": "code",
      "metadata": {
        "id": "LDEKV7M_4aLt"
      },
      "source": [
        "df_train = df[df.Date < datetime.datetime(2015, 7, 1)]  \n",
        "df_val = df[df.Date >= datetime.datetime(2015, 7, 1)]"
      ],
      "execution_count": 157,
      "outputs": []
    },
    {
      "cell_type": "code",
      "metadata": {
        "colab": {
          "base_uri": "https://localhost:8080/"
        },
        "id": "wwAU38MF4bl2",
        "outputId": "8d7b6a33-7c97-4e46-df62-3a7f28fe34db"
      },
      "source": [
        "print(f'Cantidad en val: {len(df_val)}, porcentaje: {len(df_train)/(len(df_train) + len(df_val))}')"
      ],
      "execution_count": 158,
      "outputs": [
        {
          "output_type": "stream",
          "name": "stdout",
          "text": [
            "Cantidad en val: 30188, porcentaje: 0.9642465458145908\n"
          ]
        }
      ]
    },
    {
      "cell_type": "code",
      "metadata": {
        "colab": {
          "base_uri": "https://localhost:8080/"
        },
        "id": "o6wlpUvo4c92",
        "outputId": "cb5f058f-5030-4273-d5da-0a61ab6a6c49"
      },
      "source": [
        "df_train[['DayOfWeek', 'Store', 'CompetitionDistance']].values.shape"
      ],
      "execution_count": 159,
      "outputs": [
        {
          "output_type": "execute_result",
          "data": {
            "text/plain": [
              "(814150, 3)"
            ]
          },
          "metadata": {},
          "execution_count": 159
        }
      ]
    },
    {
      "cell_type": "code",
      "metadata": {
        "id": "APfrZXxD4eWU"
      },
      "source": [
        "X_train = np.hsplit(df_train[['DayOfWeek', 'Store', 'CompetitionDistance']].values, 3)\n",
        "X_val = np.hsplit(df_val[['DayOfWeek', 'Store', 'CompetitionDistance']].values, 3)"
      ],
      "execution_count": 160,
      "outputs": []
    },
    {
      "cell_type": "code",
      "metadata": {
        "id": "Nj8j1_Xq4gS_"
      },
      "source": [
        "# Normalización\n",
        "y_mean = df_train['Sales'].mean()\n",
        "y_std = df_train['Sales'].std()\n",
        "\n",
        "# Escala logaritmica\n",
        "# max_log_y = np.max(np.log(df['Sales']))\n",
        "# y_train = np.log(df['Sales'])/max_log_y"
      ],
      "execution_count": 161,
      "outputs": []
    },
    {
      "cell_type": "code",
      "metadata": {
        "id": "gW2lVewi4heN"
      },
      "source": [
        "y_train = (df_train['Sales'].values - y_mean)/y_std\n",
        "y_val = (df_val['Sales'].values - y_mean)/y_std"
      ],
      "execution_count": 162,
      "outputs": []
    },
    {
      "cell_type": "code",
      "metadata": {
        "colab": {
          "base_uri": "https://localhost:8080/"
        },
        "id": "3hz4-pCq4ig3",
        "outputId": "8956deee-edea-4c75-8a7b-ea871be0f10b"
      },
      "source": [
        "model.compile(optimizer=Adam(lr=0.001), metrics=['mse'], loss='mse')"
      ],
      "execution_count": 163,
      "outputs": [
        {
          "output_type": "stream",
          "name": "stderr",
          "text": [
            "/usr/local/lib/python3.7/dist-packages/keras/optimizer_v2/adam.py:105: UserWarning: The `lr` argument is deprecated, use `learning_rate` instead.\n",
            "  super(Adam, self).__init__(name, **kwargs)\n"
          ]
        }
      ]
    },
    {
      "cell_type": "code",
      "metadata": {
        "colab": {
          "base_uri": "https://localhost:8080/"
        },
        "id": "3SiNzNMN4jqB",
        "outputId": "11fbd68a-0f22-47d8-8921-8f1375cdd1af"
      },
      "source": [
        "history = model.fit(X_train, y_train, validation_data=(X_val, y_val),  epochs=1, batch_size=256)"
      ],
      "execution_count": 164,
      "outputs": [
        {
          "output_type": "stream",
          "name": "stdout",
          "text": [
            "3181/3181 [==============================] - 21s 6ms/step - loss: 0.3361 - mse: 0.3361 - val_loss: 0.2426 - val_mse: 0.2426\n"
          ]
        }
      ]
    },
    {
      "cell_type": "markdown",
      "metadata": {
        "id": "0zyMUJPl4m2N"
      },
      "source": [
        "## Métrica"
      ]
    },
    {
      "cell_type": "code",
      "metadata": {
        "colab": {
          "base_uri": "https://localhost:8080/"
        },
        "id": "G35rJg-I4mCx",
        "outputId": "58d08497-fc8f-46a2-ab03-15369285bf30"
      },
      "source": [
        "y_pred_norm = model.predict(X_val, verbose=1)\n",
        "y_pred = y_pred_norm*y_std + y_mean\n",
        "# y_pred = np.exp(model.predict(X_train)*max_log_y)"
      ],
      "execution_count": 165,
      "outputs": [
        {
          "output_type": "stream",
          "name": "stdout",
          "text": [
            "944/944 [==============================] - 2s 2ms/step\n"
          ]
        }
      ]
    },
    {
      "cell_type": "code",
      "metadata": {
        "id": "UFpXDEGd4uA1"
      },
      "source": [
        "def root_mean_squared_error_np(y_true, y_pred):\n",
        "    return np.sqrt(np.mean(np.square((y_pred - y_true)), axis=-1))\n",
        "\n",
        "def rmspe_np(y_true, y_pred):\n",
        "    MSEP_ = ((y_true - y_pred)/y_true)**2\n",
        "    return np.sqrt(MSEP_.mean())"
      ],
      "execution_count": 166,
      "outputs": []
    },
    {
      "cell_type": "code",
      "metadata": {
        "colab": {
          "base_uri": "https://localhost:8080/"
        },
        "id": "MqrwWYWo4vJ9",
        "outputId": "8234b360-e4b6-4109-d1ea-e182e1462096"
      },
      "source": [
        "rmspe_np(df_val['Sales'].values, y_pred.reshape(-1))"
      ],
      "execution_count": 167,
      "outputs": [
        {
          "output_type": "execute_result",
          "data": {
            "text/plain": [
              "0.221343399996372"
            ]
          },
          "metadata": {},
          "execution_count": 167
        }
      ]
    },
    {
      "cell_type": "code",
      "metadata": {
        "colab": {
          "base_uri": "https://localhost:8080/",
          "height": 265
        },
        "id": "7zZNrVVW4wKw",
        "outputId": "21ddbbf2-53c0-454b-a57d-159096ee0f85"
      },
      "source": [
        "from matplotlib import pyplot as plt\n",
        "\n",
        "plt.plot(history.history['loss'])\n",
        "plt.show()"
      ],
      "execution_count": 168,
      "outputs": [
        {
          "output_type": "display_data",
          "data": {
            "image/png": "[encoded data removed]",
            "text/plain": [
              "<Figure size 432x288 with 1 Axes>"
            ]
          },
          "metadata": {
            "needs_background": "light"
          }
        }
      ]
    },
    {
      "cell_type": "markdown",
      "metadata": {
        "id": "xi14p-Nb7UJU"
      },
      "source": [
        "# 6. Full Model"
      ]
    },
    {
      "cell_type": "code",
      "metadata": {
        "id": "ddj_l5ev7VsN"
      },
      "source": [
        "from tensorflow.compat.v1 import ConfigProto\n",
        "from tensorflow.compat.v1 import InteractiveSession\n",
        "config = ConfigProto()\n",
        "config.gpu_options.allow_growth = True\n",
        "session = InteractiveSession(config=config)"
      ],
      "execution_count": 1,
      "outputs": []
    },
    {
      "cell_type": "code",
      "metadata": {
        "id": "Reitk8pA7ZHf"
      },
      "source": [
        "import pandas as pd\n",
        "import numpy as np\n",
        "import datetime\n",
        "from pandas_summary import DataFrameSummary"
      ],
      "execution_count": 2,
      "outputs": []
    },
    {
      "cell_type": "code",
      "metadata": {
        "id": "XeFA2gfd7bBZ"
      },
      "source": [
        "from tensorflow.keras.utils import to_categorical"
      ],
      "execution_count": 3,
      "outputs": []
    },
    {
      "cell_type": "code",
      "metadata": {
        "id": "OmTmsd1E7cB-"
      },
      "source": [
        "df = pd.read_feather('train_normalized_data.fth')\n",
        "df_test = pd.read_feather('test_normalized_data.fth')"
      ],
      "execution_count": 4,
      "outputs": []
    },
    {
      "cell_type": "code",
      "metadata": {
        "id": "UHQ30rPb7f4e"
      },
      "source": [
        "cat_vars = ['Store', 'DayOfWeek', 'Year', 'Month', 'Day', 'StateHoliday', 'CompetitionMonthsOpen', 'Promo2Weeks', \n",
        "            'StoreType', 'Assortment', 'PromoInterval', 'CompetitionOpenSinceYear', 'Promo2SinceYear', 'State', \n",
        "            'Week', 'Events', 'Promo_fw', 'Promo_bw', 'StateHoliday_bool_fw', 'StateHoliday_bool_bw', 'SchoolHoliday_fw', 'SchoolHoliday_bw']\n",
        "\n",
        "cat_vars = ['Store', 'DayOfWeek']"
      ],
      "execution_count": 5,
      "outputs": []
    },
    {
      "cell_type": "code",
      "metadata": {
        "id": "G4Fpmaop7hIO"
      },
      "source": [
        "contin_vars = ['CompetitionDistance', \n",
        "   'Max_TemperatureC', 'Mean_TemperatureC', 'Min_TemperatureC', 'Precipitationmm',\n",
        "   'Max_Humidity', 'Mean_Humidity', 'Min_Humidity', 'Max_Wind_SpeedKm_h', \n",
        "   'Mean_Wind_SpeedKm_h', 'CloudCover', 'trend', 'trend_DE',\n",
        "   'AfterStateHoliday_bool', 'BeforeStateHoliday_bool', 'Promo', 'SchoolHoliday', 'StateHoliday_bool']\n",
        "contin_vars = ['BeforeStateHoliday_bool', 'Max_TemperatureC']"
      ],
      "execution_count": 6,
      "outputs": []
    },
    {
      "cell_type": "code",
      "metadata": {
        "id": "xUgS9aEZ7ib_"
      },
      "source": [
        "uniques = DataFrameSummary(df[cat_vars]).summary().loc[['uniques']]"
      ],
      "execution_count": 7,
      "outputs": []
    },
    {
      "cell_type": "code",
      "metadata": {
        "colab": {
          "base_uri": "https://localhost:8080/",
          "height": 110
        },
        "id": "abq0nGMS7j4a",
        "outputId": "174f2519-041c-4cb7-aa1e-1fdfb997c696"
      },
      "source": [
        "uniques.T"
      ],
      "execution_count": 8,
      "outputs": [
        {
          "output_type": "execute_result",
          "data": {
            "text/html": [
              "<div>\n",
              "<style scoped>\n",
              "    .dataframe tbody tr th:only-of-type {\n",
              "        vertical-align: middle;\n",
              "    }\n",
              "\n",
              "    .dataframe tbody tr th {\n",
              "        vertical-align: top;\n",
              "    }\n",
              "\n",
              "    .dataframe thead th {\n",
              "        text-align: right;\n",
              "    }\n",
              "</style>\n",
              "<table border=\"1\" class=\"dataframe\">\n",
              "  <thead>\n",
              "    <tr style=\"text-align: right;\">\n",
              "      <th></th>\n",
              "      <th>uniques</th>\n",
              "    </tr>\n",
              "  </thead>\n",
              "  <tbody>\n",
              "    <tr>\n",
              "      <th>Store</th>\n",
              "      <td>1115</td>\n",
              "    </tr>\n",
              "    <tr>\n",
              "      <th>DayOfWeek</th>\n",
              "      <td>7</td>\n",
              "    </tr>\n",
              "  </tbody>\n",
              "</table>\n",
              "</div>"
            ],
            "text/plain": [
              "          uniques\n",
              "Store        1115\n",
              "DayOfWeek       7"
            ]
          },
          "metadata": {},
          "execution_count": 8
        }
      ]
    },
    {
      "cell_type": "markdown",
      "metadata": {
        "id": "VljunH8A7rru"
      },
      "source": [
        "## Asignación de Dimensión de Embeddings"
      ]
    },
    {
      "cell_type": "code",
      "metadata": {
        "id": "aY1zRw3T7rDQ"
      },
      "source": [
        "cat_var_dict = {'Store': 50, 'DayOfWeek': 2, 'Year': 2, 'Month': 2,\n",
        "'Day': 10, 'StateHoliday': 2, 'CompetitionMonthsOpen': 2,\n",
        "'Promo2Weeks': 1, 'StoreType': 2, 'Assortment': 3, 'PromoInterval': 3,\n",
        "'CompetitionOpenSinceYear': 4, 'Promo2SinceYear': 4, 'State': 6,\n",
        "'Week': 25, 'Events': 4, 'Promo_fw': 1,\n",
        "'Promo_bw': 1, 'StateHoliday_bool_fw': 1,\n",
        "'StateHoliday_bool_bw': 1, 'SchoolHoliday_fw': 1,\n",
        "'SchoolHoliday_bw': 1}"
      ],
      "execution_count": 9,
      "outputs": []
    },
    {
      "cell_type": "code",
      "metadata": {
        "colab": {
          "base_uri": "https://localhost:8080/"
        },
        "id": "q9Im4SXt7yB4",
        "outputId": "6ccad5a1-56a7-4e16-abf5-401e105335f9"
      },
      "source": [
        "for v in cat_vars:\n",
        "    uniques_ = df[v].unique()\n",
        "    uniques_.sort()\n",
        "    print(v, cat_var_dict[v], len(uniques_), uniques_)\n",
        "    print()"
      ],
      "execution_count": 10,
      "outputs": [
        {
          "output_type": "stream",
          "name": "stdout",
          "text": [
            "Store 50 1115 [   0    1    2 ... 1112 1113 1114]\n",
            "\n",
            "DayOfWeek 2 7 [0 1 2 3 4 5 6]\n",
            "\n"
          ]
        }
      ]
    },
    {
      "cell_type": "markdown",
      "metadata": {
        "id": "adiJYYjX7zzW"
      },
      "source": [
        "## Definición de modelo"
      ]
    },
    {
      "cell_type": "code",
      "metadata": {
        "id": "4ZLJ3-NR72N2"
      },
      "source": [
        "add_customers = True\n",
        "log_output = False\n",
        "output_activation = 'linear'"
      ],
      "execution_count": 11,
      "outputs": []
    },
    {
      "cell_type": "code",
      "metadata": {
        "id": "WbInIjlJ74s3"
      },
      "source": [
        "from tensorflow.keras.models import Model\n",
        "from tensorflow.keras.callbacks import ModelCheckpoint\n",
        "from tensorflow.keras.optimizers import Adam\n",
        "from tensorflow.keras.layers import Embedding, Input, Flatten, Concatenate, Dense, BatchNormalization, Activation, LeakyReLU, Dropout\n",
        "from tensorflow.keras.regularizers import l2"
      ],
      "execution_count": 12,
      "outputs": []
    },
    {
      "cell_type": "code",
      "metadata": {
        "id": "g80FCbHZ75zv"
      },
      "source": [
        "def get_cat_vars_model(cat_vars, uniques, cat_var_dict):\n",
        "    cat_vars_embed_outs = []\n",
        "    cat_var_inputs = []\n",
        "    for cat_var in cat_vars:\n",
        "        cat_var_in = Input(shape=(1,), name=f\"{cat_var}_input\")\n",
        "        cat_var_inputs.append(cat_var_in)\n",
        "        embed_out = Embedding(uniques[cat_var][0], cat_var_dict[cat_var], name=f'{cat_var}_Embed')(cat_var_in)\n",
        "        flatten_out = Flatten(name=f\"{cat_var}_flat\")(embed_out)\n",
        "        cat_vars_embed_outs.append(flatten_out)\n",
        "    return cat_var_inputs, cat_vars_embed_outs\n",
        "\n",
        "def get_cont_vars_input(contin_vars, dense_layer=False):\n",
        "    cont_vars_inputs = []\n",
        "    cont_vars_outputs = []\n",
        "    for cont_var in contin_vars:\n",
        "        cont_var_in = Input(shape=(1,), name=f\"{cont_var}_input\")\n",
        "        cont_vars_inputs.append(cont_var_in)\n",
        "        if dense_layer:\n",
        "            cont_var_out = Dense(1, name=f\"{cont_var}_input\", activation = 'linear')(cont_var_in)\n",
        "            cont_vars_outputs.append(cont_var_out)\n",
        "        else:\n",
        "            cont_vars_outputs.append(cont_var_in)\n",
        "    return cont_vars_inputs, cont_vars_outputs"
      ],
      "execution_count": 13,
      "outputs": []
    },
    {
      "cell_type": "code",
      "metadata": {
        "id": "xokz4KN8764K"
      },
      "source": [
        "cat_var_inputs, cat_vars_embed_outs = get_cat_vars_model(cat_vars, uniques, cat_var_dict)\n",
        "cont_vars_inputs,  cont_vars_outs= get_cont_vars_input(contin_vars)"
      ],
      "execution_count": 14,
      "outputs": []
    },
    {
      "cell_type": "code",
      "metadata": {
        "id": "JIKTucid8ApH"
      },
      "source": [
        "# Descomentar para ver resultados\n",
        "# cat_vars_embed_outs\n",
        "# cat_var_inputs\n",
        "# cont_vars_inputs\n",
        "# cont_vars_outs"
      ],
      "execution_count": 15,
      "outputs": []
    },
    {
      "cell_type": "code",
      "metadata": {
        "id": "f26lqqMs8CgH"
      },
      "source": [
        "first_hidden_units = 1000\n",
        "second_hidden_units = 500\n",
        "l2_lambda = 1e-3\n",
        "merged = Concatenate(name='All_Concatenate')(cat_vars_embed_outs + cont_vars_inputs)\n",
        "x = Dense(first_hidden_units, kernel_initializer=\"uniform\", kernel_regularizer=l2(l2_lambda))(merged)\n",
        "# x = BatchNormalization()(x)\n",
        "x = Activation('relu')(x)\n",
        "# x = LeakyReLU()(x)\n",
        "x = Dense(second_hidden_units, kernel_initializer=\"uniform\", kernel_regularizer=l2(l2_lambda))(x)\n",
        "# x = BatchNormalization()(x)\n",
        "x = Activation('relu')(x)\n",
        "# x = LeakyReLU()(x)\n",
        "\n",
        "output_1 = Dense(1, name='Sales', activation=output_activation)(x)\n",
        "output_2 = Dense(1, name='Customers', activation=output_activation)(x)"
      ],
      "execution_count": 16,
      "outputs": []
    },
    {
      "cell_type": "code",
      "metadata": {
        "id": "dE7oAEkD8D20"
      },
      "source": [
        "if add_customers:\n",
        "    model = Model(cat_var_inputs + cont_vars_inputs, [output_1, output_2])\n",
        "else: \n",
        "    model = Model(cat_var_inputs + cont_vars_inputs, [output_1])"
      ],
      "execution_count": 17,
      "outputs": []
    },
    {
      "cell_type": "code",
      "metadata": {
        "colab": {
          "base_uri": "https://localhost:8080/"
        },
        "id": "SNq2qa3k8FU8",
        "outputId": "44e7401e-32d3-438e-c2a2-d92cfe433e93"
      },
      "source": [
        "# Descomentar para ver\n",
        "model.summary()"
      ],
      "execution_count": 18,
      "outputs": [
        {
          "output_type": "stream",
          "name": "stdout",
          "text": [
            "Model: \"model\"\n",
            "__________________________________________________________________________________________________\n",
            " Layer (type)                   Output Shape         Param #     Connected to                     \n",
            "==================================================================================================\n",
            " Store_input (InputLayer)       [(None, 1)]          0           []                               \n",
            "                                                                                                  \n",
            " DayOfWeek_input (InputLayer)   [(None, 1)]          0           []                               \n",
            "                                                                                                  \n",
            " Store_Embed (Embedding)        (None, 1, 50)        55750       ['Store_input[0][0]']            \n",
            "                                                                                                  \n",
            " DayOfWeek_Embed (Embedding)    (None, 1, 2)         14          ['DayOfWeek_input[0][0]']        \n",
            "                                                                                                  \n",
            " Store_flat (Flatten)           (None, 50)           0           ['Store_Embed[0][0]']            \n",
            "                                                                                                  \n",
            " DayOfWeek_flat (Flatten)       (None, 2)            0           ['DayOfWeek_Embed[0][0]']        \n",
            "                                                                                                  \n",
            " BeforeStateHoliday_bool_input   [(None, 1)]         0           []                               \n",
            " (InputLayer)                                                                                     \n",
            "                                                                                                  \n",
            " Max_TemperatureC_input (InputL  [(None, 1)]         0           []                               \n",
            " ayer)                                                                                            \n",
            "                                                                                                  \n",
            " All_Concatenate (Concatenate)  (None, 54)           0           ['Store_flat[0][0]',             \n",
            "                                                                  'DayOfWeek_flat[0][0]',         \n",
            "                                                                  'BeforeStateHoliday_bool_input[0\n",
            "                                                                 ][0]',                           \n",
            "                                                                  'Max_TemperatureC_input[0][0]'] \n",
            "                                                                                                  \n",
            " dense (Dense)                  (None, 1000)         55000       ['All_Concatenate[0][0]']        \n",
            "                                                                                                  \n",
            " activation (Activation)        (None, 1000)         0           ['dense[0][0]']                  \n",
            "                                                                                                  \n",
            " dense_1 (Dense)                (None, 500)          500500      ['activation[0][0]']             \n",
            "                                                                                                  \n",
            " activation_1 (Activation)      (None, 500)          0           ['dense_1[0][0]']                \n",
            "                                                                                                  \n",
            " Sales (Dense)                  (None, 1)            501         ['activation_1[0][0]']           \n",
            "                                                                                                  \n",
            " Customers (Dense)              (None, 1)            501         ['activation_1[0][0]']           \n",
            "                                                                                                  \n",
            "==================================================================================================\n",
            "Total params: 612,266\n",
            "Trainable params: 612,266\n",
            "Non-trainable params: 0\n",
            "__________________________________________________________________________________________________\n"
          ]
        }
      ]
    },
    {
      "cell_type": "code",
      "metadata": {
        "id": "4cAujajq8HEp"
      },
      "source": [
        "model.save_weights('initial_weights.hdf5')"
      ],
      "execution_count": 19,
      "outputs": []
    },
    {
      "cell_type": "code",
      "metadata": {
        "colab": {
          "base_uri": "https://localhost:8080/"
        },
        "id": "YnpgIVtP8Ifo",
        "outputId": "42bb86a4-cebd-46d0-aac3-c5ac09fa7dd4"
      },
      "source": [
        "df_train = df[df.Date < datetime.datetime(2015, 7, 1)]  \n",
        "df_val = df[df.Date >= datetime.datetime(2015, 7, 1)]\n",
        "print(f'Cantidad en val: {len(df_val)}, porcentaje: {len(df_train)/(len(df_train) + len(df_val))}')"
      ],
      "execution_count": 20,
      "outputs": [
        {
          "output_type": "stream",
          "name": "stdout",
          "text": [
            "Cantidad en val: 30188, porcentaje: 0.9642465458145908\n"
          ]
        }
      ]
    },
    {
      "cell_type": "code",
      "metadata": {
        "id": "V0zTcq6f8KAo"
      },
      "source": [
        "from matplotlib import pyplot as plt\n",
        "# plt.figure(figsize=(20,5))\n",
        "# plt.plot((df_train[df_train['Store']==1]['Sales'].values - df_train[df_train['Store']==1]['Sales'].mean())/df_train[df_train['Store']==1]['Sales'].std())\n",
        "# plt.show()\n",
        "# plt.figure(figsize=(20,5))\n",
        "# plt.plot(np.log(df_train[df_train['Store']==1]['Sales'].values)/np.max(np.log(df_train[df_train['Store']==1]['Sales'].values)))\n",
        "# plt.show()"
      ],
      "execution_count": 21,
      "outputs": []
    },
    {
      "cell_type": "code",
      "metadata": {
        "id": "cB8Sb_Cu8LMn"
      },
      "source": [
        "stores_mean = {}\n",
        "for store, g_df in df_train.groupby('Store'):\n",
        "    stores_mean[store] = g_df[g_df['Sales'] > 0]['Sales'].mean()"
      ],
      "execution_count": 22,
      "outputs": []
    },
    {
      "cell_type": "code",
      "metadata": {
        "colab": {
          "base_uri": "https://localhost:8080/"
        },
        "id": "D9FoRBxK8MeO",
        "outputId": "575ebb94-7525-457d-d1dd-f0c117662caa"
      },
      "source": [
        "df_train.loc[:, 'mean_by_store'] = df_train['Store'].apply(stores_mean.get)\n",
        "df_val.loc[:, 'mean_by_store'] = df_val['Store'].apply(stores_mean.get)\n",
        "\n",
        "df_train.loc[:, 'Sales_store'] = df_train['Sales'] - df_train['mean_by_store']\n",
        "df_val.loc[:, 'Sales_store'] = df_val['Sales'] - df_val['mean_by_store']"
      ],
      "execution_count": 23,
      "outputs": [
        {
          "output_type": "stream",
          "name": "stderr",
          "text": [
            "/usr/local/lib/python3.7/dist-packages/pandas/core/indexing.py:1596: SettingWithCopyWarning: \n",
            "A value is trying to be set on a copy of a slice from a DataFrame.\n",
            "Try using .loc[row_indexer,col_indexer] = value instead\n",
            "\n",
            "See the caveats in the documentation: https://pandas.pydata.org/pandas-docs/stable/user_guide/indexing.html#returning-a-view-versus-a-copy\n",
            "  self.obj[key] = _infer_fill_value(value)\n",
            "/usr/local/lib/python3.7/dist-packages/pandas/core/indexing.py:1743: SettingWithCopyWarning: \n",
            "A value is trying to be set on a copy of a slice from a DataFrame.\n",
            "Try using .loc[row_indexer,col_indexer] = value instead\n",
            "\n",
            "See the caveats in the documentation: https://pandas.pydata.org/pandas-docs/stable/user_guide/indexing.html#returning-a-view-versus-a-copy\n",
            "  isetter(ilocs[0], value)\n"
          ]
        }
      ]
    },
    {
      "cell_type": "code",
      "metadata": {
        "id": "xwYtfFUW8Nl3"
      },
      "source": [
        "from tensorflow.keras import backend as K"
      ],
      "execution_count": 24,
      "outputs": []
    },
    {
      "cell_type": "code",
      "metadata": {
        "id": "deJ_iR6Z8O8w"
      },
      "source": [
        "def rmspe(y_true, y_pred):\n",
        "    return K.sqrt(K.mean(K.square((y_true - y_pred)/y_true)))"
      ],
      "execution_count": 25,
      "outputs": []
    },
    {
      "cell_type": "code",
      "metadata": {
        "id": "pqlbxZDR8P-X"
      },
      "source": [
        "def get_metric(df, sales_):\n",
        "    return np.sqrt((((df['Sales'] - sales_)/df['Sales'])**2).mean())"
      ],
      "execution_count": 26,
      "outputs": []
    },
    {
      "cell_type": "code",
      "metadata": {
        "colab": {
          "base_uri": "https://localhost:8080/"
        },
        "id": "hzq-7AYa8Q-I",
        "outputId": "73fd59fc-7d04-4716-9879-592b49b9feb6"
      },
      "source": [
        "get_metric(df_val, df_val['mean_by_store'])"
      ],
      "execution_count": 27,
      "outputs": [
        {
          "output_type": "execute_result",
          "data": {
            "text/plain": [
              "0.30717460853388645"
            ]
          },
          "metadata": {},
          "execution_count": 27
        }
      ]
    },
    {
      "cell_type": "code",
      "metadata": {
        "id": "vNNm5Qno8SU3"
      },
      "source": [
        "all_vars = cat_vars + contin_vars\n",
        "X_train = np.hsplit(df_train[all_vars].values, len(all_vars))\n",
        "X_val = np.hsplit(df_val[all_vars].values, len(all_vars))\n",
        "X_test = np.hsplit(df_test[all_vars].values, len(all_vars))"
      ],
      "execution_count": 28,
      "outputs": []
    },
    {
      "cell_type": "code",
      "metadata": {
        "id": "dX43z7C68Tbg"
      },
      "source": [
        "if add_customers:\n",
        "    y_out_columns = ['Sales', 'Customers']\n",
        "else:\n",
        "    y_out_columns = ['Sales_store']\n",
        "    \n",
        "if log_output:\n",
        "    # Escala logaritmica\n",
        "    max_log_y = np.max(np.log(df[y_out_columns])).values\n",
        "    y_train = np.log(df_train[y_out_columns].values)/max_log_y\n",
        "    y_val = np.log(df_val[y_out_columns].values)/max_log_y\n",
        "else:\n",
        "    # Normalización\n",
        "#     y_mean = df_train[y_out_columns].mean().values\n",
        "#     y_std = df_train[y_out_columns].std().values\n",
        "#     y_train = (df_train[y_out_columns].values - y_mean)/y_std\n",
        "#     y_val = (df_val[y_out_columns].values - y_mean)/y_std\n",
        "    y_max = df_train[y_out_columns].max().values\n",
        "    y_train = df_train[y_out_columns].values/y_max\n",
        "    y_val = df_val[y_out_columns].values/y_max\n",
        "y_train = np.hsplit(y_train, y_train.shape[1])\n",
        "y_val = np.hsplit(y_val, y_val.shape[1])"
      ],
      "execution_count": 29,
      "outputs": []
    },
    {
      "cell_type": "code",
      "metadata": {
        "colab": {
          "base_uri": "https://localhost:8080/"
        },
        "id": "HVBFmLvH8UzE",
        "outputId": "4d848367-355f-4d40-c419-fac08caacbfb"
      },
      "source": [
        "lr = 0.001\n",
        "model.compile(optimizer=Adam(lr=lr), metrics=['mse', rmspe], loss='mse')"
      ],
      "execution_count": 30,
      "outputs": [
        {
          "output_type": "stream",
          "name": "stderr",
          "text": [
            "/usr/local/lib/python3.7/dist-packages/keras/optimizer_v2/adam.py:105: UserWarning: The `lr` argument is deprecated, use `learning_rate` instead.\n",
            "  super(Adam, self).__init__(name, **kwargs)\n"
          ]
        }
      ]
    },
    {
      "cell_type": "code",
      "metadata": {
        "id": "UeDTduln8WJE"
      },
      "source": [
        "if add_customers:\n",
        "    checkpoint = ModelCheckpoint('bestmodel.hdf5', monitor='val_Sales_mse', verbose=1, save_best_only=True)\n",
        "else:\n",
        "    checkpoint = ModelCheckpoint('bestmodel.hdf5', monitor='val_loss', verbose=1, save_best_only=True)"
      ],
      "execution_count": 31,
      "outputs": []
    },
    {
      "cell_type": "code",
      "metadata": {
        "colab": {
          "base_uri": "https://localhost:8080/"
        },
        "id": "6fXRvHMq8XlY",
        "outputId": "66c44831-a18a-42f4-c514-955a79d208ff"
      },
      "source": [
        "epochs = 20\n",
        "batch_size = 256\n",
        "history = model.fit(X_train, y_train, validation_data=(X_val, y_val),  epochs=epochs, batch_size=batch_size, callbacks=[checkpoint], verbose=2)"
      ],
      "execution_count": 32,
      "outputs": [
        {
          "output_type": "stream",
          "name": "stdout",
          "text": [
            "Epoch 1/20\n",
            "\n",
            "Epoch 00001: val_Sales_mse improved from inf to 0.00172, saving model to bestmodel.hdf5\n",
            "3181/3181 - 25s - loss: 0.0068 - Sales_loss: 0.0023 - Customers_loss: 8.4790e-04 - Sales_mse: 0.0023 - Sales_rmspe: 0.3536 - Customers_mse: 8.4790e-04 - Customers_rmspe: 0.3187 - val_loss: 0.0027 - val_Sales_loss: 0.0017 - val_Customers_loss: 7.5711e-04 - val_Sales_mse: 0.0017 - val_Sales_rmspe: 0.2829 - val_Customers_mse: 7.5711e-04 - val_Customers_rmspe: 0.3039 - 25s/epoch - 8ms/step\n",
            "Epoch 2/20\n",
            "\n",
            "Epoch 00002: val_Sales_mse improved from 0.00172 to 0.00143, saving model to bestmodel.hdf5\n",
            "3181/3181 - 21s - loss: 0.0028 - Sales_loss: 0.0020 - Customers_loss: 6.0455e-04 - Sales_mse: 0.0020 - Sales_rmspe: 0.3319 - Customers_mse: 6.0455e-04 - Customers_rmspe: 0.2890 - val_loss: 0.0020 - val_Sales_loss: 0.0014 - val_Customers_loss: 3.9094e-04 - val_Sales_mse: 0.0014 - val_Sales_rmspe: 0.2493 - val_Customers_mse: 3.9094e-04 - val_Customers_rmspe: 0.2181 - 21s/epoch - 6ms/step\n",
            "Epoch 3/20\n",
            "\n",
            "Epoch 00003: val_Sales_mse did not improve from 0.00143\n",
            "3181/3181 - 21s - loss: 0.0026 - Sales_loss: 0.0019 - Customers_loss: 4.5815e-04 - Sales_mse: 0.0019 - Sales_rmspe: 0.3231 - Customers_mse: 4.5815e-04 - Customers_rmspe: 0.2616 - val_loss: 0.0020 - val_Sales_loss: 0.0015 - val_Customers_loss: 3.8821e-04 - val_Sales_mse: 0.0015 - val_Sales_rmspe: 0.2524 - val_Customers_mse: 3.8821e-04 - val_Customers_rmspe: 0.2158 - 21s/epoch - 7ms/step\n",
            "Epoch 4/20\n",
            "\n",
            "Epoch 00004: val_Sales_mse improved from 0.00143 to 0.00141, saving model to bestmodel.hdf5\n",
            "3181/3181 - 21s - loss: 0.0025 - Sales_loss: 0.0019 - Customers_loss: 4.5371e-04 - Sales_mse: 0.0019 - Sales_rmspe: 0.3219 - Customers_mse: 4.5371e-04 - Customers_rmspe: 0.2596 - val_loss: 0.0019 - val_Sales_loss: 0.0014 - val_Customers_loss: 3.6047e-04 - val_Sales_mse: 0.0014 - val_Sales_rmspe: 0.2411 - val_Customers_mse: 3.6047e-04 - val_Customers_rmspe: 0.2045 - 21s/epoch - 7ms/step\n",
            "Epoch 5/20\n",
            "\n",
            "Epoch 00005: val_Sales_mse did not improve from 0.00141\n",
            "3181/3181 - 21s - loss: 0.0025 - Sales_loss: 0.0019 - Customers_loss: 4.4930e-04 - Sales_mse: 0.0019 - Sales_rmspe: 0.3202 - Customers_mse: 4.4930e-04 - Customers_rmspe: 0.2573 - val_loss: 0.0019 - val_Sales_loss: 0.0014 - val_Customers_loss: 3.3285e-04 - val_Sales_mse: 0.0014 - val_Sales_rmspe: 0.2353 - val_Customers_mse: 3.3285e-04 - val_Customers_rmspe: 0.1871 - 21s/epoch - 6ms/step\n",
            "Epoch 6/20\n",
            "\n",
            "Epoch 00006: val_Sales_mse did not improve from 0.00141\n",
            "3181/3181 - 21s - loss: 0.0025 - Sales_loss: 0.0019 - Customers_loss: 4.4725e-04 - Sales_mse: 0.0019 - Sales_rmspe: 0.3183 - Customers_mse: 4.4725e-04 - Customers_rmspe: 0.2551 - val_loss: 0.0020 - val_Sales_loss: 0.0014 - val_Customers_loss: 4.3024e-04 - val_Sales_mse: 0.0014 - val_Sales_rmspe: 0.2643 - val_Customers_mse: 4.3024e-04 - val_Customers_rmspe: 0.2446 - 21s/epoch - 7ms/step\n",
            "Epoch 7/20\n",
            "\n",
            "Epoch 00007: val_Sales_mse did not improve from 0.00141\n",
            "3181/3181 - 21s - loss: 0.0024 - Sales_loss: 0.0019 - Customers_loss: 4.4610e-04 - Sales_mse: 0.0019 - Sales_rmspe: 0.3181 - Customers_mse: 4.4610e-04 - Customers_rmspe: 0.2548 - val_loss: 0.0019 - val_Sales_loss: 0.0015 - val_Customers_loss: 3.5017e-04 - val_Sales_mse: 0.0015 - val_Sales_rmspe: 0.2321 - val_Customers_mse: 3.5017e-04 - val_Customers_rmspe: 0.1896 - 21s/epoch - 6ms/step\n",
            "Epoch 8/20\n",
            "\n",
            "Epoch 00008: val_Sales_mse did not improve from 0.00141\n",
            "3181/3181 - 21s - loss: 0.0024 - Sales_loss: 0.0019 - Customers_loss: 4.4344e-04 - Sales_mse: 0.0019 - Sales_rmspe: 0.3175 - Customers_mse: 4.4344e-04 - Customers_rmspe: 0.2533 - val_loss: 0.0019 - val_Sales_loss: 0.0015 - val_Customers_loss: 3.4106e-04 - val_Sales_mse: 0.0015 - val_Sales_rmspe: 0.2332 - val_Customers_mse: 3.4106e-04 - val_Customers_rmspe: 0.1956 - 21s/epoch - 7ms/step\n",
            "Epoch 9/20\n",
            "\n",
            "Epoch 00009: val_Sales_mse did not improve from 0.00141\n",
            "3181/3181 - 21s - loss: 0.0024 - Sales_loss: 0.0019 - Customers_loss: 4.4072e-04 - Sales_mse: 0.0019 - Sales_rmspe: 0.3166 - Customers_mse: 4.4072e-04 - Customers_rmspe: 0.2525 - val_loss: 0.0018 - val_Sales_loss: 0.0014 - val_Customers_loss: 3.2671e-04 - val_Sales_mse: 0.0014 - val_Sales_rmspe: 0.2351 - val_Customers_mse: 3.2671e-04 - val_Customers_rmspe: 0.1847 - 21s/epoch - 7ms/step\n",
            "Epoch 10/20\n",
            "\n",
            "Epoch 00010: val_Sales_mse did not improve from 0.00141\n",
            "3181/3181 - 21s - loss: 0.0024 - Sales_loss: 0.0019 - Customers_loss: 4.3668e-04 - Sales_mse: 0.0019 - Sales_rmspe: 0.3147 - Customers_mse: 4.3668e-04 - Customers_rmspe: 0.2506 - val_loss: 0.0019 - val_Sales_loss: 0.0014 - val_Customers_loss: 3.2917e-04 - val_Sales_mse: 0.0014 - val_Sales_rmspe: 0.2292 - val_Customers_mse: 3.2917e-04 - val_Customers_rmspe: 0.1870 - 21s/epoch - 7ms/step\n",
            "Epoch 11/20\n",
            "\n",
            "Epoch 00011: val_Sales_mse improved from 0.00141 to 0.00136, saving model to bestmodel.hdf5\n",
            "3181/3181 - 21s - loss: 0.0023 - Sales_loss: 0.0018 - Customers_loss: 3.8858e-04 - Sales_mse: 0.0018 - Sales_rmspe: 0.2912 - Customers_mse: 3.8858e-04 - Customers_rmspe: 0.2196 - val_loss: 0.0018 - val_Sales_loss: 0.0014 - val_Customers_loss: 3.0754e-04 - val_Sales_mse: 0.0014 - val_Sales_rmspe: 0.2410 - val_Customers_mse: 3.0754e-04 - val_Customers_rmspe: 0.1857 - 21s/epoch - 7ms/step\n",
            "Epoch 12/20\n",
            "\n",
            "Epoch 00012: val_Sales_mse did not improve from 0.00136\n",
            "3181/3181 - 21s - loss: 0.0022 - Sales_loss: 0.0018 - Customers_loss: 3.7107e-04 - Sales_mse: 0.0018 - Sales_rmspe: 0.2832 - Customers_mse: 3.7107e-04 - Customers_rmspe: 0.2081 - val_loss: 0.0018 - val_Sales_loss: 0.0014 - val_Customers_loss: 2.7963e-04 - val_Sales_mse: 0.0014 - val_Sales_rmspe: 0.2104 - val_Customers_mse: 2.7963e-04 - val_Customers_rmspe: 0.1641 - 21s/epoch - 7ms/step\n",
            "Epoch 13/20\n",
            "\n",
            "Epoch 00013: val_Sales_mse improved from 0.00136 to 0.00134, saving model to bestmodel.hdf5\n",
            "3181/3181 - 21s - loss: 0.0022 - Sales_loss: 0.0017 - Customers_loss: 3.6830e-04 - Sales_mse: 0.0017 - Sales_rmspe: 0.2820 - Customers_mse: 3.6830e-04 - Customers_rmspe: 0.2061 - val_loss: 0.0018 - val_Sales_loss: 0.0013 - val_Customers_loss: 3.8556e-04 - val_Sales_mse: 0.0013 - val_Sales_rmspe: 0.2299 - val_Customers_mse: 3.8556e-04 - val_Customers_rmspe: 0.2069 - 21s/epoch - 6ms/step\n",
            "Epoch 14/20\n",
            "\n",
            "Epoch 00014: val_Sales_mse improved from 0.00134 to 0.00130, saving model to bestmodel.hdf5\n",
            "3181/3181 - 21s - loss: 0.0022 - Sales_loss: 0.0017 - Customers_loss: 3.6759e-04 - Sales_mse: 0.0017 - Sales_rmspe: 0.2820 - Customers_mse: 3.6759e-04 - Customers_rmspe: 0.2058 - val_loss: 0.0017 - val_Sales_loss: 0.0013 - val_Customers_loss: 3.0048e-04 - val_Sales_mse: 0.0013 - val_Sales_rmspe: 0.2150 - val_Customers_mse: 3.0048e-04 - val_Customers_rmspe: 0.1759 - 21s/epoch - 6ms/step\n",
            "Epoch 15/20\n",
            "\n",
            "Epoch 00015: val_Sales_mse did not improve from 0.00130\n",
            "3181/3181 - 21s - loss: 0.0022 - Sales_loss: 0.0017 - Customers_loss: 3.6671e-04 - Sales_mse: 0.0017 - Sales_rmspe: 0.2820 - Customers_mse: 3.6671e-04 - Customers_rmspe: 0.2052 - val_loss: 0.0017 - val_Sales_loss: 0.0013 - val_Customers_loss: 3.3255e-04 - val_Sales_mse: 0.0013 - val_Sales_rmspe: 0.2302 - val_Customers_mse: 3.3255e-04 - val_Customers_rmspe: 0.1916 - 21s/epoch - 7ms/step\n",
            "Epoch 16/20\n",
            "\n",
            "Epoch 00016: val_Sales_mse did not improve from 0.00130\n",
            "3181/3181 - 21s - loss: 0.0022 - Sales_loss: 0.0017 - Customers_loss: 3.6714e-04 - Sales_mse: 0.0017 - Sales_rmspe: 0.2818 - Customers_mse: 3.6714e-04 - Customers_rmspe: 0.2047 - val_loss: 0.0017 - val_Sales_loss: 0.0013 - val_Customers_loss: 2.9359e-04 - val_Sales_mse: 0.0013 - val_Sales_rmspe: 0.2115 - val_Customers_mse: 2.9359e-04 - val_Customers_rmspe: 0.1671 - 21s/epoch - 7ms/step\n",
            "Epoch 17/20\n",
            "\n",
            "Epoch 00017: val_Sales_mse did not improve from 0.00130\n",
            "3181/3181 - 21s - loss: 0.0022 - Sales_loss: 0.0017 - Customers_loss: 3.6764e-04 - Sales_mse: 0.0017 - Sales_rmspe: 0.2810 - Customers_mse: 3.6764e-04 - Customers_rmspe: 0.2048 - val_loss: 0.0017 - val_Sales_loss: 0.0013 - val_Customers_loss: 2.7759e-04 - val_Sales_mse: 0.0013 - val_Sales_rmspe: 0.2100 - val_Customers_mse: 2.7759e-04 - val_Customers_rmspe: 0.1591 - 21s/epoch - 7ms/step\n",
            "Epoch 18/20\n",
            "\n",
            "Epoch 00018: val_Sales_mse did not improve from 0.00130\n",
            "3181/3181 - 20s - loss: 0.0022 - Sales_loss: 0.0017 - Customers_loss: 3.6647e-04 - Sales_mse: 0.0017 - Sales_rmspe: 0.2812 - Customers_mse: 3.6647e-04 - Customers_rmspe: 0.2048 - val_loss: 0.0017 - val_Sales_loss: 0.0013 - val_Customers_loss: 2.9067e-04 - val_Sales_mse: 0.0013 - val_Sales_rmspe: 0.2176 - val_Customers_mse: 2.9067e-04 - val_Customers_rmspe: 0.1675 - 20s/epoch - 6ms/step\n",
            "Epoch 19/20\n",
            "\n",
            "Epoch 00019: val_Sales_mse did not improve from 0.00130\n",
            "3181/3181 - 21s - loss: 0.0022 - Sales_loss: 0.0017 - Customers_loss: 3.6638e-04 - Sales_mse: 0.0017 - Sales_rmspe: 0.2810 - Customers_mse: 3.6638e-04 - Customers_rmspe: 0.2047 - val_loss: 0.0017 - val_Sales_loss: 0.0013 - val_Customers_loss: 2.7952e-04 - val_Sales_mse: 0.0013 - val_Sales_rmspe: 0.2093 - val_Customers_mse: 2.7952e-04 - val_Customers_rmspe: 0.1616 - 21s/epoch - 7ms/step\n",
            "Epoch 20/20\n",
            "\n",
            "Epoch 00020: val_Sales_mse did not improve from 0.00130\n",
            "3181/3181 - 21s - loss: 0.0022 - Sales_loss: 0.0017 - Customers_loss: 3.6505e-04 - Sales_mse: 0.0017 - Sales_rmspe: 0.2805 - Customers_mse: 3.6505e-04 - Customers_rmspe: 0.2039 - val_loss: 0.0017 - val_Sales_loss: 0.0013 - val_Customers_loss: 3.0522e-04 - val_Sales_mse: 0.0013 - val_Sales_rmspe: 0.2202 - val_Customers_mse: 3.0522e-04 - val_Customers_rmspe: 0.1756 - 21s/epoch - 7ms/step\n"
          ]
        }
      ]
    },
    {
      "cell_type": "code",
      "metadata": {
        "colab": {
          "base_uri": "https://localhost:8080/",
          "height": 530
        },
        "id": "FBk0fZn58ZJn",
        "outputId": "9fdd05e8-a8ba-4cfd-a3ab-a6833ae59e07"
      },
      "source": [
        "plt.plot(history.history['val_loss'])\n",
        "# plt.plot(history.history['val_Customers_mse'])\n",
        "# plt.plot(history.history['val_Sales_mse'])\n",
        "plt.show()\n",
        "plt.plot(history.history['loss'])\n",
        "# plt.plot(history.history['Customers_mse'])\n",
        "# plt.plot(history.history['Sales_mse'])"
      ],
      "execution_count": 33,
      "outputs": [
        {
          "output_type": "display_data",
          "data": {
            "image/png": "[encoded data removed]",
            "text/plain": [
              "<Figure size 432x288 with 1 Axes>"
            ]
          },
          "metadata": {
            "needs_background": "light"
          }
        },
        {
          "output_type": "execute_result",
          "data": {
            "text/plain": [
              "[<matplotlib.lines.Line2D at 0x7f677f52c050>]"
            ]
          },
          "metadata": {},
          "execution_count": 33
        },
        {
          "output_type": "display_data",
          "data": {
            "image/png": "[encoded data removed]",
            "text/plain": [
              "<Figure size 432x288 with 1 Axes>"
            ]
          },
          "metadata": {
            "needs_background": "light"
          }
        }
      ]
    },
    {
      "cell_type": "markdown",
      "metadata": {
        "id": "lAHvOUCA8aho"
      },
      "source": [
        "## Métrica"
      ]
    },
    {
      "cell_type": "code",
      "metadata": {
        "colab": {
          "base_uri": "https://localhost:8080/"
        },
        "id": "pCGC9H4t8cOe",
        "outputId": "774b1e5b-a219-426a-b5f2-3eaa2c37b12f"
      },
      "source": [
        "model.evaluate(X_val, y_val)"
      ],
      "execution_count": 34,
      "outputs": [
        {
          "output_type": "stream",
          "name": "stdout",
          "text": [
            "944/944 [==============================] - 4s 5ms/step - loss: 0.0017 - Sales_loss: 0.0013 - Customers_loss: 3.0522e-04 - Sales_mse: 0.0013 - Sales_rmspe: 0.2165 - Customers_mse: 3.0522e-04 - Customers_rmspe: 0.1720\n"
          ]
        },
        {
          "output_type": "execute_result",
          "data": {
            "text/plain": [
              "[0.0016847194638103247,\n",
              " 0.0013033346040174365,\n",
              " 0.00030522135784849524,\n",
              " 0.0013033346040174365,\n",
              " 0.2164888232946396,\n",
              " 0.00030522135784849524,\n",
              " 0.17198272049427032]"
            ]
          },
          "metadata": {},
          "execution_count": 34
        }
      ]
    },
    {
      "cell_type": "code",
      "metadata": {
        "colab": {
          "base_uri": "https://localhost:8080/"
        },
        "id": "AXrysOlg8fAz",
        "outputId": "66c9a5e5-7afe-45fb-c2b4-99e676fed2dc"
      },
      "source": [
        "model.load_weights('bestmodel.hdf5')\n",
        "model.evaluate(X_val, y_val)"
      ],
      "execution_count": null,
      "outputs": [
        {
          "output_type": "stream",
          "name": "stdout",
          "text": [
            "944/944 [==============================] - 4s 5ms/step - loss: 0.0017 - Sales_loss: 0.0013 - Customers_loss: 3.0048e-04 - Sales_mse: 0.0013 - Sales_rmspe: 0.2111 - Customers_mse: 3.0048e-04 - Customers_rmspe: 0.1720\n"
          ]
        }
      ]
    },
    {
      "cell_type": "code",
      "metadata": {
        "id": "3xDh8PtL8gws"
      },
      "source": [
        "# model.load_weights('bestmodel.hdf5')\n",
        "# model.evaluate(X_val, y_val)\n",
        "# 30188/30188 [==============================] - 5s 172us/step\n",
        "# [0.12197033089921382,\n",
        "#  0.07211007360268763,\n",
        "#  0.037183713050426136,\n",
        "#  0.07211007360268763,\n",
        "#  0.037183713050426136]\n",
        "\n",
        "# [0.12932546436786652,\n",
        "#  0.07751645147800446,\n",
        "#  0.039259567856788635,\n",
        "#  0.07751645147800446,\n",
        "#  0.039259567856788635]"
      ],
      "execution_count": null,
      "outputs": []
    },
    {
      "cell_type": "code",
      "metadata": {
        "id": "Mxu1DVQJ8h-o"
      },
      "source": [
        "if log_output:\n",
        "    if add_customers:\n",
        "        y_pred = np.exp(model.predict(X_val, verbose=1)[0][:, 0]*max_log_y[0])\n",
        "        y_pred_test = np.exp(model.predict(X_test, verbose=1)[0][:, 0]*max_log_y[0])\n",
        "    else:\n",
        "        y_pred = np.exp(model.predict(X_val, verbose=1)*max_log_y)[:,0]\n",
        "        y_pred_test = np.exp(model.predict(X_test, verbose=1)*max_log_y)[:,0]\n",
        "else:\n",
        "    if add_customers:\n",
        "        y_pred = (model.predict(X_val, verbose=1)[0]*y_std[0] + y_mean[0])[:,0]\n",
        "        y_pred_test = (model.predict(X_test, verbose=1)[0]*y_std[0] + y_mean[0])[:,0]\n",
        "    else:\n",
        "#         y_pred = model.predict(X_val, verbose=1)[:,0]*y_std + y_mean\n",
        "#         y_pred_test = model.predict(X_test, verbose=1)[:,0]*y_std + y_mean\n",
        "        y_pred = model.predict(X_val, verbose=1)[:,0]*y_max\n",
        "        y_pred_test = model.predict(X_test, verbose=1)[:,0]*y_max\n",
        "y_pred_test[df_test['Open'] == 0] = 0"
      ],
      "execution_count": null,
      "outputs": []
    },
    {
      "cell_type": "code",
      "metadata": {
        "id": "mFx1tDLi8jSB"
      },
      "source": [
        "np.sqrt((((df_val['Sales'].values - y_pred)/df_val['Sales'].values)**2).sum()/len(y_pred))"
      ],
      "execution_count": null,
      "outputs": []
    },
    {
      "cell_type": "code",
      "metadata": {
        "id": "8kypHyqb8kXj"
      },
      "source": [
        "y_pred_test[:10]"
      ],
      "execution_count": null,
      "outputs": []
    },
    {
      "cell_type": "markdown",
      "metadata": {
        "id": "-u-TsuZL8uyw"
      },
      "source": [
        "## Análisis de Embeddings"
      ]
    },
    {
      "cell_type": "code",
      "metadata": {
        "id": "fvsKkXCz8wvk"
      },
      "source": [
        "def plot_embed(layer_name, cat_names):\n",
        "    Y = model.get_layer(layer_name).get_weights()[0]\n",
        "    print(Y.shape)\n",
        "    plt.figure(figsize=(8,8))\n",
        "    plt.scatter(-Y[:, 0], -Y[:, 1])\n",
        "    for i, txt in enumerate(cat_names):\n",
        "        plt.annotate(txt, (-Y[i, 0],-Y[i, 1]), xytext = (-5, 8), textcoords = 'offset points')"
      ],
      "execution_count": 38,
      "outputs": []
    },
    {
      "cell_type": "code",
      "metadata": {
        "colab": {
          "base_uri": "https://localhost:8080/",
          "height": 500
        },
        "id": "X4L7PB0P80sp",
        "outputId": "76c4fe1f-9405-4800-9bce-97152fe0e635"
      },
      "source": [
        "model.load_weights('bestmodel.hdf5')\n",
        "plot_embed('DayOfWeek_Embed', ['Mon', 'Tue', 'Wed', 'Thu', 'Fri', 'Sat','Sun'])"
      ],
      "execution_count": 39,
      "outputs": [
        {
          "output_type": "stream",
          "name": "stdout",
          "text": [
            "(7, 2)\n"
          ]
        },
        {
          "output_type": "display_data",
          "data": {
            "image/png": "[encoded data removed]",
            "text/plain": [
              "<Figure size 576x576 with 1 Axes>"
            ]
          },
          "metadata": {
            "needs_background": "light"
          }
        }
      ]
    },
    {
      "cell_type": "code",
      "metadata": {
        "colab": {
          "base_uri": "https://localhost:8080/",
          "height": 421
        },
        "id": "JUJ9-G01811M",
        "outputId": "8a256722-b730-4887-9dec-519a25184773"
      },
      "source": [
        "plot_embed('Month_Embed', list(range(12)))"
      ],
      "execution_count": 40,
      "outputs": [
        {
          "output_type": "error",
          "ename": "ValueError",
          "evalue": "ignored",
          "traceback": [
            "\u001b[0;31m---------------------------------------------------------------------------\u001b[0m",
            "\u001b[0;31mValueError\u001b[0m                                Traceback (most recent call last)",
            "\u001b[0;32m<ipython-input-40-c3dc3ee5fed0>\u001b[0m in \u001b[0;36m<module>\u001b[0;34m()\u001b[0m\n\u001b[0;32m----> 1\u001b[0;31m \u001b[0mplot_embed\u001b[0m\u001b[0;34m(\u001b[0m\u001b[0;34m'Month_Embed'\u001b[0m\u001b[0;34m,\u001b[0m \u001b[0mlist\u001b[0m\u001b[0;34m(\u001b[0m\u001b[0mrange\u001b[0m\u001b[0;34m(\u001b[0m\u001b[0;36m12\u001b[0m\u001b[0;34m)\u001b[0m\u001b[0;34m)\u001b[0m\u001b[0;34m)\u001b[0m\u001b[0;34m\u001b[0m\u001b[0;34m\u001b[0m\u001b[0m\n\u001b[0m",
            "\u001b[0;32m<ipython-input-38-52ee9a3c03b6>\u001b[0m in \u001b[0;36mplot_embed\u001b[0;34m(layer_name, cat_names)\u001b[0m\n\u001b[1;32m      1\u001b[0m \u001b[0;32mdef\u001b[0m \u001b[0mplot_embed\u001b[0m\u001b[0;34m(\u001b[0m\u001b[0mlayer_name\u001b[0m\u001b[0;34m,\u001b[0m \u001b[0mcat_names\u001b[0m\u001b[0;34m)\u001b[0m\u001b[0;34m:\u001b[0m\u001b[0;34m\u001b[0m\u001b[0;34m\u001b[0m\u001b[0m\n\u001b[0;32m----> 2\u001b[0;31m     \u001b[0mY\u001b[0m \u001b[0;34m=\u001b[0m \u001b[0mmodel\u001b[0m\u001b[0;34m.\u001b[0m\u001b[0mget_layer\u001b[0m\u001b[0;34m(\u001b[0m\u001b[0mlayer_name\u001b[0m\u001b[0;34m)\u001b[0m\u001b[0;34m.\u001b[0m\u001b[0mget_weights\u001b[0m\u001b[0;34m(\u001b[0m\u001b[0;34m)\u001b[0m\u001b[0;34m[\u001b[0m\u001b[0;36m0\u001b[0m\u001b[0;34m]\u001b[0m\u001b[0;34m\u001b[0m\u001b[0;34m\u001b[0m\u001b[0m\n\u001b[0m\u001b[1;32m      3\u001b[0m     \u001b[0mprint\u001b[0m\u001b[0;34m(\u001b[0m\u001b[0mY\u001b[0m\u001b[0;34m.\u001b[0m\u001b[0mshape\u001b[0m\u001b[0;34m)\u001b[0m\u001b[0;34m\u001b[0m\u001b[0;34m\u001b[0m\u001b[0m\n\u001b[1;32m      4\u001b[0m     \u001b[0mplt\u001b[0m\u001b[0;34m.\u001b[0m\u001b[0mfigure\u001b[0m\u001b[0;34m(\u001b[0m\u001b[0mfigsize\u001b[0m\u001b[0;34m=\u001b[0m\u001b[0;34m(\u001b[0m\u001b[0;36m8\u001b[0m\u001b[0;34m,\u001b[0m\u001b[0;36m8\u001b[0m\u001b[0;34m)\u001b[0m\u001b[0;34m)\u001b[0m\u001b[0;34m\u001b[0m\u001b[0;34m\u001b[0m\u001b[0m\n\u001b[1;32m      5\u001b[0m     \u001b[0mplt\u001b[0m\u001b[0;34m.\u001b[0m\u001b[0mscatter\u001b[0m\u001b[0;34m(\u001b[0m\u001b[0;34m-\u001b[0m\u001b[0mY\u001b[0m\u001b[0;34m[\u001b[0m\u001b[0;34m:\u001b[0m\u001b[0;34m,\u001b[0m \u001b[0;36m0\u001b[0m\u001b[0;34m]\u001b[0m\u001b[0;34m,\u001b[0m \u001b[0;34m-\u001b[0m\u001b[0mY\u001b[0m\u001b[0;34m[\u001b[0m\u001b[0;34m:\u001b[0m\u001b[0;34m,\u001b[0m \u001b[0;36m1\u001b[0m\u001b[0;34m]\u001b[0m\u001b[0;34m)\u001b[0m\u001b[0;34m\u001b[0m\u001b[0;34m\u001b[0m\u001b[0m\n",
            "\u001b[0;32m/usr/local/lib/python3.7/dist-packages/keras/engine/training.py\u001b[0m in \u001b[0;36mget_layer\u001b[0;34m(self, name, index)\u001b[0m\n\u001b[1;32m   2629\u001b[0m         \u001b[0;32mif\u001b[0m \u001b[0mlayer\u001b[0m\u001b[0;34m.\u001b[0m\u001b[0mname\u001b[0m \u001b[0;34m==\u001b[0m \u001b[0mname\u001b[0m\u001b[0;34m:\u001b[0m\u001b[0;34m\u001b[0m\u001b[0;34m\u001b[0m\u001b[0m\n\u001b[1;32m   2630\u001b[0m           \u001b[0;32mreturn\u001b[0m \u001b[0mlayer\u001b[0m\u001b[0;34m\u001b[0m\u001b[0;34m\u001b[0m\u001b[0m\n\u001b[0;32m-> 2631\u001b[0;31m       raise ValueError(f'No such layer: {name}. Existing layers are '\n\u001b[0m\u001b[1;32m   2632\u001b[0m                        f'{self.layers}.')\n\u001b[1;32m   2633\u001b[0m     raise ValueError('Provide either a layer name or layer index at '\n",
            "\u001b[0;31mValueError\u001b[0m: No such layer: Month_Embed. Existing layers are [<keras.engine.input_layer.InputLayer object at 0x7f67de0dcf90>, <keras.engine.input_layer.InputLayer object at 0x7f67de047b90>, <keras.layers.embeddings.Embedding object at 0x7f67de08f110>, <keras.layers.embeddings.Embedding object at 0x7f67dd8150d0>, <keras.layers.core.flatten.Flatten object at 0x7f685ee84f50>, <keras.layers.core.flatten.Flatten object at 0x7f67dd815310>, <keras.engine.input_layer.InputLayer object at 0x7f67dd81c4d0>, <keras.engine.input_layer.InputLayer object at 0x7f67dd821c50>, <keras.layers.merge.Concatenate object at 0x7f67dd81c390>, <keras.layers.core.dense.Dense object at 0x7f67de047690>, <keras.layers.core.activation.Activation object at 0x7f685e631f10>, <keras.layers.core.dense.Dense object at 0x7f67dd7dd250>, <keras.layers.core.activation.Activation object at 0x7f67dd7e48d0>, <keras.layers.core.dense.Dense object at 0x7f67dd7e4190>, <keras.layers.core.dense.Dense object at 0x7f67dd832610>]."
          ]
        }
      ]
    },
    {
      "cell_type": "code",
      "metadata": {
        "id": "1ruUKRvx8297"
      },
      "source": [
        "from sklearn.manifold import TSNE\n",
        "from sklearn.decomposition import PCA"
      ],
      "execution_count": 41,
      "outputs": []
    },
    {
      "cell_type": "code",
      "metadata": {
        "colab": {
          "base_uri": "https://localhost:8080/",
          "height": 162
        },
        "id": "6XavRIEv84KA",
        "outputId": "e2654c16-7738-49de-f69d-c2ebc34f2542"
      },
      "source": [
        "day_of_week_embedding.shape"
      ],
      "execution_count": 42,
      "outputs": [
        {
          "output_type": "error",
          "ename": "NameError",
          "evalue": "ignored",
          "traceback": [
            "\u001b[0;31m---------------------------------------------------------------------------\u001b[0m",
            "\u001b[0;31mNameError\u001b[0m                                 Traceback (most recent call last)",
            "\u001b[0;32m<ipython-input-42-00f84f4b7b18>\u001b[0m in \u001b[0;36m<module>\u001b[0;34m()\u001b[0m\n\u001b[0;32m----> 1\u001b[0;31m \u001b[0mday_of_week_embedding\u001b[0m\u001b[0;34m.\u001b[0m\u001b[0mshape\u001b[0m\u001b[0;34m\u001b[0m\u001b[0;34m\u001b[0m\u001b[0m\n\u001b[0m",
            "\u001b[0;31mNameError\u001b[0m: name 'day_of_week_embedding' is not defined"
          ]
        }
      ]
    },
    {
      "cell_type": "code",
      "metadata": {
        "id": "AWf3Lh3b85M1"
      },
      "source": [
        "tsne = TSNE(n_components=2, random_state=1, learning_rate=10, n_iter=10000)\n",
        "Y = tsne.fit_transform(day_of_week_embedding)\n",
        "names = ['Mon', 'Tue', 'Wed', 'Thu', 'Fri', 'Sat','Sun']\n",
        "plt.figure(figsize=(8,8))\n",
        "plt.scatter(-Y[:, 0], -Y[:, 1])\n",
        "for i, txt in enumerate(names):\n",
        "    plt.annotate(txt, (-Y[i, 0],-Y[i, 1]), xytext = (-5, 8), textcoords = 'offset points')"
      ],
      "execution_count": null,
      "outputs": []
    },
    {
      "cell_type": "code",
      "metadata": {
        "colab": {
          "base_uri": "https://localhost:8080/"
        },
        "id": "1V1s1G0W86BU",
        "outputId": "6d5f312e-e2af-45c1-8beb-80afcea43428"
      },
      "source": [
        "cat_vars"
      ],
      "execution_count": 43,
      "outputs": [
        {
          "output_type": "execute_result",
          "data": {
            "text/plain": [
              "['Store', 'DayOfWeek']"
            ]
          },
          "metadata": {},
          "execution_count": 43
        }
      ]
    },
    {
      "cell_type": "markdown",
      "metadata": {
        "id": "Nu0qXumr88Ri"
      },
      "source": [
        "## Store Embeddings"
      ]
    },
    {
      "cell_type": "code",
      "metadata": {
        "id": "Am7arYIX8-Hn"
      },
      "source": [
        "submodel = Model(cat_var_inputs + cont_vars_inputs, merged)"
      ],
      "execution_count": 44,
      "outputs": []
    },
    {
      "cell_type": "code",
      "metadata": {
        "colab": {
          "base_uri": "https://localhost:8080/"
        },
        "id": "svrOh2tc87d_",
        "outputId": "3363e3c2-3e77-497c-8bbb-896fbfdafccb"
      },
      "source": [
        "submodel.summary()"
      ],
      "execution_count": 45,
      "outputs": [
        {
          "output_type": "stream",
          "name": "stdout",
          "text": [
            "Model: \"model_1\"\n",
            "__________________________________________________________________________________________________\n",
            " Layer (type)                   Output Shape         Param #     Connected to                     \n",
            "==================================================================================================\n",
            " Store_input (InputLayer)       [(None, 1)]          0           []                               \n",
            "                                                                                                  \n",
            " DayOfWeek_input (InputLayer)   [(None, 1)]          0           []                               \n",
            "                                                                                                  \n",
            " Store_Embed (Embedding)        (None, 1, 50)        55750       ['Store_input[0][0]']            \n",
            "                                                                                                  \n",
            " DayOfWeek_Embed (Embedding)    (None, 1, 2)         14          ['DayOfWeek_input[0][0]']        \n",
            "                                                                                                  \n",
            " Store_flat (Flatten)           (None, 50)           0           ['Store_Embed[0][0]']            \n",
            "                                                                                                  \n",
            " DayOfWeek_flat (Flatten)       (None, 2)            0           ['DayOfWeek_Embed[0][0]']        \n",
            "                                                                                                  \n",
            " BeforeStateHoliday_bool_input   [(None, 1)]         0           []                               \n",
            " (InputLayer)                                                                                     \n",
            "                                                                                                  \n",
            " Max_TemperatureC_input (InputL  [(None, 1)]         0           []                               \n",
            " ayer)                                                                                            \n",
            "                                                                                                  \n",
            " All_Concatenate (Concatenate)  (None, 54)           0           ['Store_flat[0][0]',             \n",
            "                                                                  'DayOfWeek_flat[0][0]',         \n",
            "                                                                  'BeforeStateHoliday_bool_input[0\n",
            "                                                                 ][0]',                           \n",
            "                                                                  'Max_TemperatureC_input[0][0]'] \n",
            "                                                                                                  \n",
            "==================================================================================================\n",
            "Total params: 55,764\n",
            "Trainable params: 55,764\n",
            "Non-trainable params: 0\n",
            "__________________________________________________________________________________________________\n"
          ]
        }
      ]
    },
    {
      "cell_type": "code",
      "metadata": {
        "colab": {
          "base_uri": "https://localhost:8080/"
        },
        "id": "d0rggV9S9CG2",
        "outputId": "344489e4-9b83-402d-ff62-b5108c0d58f7"
      },
      "source": [
        "submodel.save('embeddings_model.hdf5')"
      ],
      "execution_count": 46,
      "outputs": [
        {
          "output_type": "stream",
          "name": "stdout",
          "text": [
            "WARNING:tensorflow:Compiled the loaded model, but the compiled metrics have yet to be built. `model.compile_metrics` will be empty until you train or evaluate the model.\n"
          ]
        }
      ]
    }
  ]
}